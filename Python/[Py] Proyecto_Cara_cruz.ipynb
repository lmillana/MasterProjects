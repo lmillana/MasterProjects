{
  "nbformat": 4,
  "nbformat_minor": 0,
  "metadata": {
    "colab": {
      "provenance": [],
      "include_colab_link": true
    },
    "kernelspec": {
      "name": "python3",
      "display_name": "Python 3"
    },
    "language_info": {
      "name": "python"
    }
  },
  "cells": [
    {
      "cell_type": "markdown",
      "metadata": {
        "id": "view-in-github",
        "colab_type": "text"
      },
      "source": [
        "<a href=\"https://colab.research.google.com/github/lmillana/MasterProjects/blob/main/%5BPy%5D%20Proyecto_Cara_cruz.ipynb\" target=\"_parent\"><img src=\"https://colab.research.google.com/assets/colab-badge.svg\" alt=\"Open In Colab\"/></a>"
      ]
    },
    {
      "cell_type": "markdown",
      "source": [
        "#Proyecto final introducción a Python\n",
        "\n",
        "Enhorabuena, si has llegado hasta aquí significa que has superado todos los módulos del curso. Antes de obtener tu certificado vamos a comprobar que hayas adquirido los conocimientos necesarios para avanzar. ¿Preparado para enfrentarte a tu primer proyecto final? ¡Seguro que sí!."
      ],
      "metadata": {
        "id": "zaprHaJdh7er"
      }
    },
    {
      "cell_type": "markdown",
      "source": [
        "##Lanzamiento de moneda simple\n",
        "\n",
        "Simula el lanzamiento de una moneda en la función es_cara.\n",
        "Asignaremos '+' para la cara de la moneda y '-' para la cruz de la moneda.\n",
        "Utiliza random.choice(['lista de posibilidades']) para que la función devuelva aleatoriamente '+' o '-'.\n",
        "\n",
        "Entrada\n",
        "\n",
        "      es_cara()\n",
        "\n",
        "Salida posible 1\n",
        "\n",
        "      '+'\n",
        "\n",
        "Salida posible 2\n",
        "\n",
        "      '-'\n"
      ],
      "metadata": {
        "id": "SzqbYMpJTYQ_"
      }
    },
    {
      "cell_type": "code",
      "source": [
        "import random\n",
        "\n",
        "#Define la función es_cara y sus parámetros si fueran necesarios.\n",
        "def es_cara():\n",
        "  return random.choice(['+', '-'])\n",
        "\n",
        "es_cara()\n",
        "\n",
        "if es_cara() == '+':\n",
        "  print('Cara')\n",
        "else:\n",
        "  print('Cruz')"
      ],
      "metadata": {
        "id": "gK98PmVDUQuL",
        "outputId": "bc3baf7c-d2c8-4841-bfed-e7868ac700f6",
        "colab": {
          "base_uri": "https://localhost:8080/"
        }
      },
      "execution_count": null,
      "outputs": [
        {
          "output_type": "stream",
          "name": "stdout",
          "text": [
            "Cara\n"
          ]
        }
      ]
    },
    {
      "cell_type": "code",
      "source": [
        "#@title Comprueba la función es_cara\n",
        "coin=es_cara()\n",
        "def check():\n",
        "  if coin=='+' or coin=='-':\n",
        "    return 'Correcto'\n",
        "  else:\n",
        "    return 'Incorrecto'\n",
        "check()"
      ],
      "metadata": {
        "id": "qaybKIgiWC9C",
        "cellView": "form",
        "outputId": "827a0131-7742-408c-d327-3d61c628823f",
        "colab": {
          "base_uri": "https://localhost:8080/",
          "height": 35
        }
      },
      "execution_count": null,
      "outputs": [
        {
          "output_type": "execute_result",
          "data": {
            "text/plain": [
              "'Correcto'"
            ],
            "application/vnd.google.colaboratory.intrinsic+json": {
              "type": "string"
            }
          },
          "metadata": {},
          "execution_count": 2
        }
      ]
    },
    {
      "cell_type": "markdown",
      "source": [
        "##Lanzamiento de moneda hasta obtener 3 caras o 3 cruces seguidas\n",
        "En la función lanzar_moneda() debes simular el lanzamiento de una moneda hasta que salga tres veces seguidas cara o tres veces seguidas cruz y devolverá la tirada\n",
        "\n",
        "Entrada\n",
        "\n",
        "      lanzar_moneda()\n",
        "\n",
        "Salida ejemplo\n",
        "\n",
        "      --+-+---\n"
      ],
      "metadata": {
        "id": "SZ8D5FHBRvAm"
      }
    },
    {
      "cell_type": "code",
      "execution_count": null,
      "metadata": {
        "id": "a4lRQskORorR",
        "colab": {
          "base_uri": "https://localhost:8080/",
          "height": 53
        },
        "outputId": "9fe84260-82bc-457c-b9ad-e2e461f3fcf1"
      },
      "outputs": [
        {
          "output_type": "stream",
          "name": "stdout",
          "text": [
            "Ahí tienes tus 3 valores seguidos -+-+--+-+--+++\n"
          ]
        },
        {
          "output_type": "execute_result",
          "data": {
            "text/plain": [
              "'+'"
            ],
            "application/vnd.google.colaboratory.intrinsic+json": {
              "type": "string"
            }
          },
          "metadata": {},
          "execution_count": 39
        }
      ],
      "source": [
        "import random\n",
        "\n",
        "#Define la función lanzar_moneda y sus parámetros si fueran necesarios.\n",
        "cara = 0\n",
        "cruz = 0\n",
        "throws = ''\n",
        "\n",
        "def lanzar_moneda():\n",
        "  return random.choice(['+', '-'])\n",
        "\n",
        "while lanzar_moneda():\n",
        "  coin = lanzar_moneda() #Lanzamos moneda\n",
        "  #print(f'Tirada: {coin}')\n",
        "\n",
        "  if coin == '+':\n",
        "    cara += 1\n",
        "    cruz = 0\n",
        "    throws += coin\n",
        "    #print(f'Cara: {cara}, Cruz: {cruz} y salida: {throws}')\n",
        "  else:\n",
        "  #coin == '-':\n",
        "    cruz += 1\n",
        "    cara = 0\n",
        "    throws += coin\n",
        "    #print(f'Cara: {cara}, Cruz: {cruz} y salida: {throws}')\n",
        "\n",
        "  if cara == 3 or cruz == 3:\n",
        "    print(f'Ahí tienes tus 3 valores seguidos {throws}')\n",
        "    break\n",
        "\n",
        "lanzar_moneda()"
      ]
    },
    {
      "cell_type": "code",
      "source": [
        "#@title Comprueba la función lanzar_moneda\n",
        "def check2():\n",
        "  coin2=lanzar_moneda()\n",
        "  if coin2[-3:]=='+++' or coin2[-3:]=='---':\n",
        "    return 'Correcto'\n",
        "  else:\n",
        "    return 'Incorrecto'\n",
        "check2()"
      ],
      "metadata": {
        "id": "P_N_FoPNa0Hb",
        "cellView": "form"
      },
      "execution_count": null,
      "outputs": []
    },
    {
      "cell_type": "markdown",
      "source": [
        "## ¿Cuantas tiradas son necesarias de media para conseguir 3 veces seguidas cara o cruz n veces?\n",
        "\n",
        "\n",
        "Crea la función n_lanzamientos que tome como parámetro el número de veces que se desea obtener 3 veces cara o 3 veces cruz.\n",
        "\n",
        "La función debe:\n",
        "* Lanzar la moneda hasta conseguir 3 caras o 3 cruces tantas veces como el número introducido por parámetro.\n",
        "* Mostrar las tiradas realizadas y la media de tiradas necesarias para obtener 3 caras o crices.\n",
        "* Devolver una lista con el número de tiradas realizada en cada uno de los intentos.\n",
        "\n",
        "Ejemplo\n",
        "\n",
        "      n_lanzamientos (5)\n",
        "\n",
        "Salida\n",
        "\n",
        "      --++-+-+++\n",
        "      +--+---\n",
        "      +--+---\n",
        "      +---\n",
        "      -+++\n",
        "      6.4\n",
        "      [10, 7, 7, 4, 4]\n",
        "\n",
        "Recuerda que la función solo debe devolver la lista."
      ],
      "metadata": {
        "id": "GYDcgBt4Th-9"
      }
    },
    {
      "cell_type": "code",
      "source": [
        "#Define la función n_lanzamientos y sus parámetros si fueran necesarios.\n",
        "\n",
        "import random\n",
        "\n",
        "def lanzar_moneda():\n",
        "  return random.choice(['+', '-'])\n",
        "\n",
        "def n_lanzamientos(n):\n",
        "  cara = 0 #Numero de caras consecutivas\n",
        "  cruz = 0 #Numero de cruces consecutivas\n",
        "  throws = '' #Almacena la tirada\n",
        "  list_throws = [] #Almacena en num de tiradas x cada iteración\n",
        "\n",
        "  while n > 0:\n",
        "    coin = lanzar_moneda() #Lanzamos moneda\n",
        "    #print(f'Tirada: {coin}')\n",
        "\n",
        "    #Comprobamos que\n",
        "    if coin == '+': #Si es cara consecutiva\n",
        "      cara += 1\n",
        "      cruz = 0 #Reiniciamos el contadores de cruces\n",
        "\n",
        "    else:\n",
        "    #coin == '-': # Si es cruz consecutiva:\n",
        "      cruz += 1\n",
        "      cara = 0 #Reiniciamos el contadores de caras\n",
        "\n",
        "    throws += coin #Añadimos al registo de tiradas\n",
        "\n",
        "    # Comprobamos si hay 3 valores consecutivos:\n",
        "    if cara == 3 or cruz == 3:\n",
        "      print(throws)\n",
        "      list_throws.append(len(throws)) #Lista con el num de tiradas x iteración\n",
        "      n -= 1\n",
        "      cara = 0 #Reiniciamos valores para próxima tirada\n",
        "      cruz = 0 #Reiniciamos valores para próxima tirada\n",
        "      throws = '' #Reiniciamos valores para próxima tirada\n",
        "\n",
        "\n",
        "  #Calculamos la media de tiradas\n",
        "  media = sum(list_throws)/len(list_throws)\n",
        "  print(media)\n",
        "\n",
        "  return list_throws\n",
        "\n",
        "n = int(input('Numero de veces que quieres lanzar: '))\n",
        "n_lanzamientos(n)\n"
      ],
      "metadata": {
        "id": "zoWhZFy4TiX1",
        "colab": {
          "base_uri": "https://localhost:8080/"
        },
        "outputId": "0bd04026-1985-450c-cda1-97377dc3e8ac"
      },
      "execution_count": null,
      "outputs": [
        {
          "output_type": "stream",
          "name": "stdout",
          "text": [
            "Numero de veces que quieres lanzar: 10\n",
            "---\n",
            "+++\n",
            "---\n",
            "---\n",
            "++-+-+-+-+-+--+++\n",
            "++-++-+---\n",
            "--+-+-+--+++\n",
            "+--++--+--++-+++\n",
            "-++-++--+++\n",
            "--+--+++\n",
            "8.6\n"
          ]
        },
        {
          "output_type": "execute_result",
          "data": {
            "text/plain": [
              "[3, 3, 3, 3, 17, 10, 12, 16, 11, 8]"
            ]
          },
          "metadata": {},
          "execution_count": 46
        }
      ]
    },
    {
      "cell_type": "code",
      "source": [
        "#@title Comprueba la función n_lanzamientos\n",
        "def check3():\n",
        "  coin3=n_lanzamientos(10)\n",
        "  tres_mas=[True for lanz in coin3 if lanz>=3]\n",
        "  if len(coin3)==10 and sum(tres_mas)==10:\n",
        "    return 'Correcto'\n",
        "  else:\n",
        "    return 'Incorrecto'\n",
        "check3()"
      ],
      "metadata": {
        "id": "66MoJleNb0Af",
        "colab": {
          "base_uri": "https://localhost:8080/",
          "height": 232
        },
        "cellView": "form",
        "outputId": "6fd68bfa-0f3c-4f9b-8df8-2ff3e0a5ea79"
      },
      "execution_count": null,
      "outputs": [
        {
          "output_type": "stream",
          "name": "stdout",
          "text": [
            "+-+--+-+-++-+-+-+---\n",
            "---\n",
            "-++-+---\n",
            "+++\n",
            "-+-++-+++\n",
            "--++-+++\n",
            "---\n",
            "+++\n",
            "+-+++\n",
            "+-+--+-+-+++\n",
            "7.4\n"
          ]
        },
        {
          "output_type": "execute_result",
          "data": {
            "text/plain": [
              "'Correcto'"
            ],
            "application/vnd.google.colaboratory.intrinsic+json": {
              "type": "string"
            }
          },
          "metadata": {},
          "execution_count": 47
        }
      ]
    },
    {
      "cell_type": "code",
      "source": [
        "#@title Consigue el token para corregir en Nodd3r\n",
        "\n",
        "import hashlib\n",
        "uno=check()\n",
        "dos=check2()\n",
        "tres=check3()\n",
        "pwd = hashlib.sha256(str(uno+dos+tres).encode())\n",
        "if pwd.hexdigest()[0:6] == '3d17f9':\n",
        "  print('¡Felicidades! puedes avanzar al siguiente modulo \\n El token es: ',pwd.hexdigest())\n",
        "else:\n",
        "  print('Hay algún error en el código o tu forma es diferente a la planteada, pregunta por el foro si no lo ves claro.')\n",
        "\n",
        "\n"
      ],
      "metadata": {
        "id": "L2ojBza4fYQ_",
        "colab": {
          "base_uri": "https://localhost:8080/",
          "height": 250
        },
        "outputId": "ef526ba0-a6aa-4ee1-8825-fe7fb70201cd",
        "cellView": "form"
      },
      "execution_count": null,
      "outputs": [
        {
          "output_type": "error",
          "ename": "NameError",
          "evalue": "ignored",
          "traceback": [
            "\u001b[0;31m---------------------------------------------------------------------------\u001b[0m",
            "\u001b[0;31mNameError\u001b[0m                                 Traceback (most recent call last)",
            "\u001b[0;32m<ipython-input-48-3785ee724334>\u001b[0m in \u001b[0;36m<cell line: 5>\u001b[0;34m()\u001b[0m\n\u001b[1;32m      3\u001b[0m \u001b[0;32mimport\u001b[0m \u001b[0mhashlib\u001b[0m\u001b[0;34m\u001b[0m\u001b[0;34m\u001b[0m\u001b[0m\n\u001b[1;32m      4\u001b[0m \u001b[0muno\u001b[0m\u001b[0;34m=\u001b[0m\u001b[0mcheck\u001b[0m\u001b[0;34m(\u001b[0m\u001b[0;34m)\u001b[0m\u001b[0;34m\u001b[0m\u001b[0;34m\u001b[0m\u001b[0m\n\u001b[0;32m----> 5\u001b[0;31m \u001b[0mdos\u001b[0m\u001b[0;34m=\u001b[0m\u001b[0mcheck2\u001b[0m\u001b[0;34m(\u001b[0m\u001b[0;34m)\u001b[0m\u001b[0;34m\u001b[0m\u001b[0;34m\u001b[0m\u001b[0m\n\u001b[0m\u001b[1;32m      6\u001b[0m \u001b[0mtres\u001b[0m\u001b[0;34m=\u001b[0m\u001b[0mcheck3\u001b[0m\u001b[0;34m(\u001b[0m\u001b[0;34m)\u001b[0m\u001b[0;34m\u001b[0m\u001b[0;34m\u001b[0m\u001b[0m\n\u001b[1;32m      7\u001b[0m \u001b[0mpwd\u001b[0m \u001b[0;34m=\u001b[0m \u001b[0mhashlib\u001b[0m\u001b[0;34m.\u001b[0m\u001b[0msha256\u001b[0m\u001b[0;34m(\u001b[0m\u001b[0mstr\u001b[0m\u001b[0;34m(\u001b[0m\u001b[0muno\u001b[0m\u001b[0;34m+\u001b[0m\u001b[0mdos\u001b[0m\u001b[0;34m+\u001b[0m\u001b[0mtres\u001b[0m\u001b[0;34m)\u001b[0m\u001b[0;34m.\u001b[0m\u001b[0mencode\u001b[0m\u001b[0;34m(\u001b[0m\u001b[0;34m)\u001b[0m\u001b[0;34m)\u001b[0m\u001b[0;34m\u001b[0m\u001b[0;34m\u001b[0m\u001b[0m\n",
            "\u001b[0;31mNameError\u001b[0m: name 'check2' is not defined"
          ]
        }
      ]
    }
  ]
}
