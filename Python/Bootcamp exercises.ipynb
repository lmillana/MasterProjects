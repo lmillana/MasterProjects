{
  "nbformat": 4,
  "nbformat_minor": 0,
  "metadata": {
    "colab": {
      "provenance": [],
      "authorship_tag": "ABX9TyOBKdCRiDSjyZT/A3als9J1",
      "include_colab_link": true
    },
    "kernelspec": {
      "name": "python3",
      "display_name": "Python 3"
    },
    "language_info": {
      "name": "python"
    }
  },
  "cells": [
    {
      "cell_type": "markdown",
      "metadata": {
        "id": "view-in-github",
        "colab_type": "text"
      },
      "source": [
        "<a href=\"https://colab.research.google.com/github/lmillana/MasterProjects/blob/main/Python/Bootcamp%20exercises.ipynb\" target=\"_parent\"><img src=\"https://colab.research.google.com/assets/colab-badge.svg\" alt=\"Open In Colab\"/></a>"
      ]
    },
    {
      "cell_type": "markdown",
      "source": [
        "***SESIÓN 1 BOOTCAMP***"
      ],
      "metadata": {
        "id": "iridVFl7qCyl"
      }
    },
    {
      "cell_type": "markdown",
      "source": [
        "EJERCICIO 5 - Botellas de depósito\n",
        "Tenemos botellas pequeñas y grandes para depositar en un cubo de reciclaje.\n",
        "Nos dará 0.1 € por las botellas pequeñas y 0.25€ por las grandes.\n",
        "Calcula el dinero que devuelve según las botellas de cada tipo que depositemos.\n"
      ],
      "metadata": {
        "id": "Rk03Z6hREjs5"
      }
    },
    {
      "cell_type": "code",
      "execution_count": null,
      "metadata": {
        "colab": {
          "base_uri": "https://localhost:8080/"
        },
        "id": "x5b2rF5xEi3-",
        "outputId": "88227b36-2c4c-4a83-a75f-9752343c5360"
      },
      "outputs": [
        {
          "output_type": "stream",
          "name": "stdout",
          "text": [
            "Numero de botellas pequeñas: 1\n",
            "Numero de botellas grandes: 1\n",
            "Your total refund will be $0.35.\n"
          ]
        }
      ],
      "source": [
        "small = int(input('Numero de botellas pequeñas: '))\n",
        "big = int(input('Numero de botellas grandes: '))\n",
        "\n",
        "price_small = 0.1\n",
        "price_big = 0.25\n",
        "\n",
        "def toCount(small, big):\n",
        "  total = price_small * small + price_big * big\n",
        "  return total\n",
        "\n",
        "#print('Te llevas ', toCount(small, big), '€')\n",
        "\n",
        "refund = toCount(small, big)\n",
        "print(\"Your total refund will be $%.2f.\" %refund)"
      ]
    },
    {
      "cell_type": "markdown",
      "source": [
        "EJERCICIO 6 - ORDENAR 3 VALORES\n",
        "Debemos pedir tres valores y ordenarlos de mayor a menor."
      ],
      "metadata": {
        "id": "RGhxrRHkHkeI"
      }
    },
    {
      "cell_type": "code",
      "source": [
        "myList = []\n",
        "\n",
        "num1 = int(input('Dime un numero: '))\n",
        "myList.append(num1)\n",
        "num2 = int(input('Dime un numero: '))\n",
        "myList.append(num2)\n",
        "num3 = int(input('Dime un numero: '))\n",
        "myList.append(num3)\n",
        "\n",
        "myList.sort(reverse=True)\n",
        "\n",
        "print('Numeros de mayor a menor: ', myList)\n",
        "\n",
        "\"\"\" Si no queremos utilizar listas:\n",
        "#Ordenar de mayor a menor\n",
        "mayor = max(num1, num2, num3)\n",
        "menor = min(num1, num2, num3)\n",
        "medio = (num1 + num2 + num3) - (mayor + menor)\n",
        "\n",
        "print(mayor, medio, menor)\"\"\"\n"
      ],
      "metadata": {
        "colab": {
          "base_uri": "https://localhost:8080/"
        },
        "id": "WG1VaUlCHu0Q",
        "outputId": "b311b311-a8cc-4eba-bb06-6f0613c0d96e"
      },
      "execution_count": null,
      "outputs": [
        {
          "output_type": "stream",
          "name": "stdout",
          "text": [
            "Dime un numero: 3\n",
            "Dime un numero: 33\n",
            "Dime un numero: 333\n",
            "Numeros de mayor a menor:  [333, 33, 3]\n"
          ]
        }
      ]
    },
    {
      "cell_type": "markdown",
      "source": [
        "***SESIÓN 2 BOOTCAMP***"
      ],
      "metadata": {
        "id": "B2rXK3mHqUes"
      }
    },
    {
      "cell_type": "markdown",
      "source": [
        "EJERCICIO 1 - Determinar si una letra es vocal o consonante\n"
      ],
      "metadata": {
        "id": "EHR_nA7qqY6j"
      }
    },
    {
      "cell_type": "code",
      "source": [
        "# Pedimos la letra y la pasamos a minusculas:\n",
        "letter = input('Enter a letter: ').lower()\n",
        "\n",
        "\n",
        "def isVocal(letter):\n",
        "  #if string == 'a' or string == 'e' or string == 'i' or string == 'o' or string == 'u':\n",
        "  if letter in 'aeiou':\n",
        "    print('Es vocal')\n",
        "  else:\n",
        "    print('Es consonante')\n",
        "\n",
        "isVocal(letter)"
      ],
      "metadata": {
        "colab": {
          "base_uri": "https://localhost:8080/"
        },
        "id": "_aoEF4h3qciC",
        "outputId": "54849a0f-b7c4-4e74-ec0f-17f54cb03299"
      },
      "execution_count": null,
      "outputs": [
        {
          "output_type": "stream",
          "name": "stdout",
          "text": [
            "Dime una letra: h\n",
            "Es consonante\n"
          ]
        }
      ]
    },
    {
      "cell_type": "markdown",
      "source": [
        "EJERCICIO 2 - Determinar qué estación del año es en función de una fecha\n",
        "\n",
        "\n",
        "**Primavera** - desde el 23 de Marzo, Abril, Mayo\n",
        "hasta el 23 de Junio\n",
        "\n",
        "**Verano** - desde el 24 de Junio, Julio, Agosto hasta el 21 de Septiembre\n",
        "\n",
        "**Otoño**- desde el 22 de Septiembre, Octubre, Noviembre hasta el 22 de Diciembre\n",
        "\n",
        "**Invierno** - desde el 23 de Diciembre, Enero, Febrero hasta el 22 de Marzo\n",
        "\n"
      ],
      "metadata": {
        "id": "5ijy7cRYs59x"
      }
    },
    {
      "cell_type": "code",
      "source": [
        "date = int(input('Choose a day: '))\n",
        "month = input('Choose a month: ').lower()\n",
        "\n",
        "summer = ['june', 'july', 'august', 'september']\n",
        "spring = ['march','april', 'may', 'june']\n",
        "autumn = ['september','october', 'november','december']\n",
        "winter = ['december','january', 'february','march']\n",
        "\n",
        "def isSummer(date, month):\n",
        "  #Comprobamos que la fecha sea correcta:\n",
        "  if date > 31:\n",
        "    print('Please, choose a day between 1-31')\n",
        "  else:\n",
        "    #SUMMER\n",
        "    if month in summer:\n",
        "      if month == 'june' and date < 24:\n",
        "        print('Spring time!')\n",
        "      elif month == 'september' and date > 21:\n",
        "        print('Autumn time!')\n",
        "      else:\n",
        "        print('Summer time!')\n",
        "    #SPRING\n",
        "    elif month in spring:\n",
        "      if month == 'march' and date < 23:\n",
        "        print('Winter time!')\n",
        "      elif month == 'june' and date > 24:\n",
        "        print('Summer time!')\n",
        "      else:\n",
        "        print('Spring time!')\n",
        "    #AUTUMN\n",
        "    elif month in autumn:\n",
        "      if month == 'september' and date < 22:\n",
        "        print('Summer time!')\n",
        "      elif month == 'december' and date > 22:\n",
        "        print('Winter time!')\n",
        "      else:\n",
        "        print('Autumn time!')\n",
        "    #WINTER\n",
        "    elif month in winter:\n",
        "      if month == 'december' and date < 23:\n",
        "        print('Autumn time!')\n",
        "      elif month == 'march' and date > 22:\n",
        "        print('Spring time!')\n",
        "      else:\n",
        "        print('Winter time!')\n",
        "    else:\n",
        "      print('Wrong date. Please, try again')\n",
        "\n",
        "isSummer(date, month)\n"
      ],
      "metadata": {
        "colab": {
          "base_uri": "https://localhost:8080/"
        },
        "id": "_fyTzMZ3uK1l",
        "outputId": "73b3f912-70e4-4ae5-da4a-87b7b1f6cb22"
      },
      "execution_count": null,
      "outputs": [
        {
          "output_type": "stream",
          "name": "stdout",
          "text": [
            "Choose a day: 34\n",
            "Choose a month: agosto\n",
            "Please, choose a day between 1-31\n"
          ]
        }
      ]
    },
    {
      "cell_type": "markdown",
      "source": [
        "EJERCICIO 3 - PRECIO DE ENTRADAS\n",
        "\n",
        "El taquillero preguntará:\n",
        "\n",
        "1.   Si quieres entradas\n",
        "2.   Cuántas quieres según qué tipo de entrada\n",
        "\n",
        "Se devolverá el precio total"
      ],
      "metadata": {
        "id": "5e-28gun9FVE"
      }
    },
    {
      "cell_type": "code",
      "source": [
        "# OPCIÓN 1 - MODO EASY\n",
        "# PRICES\n",
        "child_price = 14\n",
        "adult_price = 23\n",
        "senior_price = 18\n",
        "\n",
        "answer = input('¿Quieres comprar entradas? ').lower()\n",
        "\n",
        "def toAsk(answer):\n",
        "  if answer == 'si':\n",
        "    print('Elige cuántas entradas quieres ')\n",
        "    baby = int(input('Entradas de bebé (menor de 2): '))\n",
        "    child = int(input('Entradas de niño (menor de 14): '))\n",
        "    adult = int(input('Entradas de adulto: '))\n",
        "    senior = int(input('Entradas de senior (más de 65): '))\n",
        "    # Calculamos el precio total\n",
        "    total = child_price * child + adult_price * adult + senior_price * senior\n",
        "\n",
        "    return total\n",
        "  else:\n",
        "    return 0\n",
        "\n",
        "print('Debe abonar', toAsk(answer), '€' )"
      ],
      "metadata": {
        "colab": {
          "base_uri": "https://localhost:8080/"
        },
        "id": "RAbzrBHl9bLH",
        "outputId": "ac4e7f81-0208-4de5-97a9-1b06c4787430"
      },
      "execution_count": null,
      "outputs": [
        {
          "output_type": "stream",
          "name": "stdout",
          "text": [
            "¿Quieres comprar entradas? no\n",
            "Debe abonar 0 €\n"
          ]
        }
      ]
    },
    {
      "cell_type": "code",
      "source": [
        "# OPCIÓN 2 - MODO NOT SO EASY\n",
        "# PRICES\n",
        "baby_price = 0\n",
        "child_price = 14\n",
        "adult_price = 23\n",
        "senior_price = 18\n",
        "\n",
        "answer = input('¿Quieres comprar entradas? ').lower()\n",
        "\n",
        "def toAsk(answer):\n",
        "  total = 0\n",
        "  while answer == 'si':\n",
        "      age = int(input('Edad del espectador: '))\n",
        "\n",
        "      # Calculamos numero de entradas\n",
        "      if age <= 2:\n",
        "        fee = baby_price\n",
        "      elif 3 <= age <= 14:\n",
        "        fee = child_price\n",
        "      elif 14 < age <= 64:\n",
        "        fee = adult_price\n",
        "      else:\n",
        "        fee = senior_price\n",
        "\n",
        "      total += fee\n",
        "      answer = input('¿Quieres más entradas? ').lower()\n",
        "\n",
        "  return total\n",
        "\n",
        "print('Debe abonar', toAsk(answer), '€' )\n"
      ],
      "metadata": {
        "colab": {
          "base_uri": "https://localhost:8080/"
        },
        "id": "XpEnr0lHBoaO",
        "outputId": "09fbc068-cc53-4d6e-a9d8-ffc2f1d386da"
      },
      "execution_count": null,
      "outputs": [
        {
          "output_type": "stream",
          "name": "stdout",
          "text": [
            "¿Quieres comprar entradas? no\n",
            "Debe abonar 0 €\n"
          ]
        }
      ]
    },
    {
      "cell_type": "markdown",
      "source": [
        "EJERCICIO 5\n",
        "\n",
        "Ordenar numeros introducidos por el usuario en orden ascendente"
      ],
      "metadata": {
        "id": "Sux7nRrhWCWr"
      }
    },
    {
      "cell_type": "code",
      "source": [
        "def asking():\n",
        "  myList = []\n",
        "  num = int(input('Introduce un numero (0 para salir): '))\n",
        "  while num != 0:\n",
        "    myList.append(num)\n",
        "    num = int(input('Introduce un numero: '))\n",
        "\n",
        "  #Ordenamos la lista\n",
        "  myList.sort()\n",
        "\n",
        "  #for i in myList:\n",
        "    #print(i)\n",
        "  return myList\n",
        "\n",
        "asking()"
      ],
      "metadata": {
        "colab": {
          "base_uri": "https://localhost:8080/"
        },
        "id": "oIq0Qm18WHxn",
        "outputId": "02805f22-9e31-470a-cfe8-56bea1ffa0ac"
      },
      "execution_count": null,
      "outputs": [
        {
          "output_type": "stream",
          "name": "stdout",
          "text": [
            "Introduce un numero (0 para salir): 4\n",
            "Introduce un numero: 8\n",
            "Introduce un numero: 2\n",
            "Introduce un numero: 0\n",
            "2\n",
            "4\n",
            "8\n"
          ]
        },
        {
          "output_type": "execute_result",
          "data": {
            "text/plain": [
              "[2, 4, 8]"
            ]
          },
          "metadata": {},
          "execution_count": 70
        }
      ]
    },
    {
      "cell_type": "markdown",
      "source": [
        "***SESIÓN 3 BOOTCAMP***\n"
      ],
      "metadata": {
        "id": "tIyet3pNrw9x"
      }
    },
    {
      "cell_type": "markdown",
      "source": [
        "EJERCICIO 6\n",
        "\n",
        "Crea un programa que calcule la suma de dos numeros introducidos por el usuario, ignorando las entradas no numéricas.\n",
        "\n",
        "El programa deberá pedir valor al usuario hasta que ponga un cero.\n",
        "Si el usuario no introduce un numero, deberá arrogar un error."
      ],
      "metadata": {
        "id": "sH-9yFSxr1Kz"
      }
    },
    {
      "cell_type": "code",
      "source": [
        "def toAsk():\n",
        "  num = input('Introduce un numero: ')\n",
        "  total = 0\n",
        "  while num != 0 :\n",
        "    try:\n",
        "      total += int(num)\n",
        "      num = int(input('Introduce un numero: '))\n",
        "\n",
        "    except ValueError:\n",
        "      return 'Debes introducir un numero'\n",
        "\n",
        "  return f'El resultado de la suma es {total}'\n",
        "\n",
        "toAsk()"
      ],
      "metadata": {
        "colab": {
          "base_uri": "https://localhost:8080/",
          "height": 71
        },
        "id": "Mp9_NnTgsGBb",
        "outputId": "ee821052-c4fe-4d61-b76c-0a5104ee52b5"
      },
      "execution_count": null,
      "outputs": [
        {
          "name": "stdout",
          "output_type": "stream",
          "text": [
            "Introduce un numero: 2\n",
            "Introduce un numero: z\n"
          ]
        },
        {
          "output_type": "execute_result",
          "data": {
            "text/plain": [
              "'Debes introducir un numero'"
            ],
            "application/vnd.google.colaboratory.intrinsic+json": {
              "type": "string"
            }
          },
          "metadata": {},
          "execution_count": 16
        }
      ]
    },
    {
      "cell_type": "markdown",
      "source": [
        "EJERCICIO 7\n",
        "\n",
        "Generar una contraseña uniendo dos palabras aleatorias.\n",
        "\n",
        "La contraseña tendrá entre 8 y 10 caracteres y cada palabra será de al menos 3 letras y como máximo de 7 letras.\n",
        "La contraseña se creará uniendo dos palabras.\n",
        "\n",
        "\n",
        "\n",
        "1.   Primero, se creará un archivo txt llamado words.txt\n",
        "2.   Se guardarán las palabras introducidas por el usuario en ese archivo.\n",
        "3.   Después, cogerá palabras aleatorias de ese archivo y las unirá, teniendo en cuenta que la contraseña sea entre 8 y 10 caracteres.\n",
        "\n",
        "\n",
        "\n",
        "\n",
        "\n",
        "\n",
        "\n",
        "\n"
      ],
      "metadata": {
        "id": "WvKcoW_ayUcN"
      }
    },
    {
      "cell_type": "code",
      "source": [
        "from random import randrange\n",
        "import re\n",
        "\n",
        "txt = 'words.txt'\n",
        "\n",
        "# Escribimos en el fichero:\n",
        "def adding():\n",
        "\n",
        "  f = open(txt, 'a') #Abrimos\n",
        "\n",
        "  words = input('Introduce una palabra: ').lower()\n",
        "  #El bucle termina al darle al Enter\n",
        "  while words != \"\":\n",
        "    # Solo añade si la palabra tiene entre 3 y 7 letras:\n",
        "    if 3 <= len(words) <= 7:\n",
        "      f.write(words)\n",
        "      f.write(',')\n",
        "    #Seguimos pidiendo:\n",
        "    words = input('Introduce una palabra: ').lower()\n",
        "\n",
        "  f.close() # Cerramos modo escritura\n",
        "\n",
        "  return txt\n",
        "\n",
        "def password(txt):\n",
        "  f = open(txt, 'r') #Abrimos modo lectura\n",
        "  psw = f.read()\n",
        "  f.close() #Cerramos modo lectura\n",
        "\n",
        "  #Si utilizaramos f.readlines(no haría falta este paso)\n",
        "  # Creamos una lista con las palabras separadas x la coma\n",
        "  psw = re.split(',', psw)\n",
        "\n",
        "  #Elegimos una palabra aleatoria dentro de la lista psw y\n",
        "  # ponemos la primera letra en Mayusculas:\n",
        "  final_psw = psw[randrange(0, len(psw))].capitalize()\n",
        "\n",
        "  while len(final_psw) <= 8:\n",
        "    #Añadimos más palabras a la password:\n",
        "    final_psw += psw[randrange(0, len(psw))].capitalize()\n",
        "\n",
        "  return final_psw\n",
        "\n",
        "adding()\n",
        "password(txt)\n"
      ],
      "metadata": {
        "colab": {
          "base_uri": "https://localhost:8080/",
          "height": 125
        },
        "id": "B9njAz93zBQb",
        "outputId": "d66f0e6f-c328-46d0-850b-67a62b53dea8"
      },
      "execution_count": null,
      "outputs": [
        {
          "output_type": "stream",
          "name": "stdout",
          "text": [
            "Introduce una palabra: leyreee\n",
            "Introduce una palabra: \n",
            "Mi primera psw:  Mec\n",
            "Dentro del bucle:  Mec\n",
            "Añadiendo bucle:  MecLeyreee\n"
          ]
        },
        {
          "output_type": "execute_result",
          "data": {
            "text/plain": [
              "'MecLeyreee'"
            ],
            "application/vnd.google.colaboratory.intrinsic+json": {
              "type": "string"
            }
          },
          "metadata": {},
          "execution_count": 70
        }
      ]
    },
    {
      "cell_type": "markdown",
      "source": [
        "EJERCICIO 7\n",
        "\n",
        "Escribe una frase en la que hables de un perro y una anciana.\n",
        "\n",
        "El programa deberá corregir si el texto habla de ellos, y las veces que habla.\n",
        "\n",
        "Después deberá cambiar el perror por el gato en nuevo texto."
      ],
      "metadata": {
        "id": "xyik30BGszU4"
      }
    },
    {
      "cell_type": "code",
      "source": [
        "import re\n",
        "\n",
        "# Creo mi archivo\n",
        "phrase = 'Habia una vez un perro sin dueño que encontró una anciana y le gusto el perro'\n",
        "\n",
        "# Buscamos si está la palabra dog:\n",
        "if re.findall('perro', phrase):\n",
        "  print('He encontrado la palabra perro: ', len(re.findall('perro', phrase)))\n",
        "if re.findall('anciana', phrase):\n",
        "  print('He encontrado la palabra anciana', len(re.findall('anciana', phrase)))\n",
        "\n",
        "#Sustituimos:\n",
        "new_phrase = re.sub('perro', 'gato', phrase)\n",
        "print('El nuevo texto dice: \\n',new_phrase)\n"
      ],
      "metadata": {
        "colab": {
          "base_uri": "https://localhost:8080/"
        },
        "id": "1WTs5dK9s_Df",
        "outputId": "d60e75f0-00e7-4486-f7d0-b32f8e454137"
      },
      "execution_count": null,
      "outputs": [
        {
          "output_type": "stream",
          "name": "stdout",
          "text": [
            "He encontrado la palabra perro:  2\n",
            "He encontrado la palabra anciana 1\n",
            "El nuevo texto dice: \n",
            " Habia una vez un gato sin dueño que encontro una anciana y le gusto el gato\n"
          ]
        }
      ]
    },
    {
      "cell_type": "markdown",
      "source": [
        "***SESIÓN 4 BOOTCAMP***"
      ],
      "metadata": {
        "id": "NmNV6fIc9s1f"
      }
    },
    {
      "cell_type": "markdown",
      "source": [
        "EJERCICIO 8\n",
        "\n",
        "Crea una función lamba que calcule el área de un cuadrilátero siendo este lado x lado"
      ],
      "metadata": {
        "id": "AhIdEzz19w3E"
      }
    },
    {
      "cell_type": "code",
      "source": [
        "\n",
        "num1 = int(input('Introduce un num para calcular el area: '))\n",
        "num2 = int(input('Introduce un num para calcular el area: '))\n",
        "area = lambda num1, num2: num1*num2\n",
        "\n",
        "print(area(num1, num2))\n"
      ],
      "metadata": {
        "colab": {
          "base_uri": "https://localhost:8080/"
        },
        "id": "QuLNNMD595iC",
        "outputId": "730a3827-68bd-4bea-d58e-8599ce80c35b"
      },
      "execution_count": null,
      "outputs": [
        {
          "output_type": "stream",
          "name": "stdout",
          "text": [
            "Introduce un num para calcular el area: 3\n",
            "Introduce un num para calcular el area: 4\n",
            "12\n"
          ]
        }
      ]
    },
    {
      "cell_type": "markdown",
      "source": [
        "EJERCICIO 9\n",
        "\n",
        "Crea un filter que dado un conjunto de palabras introducidas por el usuario, se quede con las que tengan 4 letras."
      ],
      "metadata": {
        "id": "LuRIkvKL_oAE"
      }
    },
    {
      "cell_type": "code",
      "source": [
        "word = input('Introduce una palabra: ')\n",
        "myList = []\n",
        "\n",
        "#Creo mi lista de palabras\n",
        "while word != '':\n",
        "  myList.append(word)\n",
        "  word = input('Introduce una palabra: ')\n",
        "\n",
        "my4List =list(filter(lambda i: len(i) == 4, myList))\n",
        "print(my4List)"
      ],
      "metadata": {
        "colab": {
          "base_uri": "https://localhost:8080/"
        },
        "id": "Q7f35ci3_yhe",
        "outputId": "a26ec60b-ae27-43f9-b30d-97a8fe980ff7"
      },
      "execution_count": null,
      "outputs": [
        {
          "output_type": "stream",
          "name": "stdout",
          "text": [
            "Introduce una palabra: hola\n",
            "Introduce una palabra: me\n",
            "Introduce una palabra: llamo\n",
            "Introduce una palabra: leyre\n",
            "Introduce una palabra: jeje\n",
            "Introduce una palabra: \n",
            "['hola', 'jeje']\n"
          ]
        }
      ]
    },
    {
      "cell_type": "markdown",
      "source": [
        "EJERCICIO 10\n",
        "\n",
        "Dada unas palabras introducidas por el usuario, devuelve una lista de esas palabras convertidas a mayúsculas."
      ],
      "metadata": {
        "id": "dCmZ17TVCmvj"
      }
    },
    {
      "cell_type": "code",
      "source": [
        "word = input('Introduce una palabra: ')\n",
        "myList = []\n",
        "\n",
        "#Creo mi lista de palabras\n",
        "while word != '':\n",
        "  myList.append(word)\n",
        "  word = input('Introduce una palabra: ')\n",
        "\n",
        "myUpperList =list(map(lambda i: i.upper(), myList))\n",
        "print(myUpperList)"
      ],
      "metadata": {
        "colab": {
          "base_uri": "https://localhost:8080/"
        },
        "id": "0TDIoZWsC0Ic",
        "outputId": "cb9e428a-ce00-4f20-d23c-5e9fad36eb72"
      },
      "execution_count": null,
      "outputs": [
        {
          "output_type": "stream",
          "name": "stdout",
          "text": [
            "Introduce una palabra: meh\n",
            "Introduce una palabra: no\n",
            "Introduce una palabra: se\n",
            "Introduce una palabra: \n",
            "['MEH', 'NO', 'SE']\n"
          ]
        }
      ]
    },
    {
      "cell_type": "markdown",
      "source": [
        "EJERCICIO 11\n",
        "\n",
        "Creamos una calculadora en Python.\n",
        "\n",
        "Crearás una clase calculadora que tenga los métodos sumar, restar, multriplicar y dividir.\n",
        "\n",
        "Debe pedir al usuario 2 numeros y después, llamaremos a los 4 métodos"
      ],
      "metadata": {
        "id": "U72cfibsDt-e"
      }
    },
    {
      "cell_type": "code",
      "source": [
        "class Calculadora:\n",
        "\n",
        "  def __init__(self, num1, num2):\n",
        "    self.num1 = num1\n",
        "    self.num2 = num2\n",
        "\n",
        "  def sumar(self, num1, num2):\n",
        "    return num1 + num2\n",
        "\n",
        "  def restar(self, num1, num2):\n",
        "    return num1 - num2\n",
        "\n",
        "  def multiplicar(self, num1, num2):\n",
        "    return num1 * num2\n",
        "\n",
        "  def dividir(self, num1, num2):\n",
        "    return num1 / num2\n",
        "\n",
        "#Solicitamos valores:\n",
        "num1 = int(input('Introduce el primer valor: '))\n",
        "num2 = int(input('Introduce el segundo valor: '))\n",
        "\n",
        "#Creamos nuestra variable clase Calculadora:\n",
        "myCalc = Calculadora(num1, num2)\n",
        "\n",
        "#Metodos:\n",
        "print('El resultado de la suma es ', myCalc.sumar(num1, num2))\n",
        "print('El resultado de la resta es ', myCalc.restar(num1, num2))\n",
        "print('El resultado de la multiplicacion es ', myCalc.multiplicar(num1, num2))\n",
        "print('El resultado de la division es ', myCalc.dividir(num1, num2))"
      ],
      "metadata": {
        "colab": {
          "base_uri": "https://localhost:8080/"
        },
        "id": "E7_dlOm1D5c9",
        "outputId": "280de677-f6f7-4cc0-908b-0a9719acfb02"
      },
      "execution_count": null,
      "outputs": [
        {
          "output_type": "stream",
          "name": "stdout",
          "text": [
            "Introduce el primer valor: 17\n",
            "Introduce el segundo valor: 5\n",
            "El resultado de la suma es  22\n",
            "El resultado de la resta es  12\n",
            "El resultado de la multiplicacion es  85\n",
            "El resultado de la division es  3.4\n"
          ]
        }
      ]
    }
  ]
}