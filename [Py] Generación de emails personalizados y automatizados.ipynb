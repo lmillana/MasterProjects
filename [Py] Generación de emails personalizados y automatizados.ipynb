{
  "cells": [
    {
      "cell_type": "markdown",
      "metadata": {
        "id": "view-in-github",
        "colab_type": "text"
      },
      "source": [
        "<a href=\"https://colab.research.google.com/github/lmillana/MasterProjects/blob/main/%5BPy%5D%20Generaci%C3%B3n%20de%20emails%20personalizados%20y%20automatizados.ipynb\" target=\"_parent\"><img src=\"https://colab.research.google.com/assets/colab-badge.svg\" alt=\"Open In Colab\"/></a>"
      ]
    },
    {
      "cell_type": "markdown",
      "metadata": {
        "id": "aOH7LGQfK39p"
      },
      "source": [
        "#Automatizar generación de Emails personalizados\n",
        "\n",
        "\n",
        "En este proyecto vamos a automatizar la generación de emails. Para ello os entregaremos una lista de correos ficticia de diferentes proveedores de emails (En lugar de utilizar gmail, yahoo y outlook usaremos vmail,gagoo y youtlook, para evitar que sean reales).\n",
        "\n"
      ]
    },
    {
      "cell_type": "markdown",
      "metadata": {
        "id": "3jajqiSZRl0b"
      },
      "source": [
        "# Crear el diccionario proveedor_usuarios\n",
        "\n",
        "Para empezar crearemos la clase y el primer método llamado proveedor_usuarios el cual recibirá una lista de correos como parámetro y devolverá el diccionario donde las claves serán los diferentes proveedores de correos y los valores la lista de nombres de usuario que utilizan dicho proveedor.\n",
        "\n",
        "Por ejemplo, en la dirreción de correo 'jimenez@gagoo.es' el nombre de usuario es 'jimenez' y su proveedor 'gagoo.es'.\n",
        "\n",
        "\n",
        "EJEMPLO\n",
        "* Entrada\n",
        "      Lista_emails=['garcia@vmail.es','sanchez@gagoo.es','pedro@youtlook.es','carlos@vmail.es','german@gagoo.es','pablo@youtlook.es','fernandez@vmail.es','jimenez@gagoo.es','edu.perez@youtlook.es','rubia.17@vmail.es','1995sanz@gagoo.es','donaire@youtlook.es','pascual@vmail.es','pantoja14@vmail.es','romero@gagoo.es']\n",
        "      Email().proveedor_usuarios(Lista_emails)\n",
        "\n",
        "* Salida\n",
        "      {'gagoo.es': ['sanchez', 'german', 'jimenez', '1995sanz', 'romero'], 'vmail.es': ['garcia', 'carlos', 'fernandez', 'rubia.17', 'pascual', 'pantoja14'], 'youtlook.es': ['pedro', 'pablo', 'edu.perez', 'donaire']}"
      ]
    },
    {
      "cell_type": "code",
      "execution_count": null,
      "metadata": {
        "colab": {
          "base_uri": "https://localhost:8080/"
        },
        "id": "jJeURjjBVKuf",
        "outputId": "cda5e97d-679a-4e2b-ae49-0382c03c9b1d"
      },
      "outputs": [
        {
          "output_type": "execute_result",
          "data": {
            "text/plain": [
              "{'vmail.es': ['garcia',\n",
              "  'carlos',\n",
              "  'fernandez',\n",
              "  'rubia.17',\n",
              "  'pascual',\n",
              "  'pantoja14'],\n",
              " 'gagoo.es': ['sanchez', 'german', 'jimenez', '1995sanz', 'romero'],\n",
              " 'youtlook.es': ['pedro', 'pablo', 'edu.perez', 'donaire']}"
            ]
          },
          "metadata": {},
          "execution_count": 1
        }
      ],
      "source": [
        "Lista_emails=['garcia@vmail.es','sanchez@gagoo.es','pedro@youtlook.es','carlos@vmail.es','german@gagoo.es','pablo@youtlook.es','fernandez@vmail.es','jimenez@gagoo.es','edu.perez@youtlook.es','rubia.17@vmail.es','1995sanz@gagoo.es','donaire@youtlook.es','pascual@vmail.es','pantoja14@vmail.es','romero@gagoo.es']\n",
        "\n",
        "#Define la clase Email y el método proveedor_usuarios\n",
        "class Email:\n",
        "\n",
        "  def __init__(self):\n",
        "    pass\n",
        "\n",
        "  def proveedor_usuarios(self, lista):\n",
        "    myDict = {}\n",
        "\n",
        "\n",
        "    for i in lista:\n",
        "      user, domain = i.split('@') #Separamos user de dominio\n",
        "\n",
        "      if domain in myDict: #Si el dominio está en el diccionario:\n",
        "        if user in myDict[domain]: #Si el usuario está repetido:\n",
        "          print(f'Usuario {user} repetido')\n",
        "        else:\n",
        "          myDict[domain].append(user)\n",
        "      else:\n",
        "        myDict[domain] = [user]\n",
        "\n",
        "    return myDict\n",
        "\n",
        "mis_emails = Email()\n",
        "mis_emails.proveedor_usuarios(Lista_emails)\n",
        "\n"
      ]
    },
    {
      "cell_type": "code",
      "execution_count": null,
      "metadata": {
        "id": "uASh1GefrpQh",
        "colab": {
          "base_uri": "https://localhost:8080/",
          "height": 35
        },
        "outputId": "92945608-fe76-4bc6-f31c-0cead11d218d",
        "cellView": "form"
      },
      "outputs": [
        {
          "output_type": "execute_result",
          "data": {
            "text/plain": [
              "'Correcto'"
            ],
            "application/vnd.google.colaboratory.intrinsic+json": {
              "type": "string"
            }
          },
          "metadata": {},
          "execution_count": 2
        }
      ],
      "source": [
        "#@title Comprueba el método proveedor_usuarios\n",
        "lista_check=['a1@hola.com','a2@adios.es','b1@hola.com']\n",
        "def check():\n",
        "  if Email().proveedor_usuarios(Lista_emails)=={'gagoo.es': ['sanchez', 'german', 'jimenez', '1995sanz', 'romero'], 'vmail.es': ['garcia', 'carlos', 'fernandez', 'rubia.17', 'pascual', 'pantoja14'], 'youtlook.es': ['pedro', 'pablo', 'edu.perez', 'donaire']} and Email().proveedor_usuarios(lista_check)=={'adios.es': ['a2'], 'hola.com': ['a1', 'b1']}:\n",
        "    return 'Correcto'\n",
        "  else:\n",
        "    return 'Incorrecto'\n",
        "\n",
        "check()"
      ]
    },
    {
      "cell_type": "markdown",
      "metadata": {
        "id": "Y0_ErXeSaZK_"
      },
      "source": [
        "## Método mensaje\n",
        "\n",
        "Añade el método mensaje a la clase anterior.\n",
        "\n",
        "Este método mensaje recibirá como parámetro el texto genérico que contendrá el mensaje y creará un txt con dicho texto llamado mensaje_generico.txt.\n",
        "\n",
        "El texto genérico debe tener marcado entre corchetes '{}' que partes del texto serán personalizables. En este caso el texto genérico será:\n",
        "\n",
        "      'Buenos dias {nombre},\n",
        "      Gracias por elegir {proveedor} como tu proveedor de mensajes.\n",
        "      Un cordial saludo'\n",
        "\n",
        "Este método devolverá la lectura del archivo txt 'mensaje_generico.txt', que deberá ser igual al texto genérico mostrado anteriormente.\n"
      ]
    },
    {
      "cell_type": "code",
      "execution_count": null,
      "metadata": {
        "id": "ul4gVehYcInR",
        "colab": {
          "base_uri": "https://localhost:8080/",
          "height": 53
        },
        "outputId": "08be20ce-280a-4f74-9327-9ae797454862"
      },
      "outputs": [
        {
          "output_type": "execute_result",
          "data": {
            "text/plain": [
              "'Buenos dias {nombre},\\nGracias por elegir {proveedor} como tu proveedor de mensajes.\\nUn cordial saludo'"
            ],
            "application/vnd.google.colaboratory.intrinsic+json": {
              "type": "string"
            }
          },
          "metadata": {},
          "execution_count": 3
        }
      ],
      "source": [
        "#Añade a la clase Email el método mensaje\n",
        "\n",
        "class Email:\n",
        "\n",
        "  def __init__(self):\n",
        "    pass\n",
        "\n",
        "  def mensaje(self, txt):\n",
        "    #Creo el archivo\n",
        "    f = open('txt.txt', 'w')\n",
        "    #f.write(new_txt) #Escribimos en el archivo\n",
        "    f.write(txt)\n",
        "    f.close()\n",
        "\n",
        "    #Modo lectura\n",
        "    f = open('txt.txt', 'r')\n",
        "    return f.read()\n",
        "\n",
        "mis_emails = Email()\n",
        "Email().mensaje('Buenos dias {nombre},\\nGracias por elegir {proveedor} como tu proveedor de mensajes.\\nUn cordial saludo')\n"
      ]
    },
    {
      "cell_type": "code",
      "execution_count": null,
      "metadata": {
        "id": "PRdYaJzkuZem",
        "colab": {
          "base_uri": "https://localhost:8080/",
          "height": 35
        },
        "outputId": "f751db90-9b03-49be-d33e-96fc88078225",
        "cellView": "form"
      },
      "outputs": [
        {
          "output_type": "execute_result",
          "data": {
            "text/plain": [
              "'Correcto'"
            ],
            "application/vnd.google.colaboratory.intrinsic+json": {
              "type": "string"
            }
          },
          "metadata": {},
          "execution_count": 4
        }
      ],
      "source": [
        "#@title Comprueba el método mensaje\n",
        "texto_check2='Comprobando el método mensaje de la clase Email para {nombre} y {proveedor}'\n",
        "def check2():\n",
        "  if Email().mensaje(texto_check2)=='Comprobando el método mensaje de la clase Email para {nombre} y {proveedor}':\n",
        "    return 'Correcto'\n",
        "  else:\n",
        "    return 'Incorrecto'\n",
        "\n",
        "check2()"
      ]
    },
    {
      "cell_type": "markdown",
      "metadata": {
        "id": "iCEOKZ6Xep6-"
      },
      "source": [
        "##Método preparar_envio\n",
        "\n",
        "Añade el método preparar_envio el cual debe recibir como parámetros:\n",
        "\n",
        "* El diccionario con los correos separados por proveedor.\n",
        "\n",
        "* El proveedor de correos a cuyos usuarios queremos enviarles el correo.\n",
        "\n",
        "* El mensaje genérico a personalizar.\n",
        "\n",
        "Y debe crear tantos emails personalizados en txt y devolver la cadena de texto: 'Se han creado x correos personalizados para ususarios que usan y'.\n",
        "\n",
        "Donde \"x\" sea el número de correos creados e \"y\" el nombre del proveedor de correo.\n",
        "\n",
        "EJEMPLO\n",
        "\n",
        "Entrada\n",
        "\n",
        "      dict_emails=Email().proveedor_usuarios(Lista_emails)\n",
        "      generico=Email().mensaje('Buenos dias {nombre},\\nGracias por elegir {proveedor} como tu proveedor de mensajes.\\nUn coordial saludo')\n",
        "      Email().preparar_envio(dict_emails,'youtlook.es',generico)\n",
        "\n",
        "Salida\n",
        "\n",
        "      'Se han creado 4 emails personalizados de cuentas de youtlook.es'"
      ]
    },
    {
      "cell_type": "code",
      "execution_count": null,
      "metadata": {
        "id": "XsPmb5nTy2jj",
        "colab": {
          "base_uri": "https://localhost:8080/",
          "height": 35
        },
        "outputId": "948eb61c-2be9-4b1d-b285-4fceb2ff5a83"
      },
      "outputs": [
        {
          "output_type": "execute_result",
          "data": {
            "text/plain": [
              "'Se han creado 4 emails personalizados de cuentas de youtlook.es'"
            ],
            "application/vnd.google.colaboratory.intrinsic+json": {
              "type": "string"
            }
          },
          "metadata": {},
          "execution_count": 5
        }
      ],
      "source": [
        "import re\n",
        "\n",
        "Lista_emails=['garcia@vmail.es','sanchez@gagoo.es','pedro@youtlook.es','carlos@vmail.es','german@gagoo.es','pablo@youtlook.es','fernandez@vmail.es','jimenez@gagoo.es','edu.perez@youtlook.es','rubia.17@vmail.es','1995sanz@gagoo.es','donaire@youtlook.es','pascual@vmail.es','pantoja14@vmail.es','romero@gagoo.es']\n",
        "\n",
        "class Email:\n",
        "\n",
        "  def __init__(self):\n",
        "    pass\n",
        "\n",
        "  def proveedor_usuarios(self, lista):\n",
        "    myDict = {}\n",
        "\n",
        "    for i in lista:\n",
        "      user, domain = i.split('@') #Separamos user de dominio\n",
        "\n",
        "      if domain in myDict: #Si el dominio está en el diccionario:\n",
        "        if user in myDict[domain]: #Si el usuario está repetido:\n",
        "          print(f'Usuario {user} repetido')\n",
        "        else:\n",
        "          myDict[domain].append(user)\n",
        "      else:\n",
        "        myDict[domain] = [user]\n",
        "\n",
        "    return myDict\n",
        "\n",
        "  def mensaje(self, txt):\n",
        "    #Creo el archivo\n",
        "    f = open('txt.txt', 'w')\n",
        "    f.write(txt) #Escribimos en el archivo\n",
        "    f.close()\n",
        "    #Modo lectura\n",
        "    #new_file =\n",
        "    f = open('txt.txt', 'r')\n",
        "    return f.read()\n",
        "\n",
        "\n",
        "  def preparar_envio(self, dict_emails, proveedor, msg):\n",
        "    num_msg = 0\n",
        "    for i in dict_emails:\n",
        "      if not proveedor in dict_emails:\n",
        "        print('Proveedor incorrecto')\n",
        "      else:\n",
        "        if i == proveedor:\n",
        "          for j in dict_emails.get(i):\n",
        "            #Crear email para cada user; cogemos msg para personalizarlo:\n",
        "            new_msg = re.sub(r'{nombre}',  j, msg) #Personalizamos nombre\n",
        "            new_msg = re.sub(r'{proveedor}', i, new_msg) # Personalizamos dominio\n",
        "\n",
        "            num_msg += 1\n",
        "\n",
        "            # New file as nombre@dominio.txt\n",
        "            file= open(j+'@'+i+'.txt','w')\n",
        "            # Saving:\n",
        "            file.write(new_msg)\n",
        "\n",
        "          #Devolver cadena de texto\n",
        "          return f'Se han creado {num_msg} emails personalizados de cuentas de {proveedor}'\n",
        "\n",
        "mis_emails = Email()\n",
        "dict_emails=Email().proveedor_usuarios(Lista_emails) #Creo el diccionario\n",
        "generico=Email().mensaje('Buenos dias {nombre},\\nGracias por elegir {proveedor} como tu proveedor de mensajes.\\nUn coordial saludo')\n",
        "Email().preparar_envio(dict_emails,'youtlook.es',generico)"
      ]
    },
    {
      "cell_type": "code",
      "execution_count": null,
      "metadata": {
        "id": "yhV1nUO27uSe",
        "colab": {
          "base_uri": "https://localhost:8080/",
          "height": 35
        },
        "outputId": "8f6a5207-6b7b-4290-e604-0c51c0858ec2"
      },
      "outputs": [
        {
          "output_type": "execute_result",
          "data": {
            "text/plain": [
              "'Correcto'"
            ],
            "application/vnd.google.colaboratory.intrinsic+json": {
              "type": "string"
            }
          },
          "metadata": {},
          "execution_count": 6
        }
      ],
      "source": [
        "#@title Comprueba el método preparar_envio\n",
        "def check3():\n",
        "  if Email().preparar_envio(Email().proveedor_usuarios(lista_check),'hola.com',Email().mensaje('Comprobando el método mensaje de la clase Email para {nombre} y {proveedor}'))=='Se han creado 2 emails personalizados de cuentas de hola.com':\n",
        "    fileA=open('pedro@youtlook.es.txt','r')\n",
        "    text_check3A=fileA.read()\n",
        "    fileA.close()\n",
        "    fileB=open('donaire@youtlook.es.txt','r')\n",
        "    text_check3B=fileB.read()\n",
        "    fileB.close()\n",
        "    if text_check3A!=text_check3B:\n",
        "      return 'Correcto'\n",
        "    else:\n",
        "      return 'Incorrecto. Comprueba el contenido de los txt.'\n",
        "  else:\n",
        "    return 'Incorrecto'\n",
        "\n",
        "check3()"
      ]
    },
    {
      "cell_type": "code",
      "execution_count": null,
      "metadata": {
        "id": "hEBD1WxWy0gM",
        "colab": {
          "base_uri": "https://localhost:8080/"
        },
        "outputId": "8d199b96-5895-4769-d5e2-32da72215f55"
      },
      "outputs": [
        {
          "output_type": "stream",
          "name": "stdout",
          "text": [
            "¡Felicidades! puedes avanzar al siguiente modulo \n",
            " El token es:  342c06d09a500fd46c4b268dc99511bbe444405daa69e6c3ade1ed39125e7679\n"
          ]
        }
      ],
      "source": [
        "#@title Consigue el Token para corregir el proyecto en Nodd3r\n",
        "import hashlib\n",
        "\n",
        "file1=open('a1@hola.com.txt','r')\n",
        "text_token1=file1.read()\n",
        "file1.close()\n",
        "file2=open('donaire@youtlook.es.txt','r')\n",
        "text_token2=file2.read()\n",
        "file2.close()\n",
        "pwd = hashlib.sha256((str(text_token1)+str(text_token2)).encode())\n",
        "if pwd.hexdigest()[0:6] == '342c06':\n",
        "  print('¡Felicidades! puedes avanzar al siguiente modulo \\n El token es: ',pwd.hexdigest())\n",
        "else:\n",
        "  print('Hay algún error en el código o tu forma es diferente a la planteada, pregunta por el foro si no lo ves claro.')\n",
        "#print(pwd.hexdigest())"
      ]
    }
  ],
  "metadata": {
    "colab": {
      "provenance": [],
      "include_colab_link": true
    },
    "kernelspec": {
      "display_name": "Python 3",
      "name": "python3"
    },
    "language_info": {
      "name": "python"
    }
  },
  "nbformat": 4,
  "nbformat_minor": 0
}