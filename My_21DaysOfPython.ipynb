{
  "nbformat": 4,
  "nbformat_minor": 0,
  "metadata": {
    "colab": {
      "provenance": [],
      "include_colab_link": true
    },
    "kernelspec": {
      "name": "python3",
      "display_name": "Python 3"
    },
    "language_info": {
      "name": "python"
    }
  },
  "cells": [
    {
      "cell_type": "markdown",
      "metadata": {
        "id": "view-in-github",
        "colab_type": "text"
      },
      "source": [
        "<a href=\"https://colab.research.google.com/github/lmillana/MasterProjects/blob/main/My_21DaysOfPython.ipynb\" target=\"_parent\"><img src=\"https://colab.research.google.com/assets/colab-badge.svg\" alt=\"Open In Colab\"/></a>"
      ]
    },
    {
      "cell_type": "markdown",
      "source": [
        "# **Reto 21 días para principiantes**\n"
      ],
      "metadata": {
        "id": "o5fJlB98WLTW"
      }
    },
    {
      "cell_type": "markdown",
      "source": [
        "Python, un lenguaje de programación versátil y ampliamente utilizado, se ha convertido en una herramienta esencial en el kit de cualquier desarrollador de software. Su sintaxis simple y legible, combinada con una amplia gama de bibliotecas y frameworks, lo convierte en una elección ideal tanto para principiantes como para programadores experimentados."
      ],
      "metadata": {
        "id": "QOXPPHZwWQQK"
      }
    },
    {
      "cell_type": "markdown",
      "source": [
        "\n",
        "# **Día 1.Imprimir por pantalla (Nivel 0)**\n",
        "Imprime por pantalla tu primer ‘Hola mundo’ <br>\n",
        "¡Sigue practicando con el print, prueba tu nombre, ciudad y otros datos que quieras!\n",
        "\n",
        "Link a teoría:\n",
        "https://nodd3r.com/masters/master-data-science/courses/programacion-python/theory/parte-1-de-sintaxis-basica\n"
      ],
      "metadata": {
        "id": "2qXx015VTbkF"
      }
    },
    {
      "cell_type": "markdown",
      "source": [
        "**Ejercicio**:\n",
        "Printa los siguientes casos"
      ],
      "metadata": {
        "id": "w8tsNU1a5jL5"
      }
    },
    {
      "cell_type": "code",
      "execution_count": null,
      "metadata": {
        "id": "GBlZGNVDTa31",
        "colab": {
          "base_uri": "https://localhost:8080/"
        },
        "outputId": "a10d6e8d-05b4-421a-ae51-9cacb973ec39"
      },
      "outputs": [
        {
          "output_type": "stream",
          "name": "stdout",
          "text": [
            "Hola Mundo!\n"
          ]
        }
      ],
      "source": [
        "# Crea el codigo del tu primer hola mundo\n",
        "print(\"Hola Mundo!\")"
      ]
    },
    {
      "cell_type": "code",
      "source": [
        "#Imprime por pantalla datos para presentarte\n",
        "#Creamos variables y les asignamos\n",
        "name = 'Leyre'\n",
        "work = 'BNPP'\n",
        "city = 'Madrid'\n",
        "\n",
        "print('Hola, soy', name, 'trabajo en', work, 'en la ciudad de', city)\n"
      ],
      "metadata": {
        "colab": {
          "base_uri": "https://localhost:8080/"
        },
        "id": "5EWpMzsJTxSF",
        "outputId": "f7135282-c22b-424e-c474-ca4ef6329fc5"
      },
      "execution_count": null,
      "outputs": [
        {
          "output_type": "stream",
          "name": "stdout",
          "text": [
            "Hola, soy Leyre trabajo en BNPP en la ciudad de Madrid\n"
          ]
        }
      ]
    },
    {
      "cell_type": "code",
      "source": [
        "#Imprime por pantalla tu edad\n",
        "age = 28\n",
        "print('Tengo', age, 'años')\n"
      ],
      "metadata": {
        "colab": {
          "base_uri": "https://localhost:8080/"
        },
        "id": "y_lXRYRszqNV",
        "outputId": "8b1d41a3-5bfe-4eb4-b227-220dce5ad6a6"
      },
      "execution_count": null,
      "outputs": [
        {
          "output_type": "stream",
          "name": "stdout",
          "text": [
            "Tengo 28 años\n"
          ]
        }
      ]
    },
    {
      "cell_type": "markdown",
      "source": [
        "# **Día 2.Variables y Tipos de Datos Básicos (Nivel 0)**"
      ],
      "metadata": {
        "id": "h_SBIKIQWXVb"
      }
    },
    {
      "cell_type": "markdown",
      "source": [
        "\n",
        "\n",
        "Aprende sobre variables y tipos de datos en Python (enteros, flotantes, cadenas).\n",
        "\n",
        "Link a teoría:https://nodd3r.com/masters/master-data-science/courses/programacion-python/theory/parte-2-de-sintaxis-basica"
      ],
      "metadata": {
        "id": "S9z-BCohWgpW"
      }
    },
    {
      "cell_type": "markdown",
      "source": [
        "**Ejercicio:**\n",
        "\n",
        "Escribe un programa que tome dos números como entrada y muestre su suma."
      ],
      "metadata": {
        "id": "PtUgNf4A5qqQ"
      }
    },
    {
      "cell_type": "code",
      "source": [
        "# Escribe aquí tu código\n",
        "def sum(num1, num2):\n",
        "  return (num1 + num2)\n",
        "\n",
        "print('La suma es:', sum(3,4))\n"
      ],
      "metadata": {
        "colab": {
          "base_uri": "https://localhost:8080/"
        },
        "id": "mv0LMwdVWqkv",
        "outputId": "819daa9e-6966-434f-aedb-6b0123a2c0b2"
      },
      "execution_count": null,
      "outputs": [
        {
          "output_type": "stream",
          "name": "stdout",
          "text": [
            "La suma es: 7\n"
          ]
        }
      ]
    },
    {
      "cell_type": "markdown",
      "source": [
        "El ***input*** en Python es una función que se utiliza para recibir información o datos ingresados por el usuario a través del teclado. Funciona de la siguiente manera:\n",
        "\n",
        "Muestra un mensaje opcional al usuario, solicitando la entrada de datos.<br>\n",
        "El usuario escribe la información deseada en la consola y presiona \"Enter\".\n",
        "input toma lo que el usuario escribió y lo almacena en una variable en forma de texto (cadena de caracteres). <br>\n",
        "Por ejemplo, si tienes el siguiente código:"
      ],
      "metadata": {
        "id": "X0foaQvpl53W"
      }
    },
    {
      "cell_type": "code",
      "source": [
        "edad = input(\"Por favor, ingresa tu edad: \")\n",
        "print('La edad es:')"
      ],
      "metadata": {
        "id": "K88Jhs-lm24g"
      },
      "execution_count": null,
      "outputs": []
    },
    {
      "cell_type": "markdown",
      "source": [
        "# **Día 3. Variables y tipos de datos (nivel 0)**"
      ],
      "metadata": {
        "id": "a94bvMxfxw8b"
      }
    },
    {
      "cell_type": "markdown",
      "source": [
        "**Ejercicio:**\n",
        "\n",
        "Crea un programa en el que se tenga una variable llamada nombre y luego le dé la bienvenida utilizando su nombre. Por ejemplo, \"Hola, [nombre]\"."
      ],
      "metadata": {
        "id": "A-BN4jYt52nI"
      }
    },
    {
      "cell_type": "code",
      "source": [
        "# Escribe aquí tu código\n",
        "name = input('Please, tell me your name: ')\n",
        "\n",
        "print('Hello', name, '!')\n"
      ],
      "metadata": {
        "id": "qJnLOIg5Wsvy",
        "outputId": "73dbbad0-c415-4278-be13-f7f6c0bf4ade",
        "colab": {
          "base_uri": "https://localhost:8080/"
        }
      },
      "execution_count": null,
      "outputs": [
        {
          "output_type": "stream",
          "name": "stdout",
          "text": [
            "Please, tell me your name: Leyre\n",
            "Hello Leyre !\n"
          ]
        }
      ]
    },
    {
      "cell_type": "markdown",
      "source": [
        "# **Día 4. Operadores (Nivel 1)**"
      ],
      "metadata": {
        "id": "cCysXp4TXv5M"
      }
    },
    {
      "cell_type": "markdown",
      "source": [
        "Explora operadores aritméticos, de comparación y lógicos.\n",
        "\n",
        "Link a teoría:\n",
        "https://nodd3r.com/masters/master-data-science/courses/programacion-python/theory/operaciones-en-python\n",
        "\n",
        "\n",
        "\n"
      ],
      "metadata": {
        "id": "UPsxorH2X7VB"
      }
    },
    {
      "cell_type": "markdown",
      "source": [
        "**Ejercicio:**\n",
        "\n",
        "Crea un programa que calcule el área de un triángulo dado su base y altura."
      ],
      "metadata": {
        "id": "b4sGp7mz525I"
      }
    },
    {
      "cell_type": "code",
      "source": [
        "\n",
        "# Área: (Base x Altura) / 2\n",
        "def areaTr(base, altura):\n",
        "  return ((base * altura)/2)\n",
        "\n",
        "print (\"El área del triángulo es: \", areaTr(5,5))\n"
      ],
      "metadata": {
        "colab": {
          "base_uri": "https://localhost:8080/"
        },
        "id": "CEfxkxHgX6ep",
        "outputId": "075f4912-e625-4b0f-acad-b0d4f6039a78"
      },
      "execution_count": null,
      "outputs": [
        {
          "output_type": "stream",
          "name": "stdout",
          "text": [
            "El área del triángulo es:  12.5\n"
          ]
        }
      ]
    },
    {
      "cell_type": "markdown",
      "source": [
        "# **Día 5. Operadores (Nivel 1)**\n"
      ],
      "metadata": {
        "id": "5ne0aMtHyA_R"
      }
    },
    {
      "cell_type": "markdown",
      "source": [
        "**Ejercicio:**\n",
        "\n",
        "Crea un programa que calcule el promedio de tres números ingresados por el usuario y lo muestre en pantalla."
      ],
      "metadata": {
        "id": "Dgy4rvGk5Ykt"
      }
    },
    {
      "cell_type": "code",
      "source": [
        "# Programa que permite sumar varios números y devolver el promedio\n",
        "total = 0\n",
        "nums = input('¿Cuantos números va a introducir? ')\n",
        "i = 0\n",
        "\n",
        "while i < int(nums):\n",
        "  num = input('Introduzca un valor: ')\n",
        "  total = total + int(num)\n",
        "  i += 1\n",
        "\n",
        "print('El promedio es ', total/i)\n"
      ],
      "metadata": {
        "id": "f29333TCYG17",
        "colab": {
          "base_uri": "https://localhost:8080/"
        },
        "outputId": "3ef69589-993b-4f51-9ee4-20226e30a6d5"
      },
      "execution_count": null,
      "outputs": [
        {
          "output_type": "stream",
          "name": "stdout",
          "text": [
            "¿Cuantos números va a introducir? 4\n",
            "Introduzca un valor: 4\n",
            "Introduzca un valor: 6\n",
            "Introduzca un valor: 8\n",
            "Introduzca un valor: 10\n",
            "El promedio es  7.0\n"
          ]
        }
      ]
    },
    {
      "cell_type": "markdown",
      "source": [
        "# **Día 6.Strings y Operaciones con Strings (Nivel 1)**"
      ],
      "metadata": {
        "id": "XKDM3MHYYOpL"
      }
    },
    {
      "cell_type": "markdown",
      "source": [
        "Aprende a trabajar con cadenas de texto en Python.\n",
        "\n",
        "\n",
        "\n"
      ],
      "metadata": {
        "id": "JVzemDWtYUkE"
      }
    },
    {
      "cell_type": "markdown",
      "source": [
        "**Ejercicio:**\n",
        "\n",
        "Escribe un programa que cuente cuántas veces aparece una letra específica en una cadena."
      ],
      "metadata": {
        "id": "eZMVL70j5TXE"
      }
    },
    {
      "cell_type": "code",
      "source": [
        "\n",
        "# Escribe aquí tu código\n",
        "txt = input('Dime una frase para analizar: ')\n",
        "myLetter = input('Dime que letra quieres contar: ')\n",
        "myList = []\n",
        "\n",
        "for letter in txt:\n",
        "  #Creo una lista\n",
        "  myList.append(letter)\n",
        "\n",
        "# Devuelvo cuantas veces aparece la letra especifica:\n",
        "print('La letra ', myLetter, 'aparece ', myList.count(myLetter), 'veces')"
      ],
      "metadata": {
        "id": "fKZWrDyVYRyJ",
        "colab": {
          "base_uri": "https://localhost:8080/"
        },
        "outputId": "93fc10bd-7dc0-4ca0-ecba-0116ffff372e"
      },
      "execution_count": null,
      "outputs": [
        {
          "output_type": "stream",
          "name": "stdout",
          "text": [
            "Dime una frase para analizar: jajajaja\n",
            "Dime que letra quieres contar: j\n",
            "La letra  j aparece  4 veces\n"
          ]
        }
      ]
    },
    {
      "cell_type": "markdown",
      "source": [
        "# **Día 7.Strings y Operaciones con Strings (Nivel 1)**"
      ],
      "metadata": {
        "id": "ctYW-C2oyO4n"
      }
    },
    {
      "cell_type": "markdown",
      "source": [
        "En el siguiente ejercicio debes usar el método len() para la longuitud de la cadena"
      ],
      "metadata": {
        "id": "nfhnsVXmPXtG"
      }
    },
    {
      "cell_type": "markdown",
      "source": [
        "**Ejercicio:**\n",
        "\n",
        "Determinar si un número está en un rango específico"
      ],
      "metadata": {
        "id": "Tzce6HA15L7S"
      }
    },
    {
      "cell_type": "code",
      "source": [
        "# Escribe aquí tu código\n",
        "txt2 = input('Dime una frase para que cuente las letras: ')\n",
        "myList2 = []\n",
        "total = 0\n",
        "\n",
        "for letter in txt2:\n",
        "  #Creo una lista donde no tenga en cuenta los espacios:\n",
        "  if not letter == ' ':\n",
        "    myList2.append(letter)\n",
        "    total += 1\n",
        "\n",
        "print('Tu frase tiene ', total , 'caracteres')\n",
        "\n"
      ],
      "metadata": {
        "id": "m2xySen8EG8G",
        "colab": {
          "base_uri": "https://localhost:8080/"
        },
        "outputId": "035ab4a1-0ad5-496f-bda7-4f3dd3529e4a"
      },
      "execution_count": null,
      "outputs": [
        {
          "output_type": "stream",
          "name": "stdout",
          "text": [
            "Dime una frase para que cuente las letras: hooola leyre\n",
            "Tu frase tiene  11 caracteres\n"
          ]
        }
      ]
    },
    {
      "cell_type": "markdown",
      "source": [
        "# **Día 8. Bucles - For y While (Nivel 1)**\n"
      ],
      "metadata": {
        "id": "FoXyEIvFYgqK"
      }
    },
    {
      "cell_type": "markdown",
      "source": [
        "Introdúcete en los bucles for y while.\n",
        "\n",
        "Link bucles: https://nodd3r.com/masters/master-data-science/courses/programacion-python/theory/que-es-un-bucle-for"
      ],
      "metadata": {
        "id": "26EuxkcDYlo2"
      }
    },
    {
      "cell_type": "markdown",
      "source": [
        "**Ejercicio:**\n",
        "\n",
        "Crea un programa que imprima los números del 1 al 10 utilizando un bucle."
      ],
      "metadata": {
        "id": "XhKI0orA5DtV"
      }
    },
    {
      "cell_type": "code",
      "source": [
        "# Escribe aquí tu código\n",
        "\n",
        "\"\"\"\n",
        "\n",
        "#Imprime desde el 0:\n",
        "for i in range(11):\n",
        "  print(i)\"\"\"\n",
        "\n",
        "#Imprime del 1 al 10\n",
        "i = 1\n",
        "\n",
        "while i <= 10:\n",
        "  print(i)\n",
        "  i += 1\n"
      ],
      "metadata": {
        "id": "Bz4S9lvXYpeN",
        "colab": {
          "base_uri": "https://localhost:8080/"
        },
        "outputId": "7a052308-0d93-4e9b-c3de-7f6659876dab"
      },
      "execution_count": null,
      "outputs": [
        {
          "output_type": "stream",
          "name": "stdout",
          "text": [
            "1\n",
            "2\n",
            "3\n",
            "4\n",
            "5\n",
            "6\n",
            "7\n",
            "8\n",
            "9\n",
            "10\n"
          ]
        }
      ]
    },
    {
      "cell_type": "markdown",
      "source": [
        "# **Día 9. Bucles - For y While (Nivel 1)**\n"
      ],
      "metadata": {
        "id": "QLwoOJk4yWS4"
      }
    },
    {
      "cell_type": "markdown",
      "source": [
        "**Ejercicio**:\n",
        "Adivina el número: Pide al usuario adivinar un número y sigue pidiendo hasta que lo adivine (el número a adivinar será definido como una variable inicial).\n",
        "\n",
        "Link bucles while: https://nodd3r.com/masters/master-data-science/courses/programacion-python/theory/que-es-un-bucle-while"
      ],
      "metadata": {
        "id": "tYanM-H14zUK"
      }
    },
    {
      "cell_type": "code",
      "source": [
        "# Escribe aquí tu código\n",
        "secret = 42\n",
        "num = int(input('Adivina el número: '))\n",
        "\n",
        "while not num == secret:\n",
        "  if not num == secret:\n",
        "    print('Incorrecto. Intenta de nuevo.')\n",
        "    num = int(input('Adivina el número: '))\n",
        "\n",
        "#Adivinado el numero:\n",
        "print('¡Felicitaciones! Adivinaste el número correcto:', secret)\n"
      ],
      "metadata": {
        "colab": {
          "base_uri": "https://localhost:8080/"
        },
        "id": "9NtNWLy4Ys6O",
        "outputId": "8d2a94cf-edbe-4e21-8f02-edbe2f63b928"
      },
      "execution_count": null,
      "outputs": [
        {
          "output_type": "stream",
          "name": "stdout",
          "text": [
            "Adivina el número: 3\n",
            "Incorrecto. Intenta de nuevo.\n",
            "Adivina el número: 7\n",
            "Incorrecto. Intenta de nuevo.\n",
            "Adivina el número: 41\n",
            "Incorrecto. Intenta de nuevo.\n",
            "Adivina el número: 42\n",
            "¡Felicitaciones! Adivinaste el número correcto: 42\n"
          ]
        }
      ]
    },
    {
      "cell_type": "markdown",
      "source": [
        "# **Día 10. Condicionales y sentencias if-else (Nivel 1)**\n",
        "\n",
        "**Ejercicio**\n",
        "Escribe un programa en Python que solicite al usuario ingresar un número.\n",
        "\n",
        "Luego, verifica si el número se encuentra dentro del rango de 10 a 50 (inclusive).\n",
        "\n",
        "Si el número está dentro de ese rango, el programa deberá imprimir \"El número está en el rango de 10 a 50\".\n",
        "\n",
        "En caso contrario, imprimirá \"El número está fuera del rango de 10 a 50\".\n",
        "\n",
        "Ejecuta el programa y verifica si un número dado se encuentra dentro del rango especificado.\n",
        "\n",
        "Link a teoría:https://nodd3r.com/masters/master-data-science/courses/programacion-python/theory/sentencia-if-else"
      ],
      "metadata": {
        "id": "hXOUltepQi7v"
      }
    },
    {
      "cell_type": "code",
      "source": [
        "# Escribe aquí el código\n",
        "myNum = int(input('Introduzca un numero: '))\n",
        "\n",
        "if myNum >= 10 and myNum <= 50:\n",
        "  print(\"El número está en el rango de 10 a 50\")\n",
        "else:\n",
        "  print('El número está fuera del rango de 10 a 50')\n",
        "\n",
        "\n"
      ],
      "metadata": {
        "id": "s9SaYY5bQZeo",
        "colab": {
          "base_uri": "https://localhost:8080/"
        },
        "outputId": "148362f0-12f3-45ba-dfd1-2ceedb051606"
      },
      "execution_count": null,
      "outputs": [
        {
          "output_type": "stream",
          "name": "stdout",
          "text": [
            "Introduzca un numero: 10\n",
            "El número está en el rango de 10 a 50\n"
          ]
        }
      ]
    },
    {
      "cell_type": "markdown",
      "source": [
        "# **Día 11. Encuentra errores y practica (nivel 1)**"
      ],
      "metadata": {
        "id": "sDVTgAWcY0XC"
      }
    },
    {
      "cell_type": "markdown",
      "source": [
        "En programación es muy importante saber gestionar los errores cotidianos y tener presente las estructuras"
      ],
      "metadata": {
        "id": "Hs1kLsU9Y9KE"
      }
    },
    {
      "cell_type": "markdown",
      "source": [
        "**Ejercicio:**\n",
        "Busca el error en los siguientes códigos y solucionalos:"
      ],
      "metadata": {
        "id": "yRV687JT4oFX"
      }
    },
    {
      "cell_type": "code",
      "source": [
        "#Ejercicio 1:\n",
        "total = 0\n",
        "for i in range(1, 11):\n",
        "  if i % 2 == 0:\n",
        "    total += i\n",
        "print(\"La suma de los números pares es:\", total)\n",
        "\n",
        "\n"
      ],
      "metadata": {
        "id": "OooLVqydZAId",
        "colab": {
          "base_uri": "https://localhost:8080/"
        },
        "outputId": "2bd1c91e-2e7a-4f2f-b9cc-89cefe86545c"
      },
      "execution_count": null,
      "outputs": [
        {
          "output_type": "stream",
          "name": "stdout",
          "text": [
            "La suma de los números pares es: 30\n"
          ]
        }
      ]
    },
    {
      "cell_type": "code",
      "source": [
        "#Ejercicio:\n",
        "edad = 20\n",
        "if edad == 20:\n",
        "    print(\"Tienes 20 años\")\n"
      ],
      "metadata": {
        "id": "nKXVSdD1ZL9_",
        "colab": {
          "base_uri": "https://localhost:8080/"
        },
        "outputId": "3f67ff27-d999-4d8c-932f-a8b4433d4961"
      },
      "execution_count": null,
      "outputs": [
        {
          "output_type": "stream",
          "name": "stdout",
          "text": [
            "Tienes 20 años\n"
          ]
        }
      ]
    },
    {
      "cell_type": "code",
      "source": [
        "#Ejercicio:\n",
        "numero = 10\n",
        "cadena = \"5\"\n",
        "resultado = numero + int(cadena)\n",
        "#resultado = str(numero) + cadena\n"
      ],
      "metadata": {
        "id": "9xksimlWZRbb"
      },
      "execution_count": null,
      "outputs": []
    },
    {
      "cell_type": "markdown",
      "source": [
        "# **Día 12. Funciones (Nivel 2)**\n",
        "Comprende cómo definir y llamar a funciones en Python.\n",
        "\n",
        "Las funciones en Python son como pequeñas tareas o acciones que puedes definir y luego reutilizar en tu código. Imagina que tienes un conjunto de pasos que quieres realizar en varias partes de tu programa. En lugar de escribir esos pasos una y otra vez, puedes agruparlos en una función y darle un nombre descriptivo.\n",
        "\n",
        "**Definición de una función:** Primero, defines una función dando un nombre a la tarea que realizará. Por ejemplo, podrías crear una función llamada saludar para decir \"Hola\" a alguien.\n",
        "\n",
        "**Parámetros:** Puedes darle a tu función información para que trabaje. Estos datos se llaman parámetros y se colocan entre paréntesis después del nombre de la función. Por ejemplo, podrías pasar el nombre de una persona como parámetro a la función saludar.\n",
        "\n",
        "**Cuerpo de la función:** Aquí es donde escribes los pasos que la función realizará cuando sea llamada. En el caso de saludar, el cuerpo de la función contendría las instrucciones para imprimir \"Hola\" seguido del nombre que se proporcionó como parámetro.\n",
        "\n",
        "**Llamada a la función:** Cuando quieras ejecutar los pasos definidos en la función, simplemente llamas a la función por su nombre, pasando cualquier información necesaria como parámetros. En nuestro ejemplo, podrías llamar a saludar(\"Juan\") para decir \"Hola Juan\".\n",
        "\n",
        "` def nombre_fucion (parametros)`"
      ],
      "metadata": {
        "id": "i4OodphiZVDQ"
      }
    },
    {
      "cell_type": "markdown",
      "source": [
        "Comprende cómo definir y llamar a funciones en Python.\n",
        "\n",
        "Link funciones: https://nodd3r.com/masters/master-data-science/courses/programacion-python/theory/que-son-las-funciones"
      ],
      "metadata": {
        "id": "Ga7SOaZ5iAVc"
      }
    },
    {
      "cell_type": "markdown",
      "source": [
        "**Ejercicio:**\n",
        "Crea una función que calcule el área de un círculo dado su radio.\n"
      ],
      "metadata": {
        "id": "LTBA8AN94iNL"
      }
    },
    {
      "cell_type": "code",
      "source": [
        "# Escribe aquí tu código\n",
        "import math\n",
        "\n",
        "def Area(r):\n",
        "  return (math.pi*(r**2))\n",
        "\n",
        "print(Area(3))"
      ],
      "metadata": {
        "id": "q3aLBrq-iGmo",
        "colab": {
          "base_uri": "https://localhost:8080/"
        },
        "outputId": "12c8095c-6f29-459b-d990-6483e5953d6c"
      },
      "execution_count": null,
      "outputs": [
        {
          "output_type": "stream",
          "name": "stdout",
          "text": [
            "28.274333882308138\n"
          ]
        }
      ]
    },
    {
      "cell_type": "markdown",
      "source": [
        "# **Día 13. Funciones (Nivel 2)**\n"
      ],
      "metadata": {
        "id": "r01Dho9jygFA"
      }
    },
    {
      "cell_type": "markdown",
      "source": [
        "**Ejercicio:**\n",
        "Escribe una función llamada saludar(nombre) que tome un parámetro nombre.\n",
        "\n",
        "Esta función debe imprimir un saludo personalizado utilizando el nombre proporcionado como argumento.\n",
        "\n",
        "Llama a la función con el nombre \"Juan\" y verifica que se muestre el saludo."
      ],
      "metadata": {
        "id": "6nByi8pY4aSA"
      }
    },
    {
      "cell_type": "code",
      "source": [
        "# Escribe aquí tu código\n",
        "def saludar(name):\n",
        "  print('Hola', name)\n",
        "\n",
        "saludar('Juan')"
      ],
      "metadata": {
        "id": "ZTDUkdkWiIpP",
        "colab": {
          "base_uri": "https://localhost:8080/"
        },
        "outputId": "80bf5669-25ba-48c9-fa99-dd03455370eb"
      },
      "execution_count": null,
      "outputs": [
        {
          "output_type": "stream",
          "name": "stdout",
          "text": [
            "Hola Juan\n"
          ]
        }
      ]
    },
    {
      "cell_type": "markdown",
      "source": [
        "# **Día 14. Funciones (Nivel 2)**\n"
      ],
      "metadata": {
        "id": "JyhJMA-vyinQ"
      }
    },
    {
      "cell_type": "markdown",
      "source": [
        "**Ejercicio:**\n",
        "Crea una función para contar la cantidad de palabras en una cadena de texto\n"
      ],
      "metadata": {
        "id": "Cg1UEfN84TLp"
      }
    },
    {
      "cell_type": "code",
      "source": [
        "# Escribe aquí tu código\n",
        "\n",
        "txt = input('Introduce una frase: ')\n",
        "\n",
        "def toSplit(txt):\n",
        "  #Dividimos el txt utilizando los espacios como separador\n",
        "  newList = txt.split()\n",
        "  # Devolvemos el numero de elementos de la lista\n",
        "  return len(newList)\n",
        "\n",
        "toSplit(txt)"
      ],
      "metadata": {
        "id": "QJSlckkYPUIF",
        "colab": {
          "base_uri": "https://localhost:8080/"
        },
        "outputId": "518fc88d-e3f7-4b8d-9cbf-c2bc42217762"
      },
      "execution_count": null,
      "outputs": [
        {
          "name": "stdout",
          "output_type": "stream",
          "text": [
            "Introduce una frase: gmg g g ggg\n"
          ]
        },
        {
          "output_type": "execute_result",
          "data": {
            "text/plain": [
              "4"
            ]
          },
          "metadata": {},
          "execution_count": 22
        }
      ]
    },
    {
      "cell_type": "markdown",
      "source": [
        "# **Día 15. Listas (Nivel 2)**\n",
        "\n",
        "\n",
        "\n",
        "*   Una lista es una colección ordenada y modificable de elementos en Python.\n",
        "*   Puedes crear una lista usando corchetes [] y separando los elementos por comas.\n",
        "*   Puedes acceder a los elementos de una lista mediante su índice (empezando desde 0).\n",
        "\n",
        "\n",
        "```\n",
        "mi_lista = [1, 2, 3, 4, 5]\n",
        "```\n",
        "\n",
        "Link listas: https://nodd3r.com/masters/master-data-science/courses/programacion-python/theory/que-son-las-listas"
      ],
      "metadata": {
        "id": "aWBpvaDKigyZ"
      }
    },
    {
      "cell_type": "markdown",
      "source": [
        "**Ejercicio:**\n",
        "Escribe un programa que sume todos los elementos de una lista de números"
      ],
      "metadata": {
        "id": "VuCkTlGX0HXd"
      }
    },
    {
      "cell_type": "code",
      "source": [
        "# Escribe aquí tu código\n",
        "\n",
        "mi_lista = [1, 2, 3, 4, 5]\n",
        "\n",
        "def sumList(mi_lista):\n",
        "  total = 0\n",
        "  for i in mi_lista:\n",
        "    total += i\n",
        "\n",
        "  return total\n",
        "\n",
        "print('La suma de los números es:', sumList(mi_lista))"
      ],
      "metadata": {
        "colab": {
          "base_uri": "https://localhost:8080/"
        },
        "id": "3H4LR0lViLyb",
        "outputId": "9075eb55-d3ba-43d5-993d-20871d50899b"
      },
      "execution_count": null,
      "outputs": [
        {
          "output_type": "stream",
          "name": "stdout",
          "text": [
            "La suma de los números es: 12\n"
          ]
        }
      ]
    },
    {
      "cell_type": "markdown",
      "source": [
        "# **Día 16. Listas (Nivel 2)**\n",
        "\n",
        "**Ejercicio**:\n",
        "Crea un programa que permita al usuario ingresar una lista de números y luego ordene esos números en orden ascendente. El programa debe hacer lo siguiente:\n",
        "\n",
        "Pedir al usuario que ingrese una serie de números, uno por uno, y almacenarlos en una lista.\n",
        "\n",
        "Ordenar la lista de números en orden ascendente.\n",
        "\n",
        "Mostrar la lista ordenada al usuario.\n",
        "\n"
      ],
      "metadata": {
        "id": "7eCIJZLQypSZ"
      }
    },
    {
      "cell_type": "code",
      "source": [
        "# Escribe aquí tu código\n",
        "def Asking():\n",
        "  num = int(input('Introduzca un numero: '))\n",
        "  myList = []\n",
        "  while num != 0:\n",
        "    myList.append(num)\n",
        "    num = int(input('Introduzca un numero (0 para salir): '))\n",
        "\n",
        "  # Ordeno mi lista\n",
        "  myList.sort()\n",
        "\n",
        "  return myList\n",
        "\n",
        "\n",
        "Asking()\n",
        "\n"
      ],
      "metadata": {
        "id": "91u9TcWtu7MN",
        "colab": {
          "base_uri": "https://localhost:8080/"
        },
        "outputId": "07fa871f-25a7-46a3-e157-a67aa3dc9185"
      },
      "execution_count": null,
      "outputs": [
        {
          "name": "stdout",
          "output_type": "stream",
          "text": [
            "Introduzca un numero: 8\n",
            "Introduzca un numero (0 para salir): 4\n",
            "Introduzca un numero (0 para salir): 3\n",
            "Introduzca un numero (0 para salir): 5\n",
            "Introduzca un numero (0 para salir): 1\n",
            "Introduzca un numero (0 para salir): 0\n"
          ]
        },
        {
          "output_type": "execute_result",
          "data": {
            "text/plain": [
              "[1, 3, 4, 5, 8]"
            ]
          },
          "metadata": {},
          "execution_count": 8
        }
      ]
    },
    {
      "cell_type": "markdown",
      "source": [
        "# **Día 17. Tuplas(Nivel 2)**\n",
        "\n",
        "\n",
        "\n",
        "*   Una tupla es similar a una lista, pero es inmutable, lo que significa que no puedes cambiar su contenido después de crearla.\n",
        "*   Puedes crear una tupla usando paréntesis () y separando los elementos por comas.\n",
        "*   Puedes acceder a los elementos de una tupla mediante su índice al igual que en las listas.\n",
        "*   Las tuplas son útiles cuando deseas almacenar datos que no deben modificarse, como coordenadas.\n",
        "\n",
        "```\n",
        "mi_tupla = (1, 2, 3, 4, 5)\n",
        "\n",
        "```\n",
        "\n",
        "Link tuplas: https://nodd3r.com/masters/master-data-science/courses/programacion-python/theory/que-son-las-tuplas"
      ],
      "metadata": {
        "id": "YvAG0N59RlFo"
      }
    },
    {
      "cell_type": "markdown",
      "source": [
        "**Ejercicio**:\n",
        "Crea un programa que sume los valores de una tupla de números y muestre el resultado."
      ],
      "metadata": {
        "id": "SKLkDaRXzrWx"
      }
    },
    {
      "cell_type": "code",
      "source": [
        "# Escribe aquí tu código\n",
        "mi_tupla = (1, 2, 3, 4, 5)\n",
        "\n",
        "def toSum(mi_tupla):\n",
        "  total = 0\n",
        "  for i in mi_tupla:\n",
        "    total += i\n",
        "\n",
        "  return total\n",
        "\n",
        "print('La suma de los números en la tupla es:',toSum(mi_tupla))"
      ],
      "metadata": {
        "colab": {
          "base_uri": "https://localhost:8080/"
        },
        "id": "NMpYQXcqBp7Z",
        "outputId": "4011b644-0c4a-4f7e-e80c-8c06d22924bd"
      },
      "execution_count": null,
      "outputs": [
        {
          "output_type": "stream",
          "name": "stdout",
          "text": [
            "La suma de los números en la tupla es: 15\n"
          ]
        }
      ]
    },
    {
      "cell_type": "markdown",
      "source": [
        "# **Día 18. Diccionarios (Nivel 2)**\n",
        "\n",
        "\n",
        "\n",
        "*  Un diccionario es una colección de pares clave-valor en Python.\n",
        "*  Puedes crear un diccionario usando llaves {} y especificando pares clave-valor separados por comas.\n",
        "*  Los diccionarios son útiles para representar datos estructurados y etiquetados.\n",
        "*   Puedes acceder a los valores del diccionario utilizando las claves en lugar de índices.\n",
        "\n",
        "```\n",
        "mi_diccionario = {\"nombre\": \"Juan\", \"edad\": 30, \"ciudad\": \"Ejemplo\"}\n",
        "\n",
        "\n",
        "```\n",
        "\n",
        "Link Diccionarios: https://nodd3r.com/masters/master-data-science/courses/programacion-python/theory/que-son-los-diccionarios"
      ],
      "metadata": {
        "id": "lSCxyUV-Sss0"
      }
    },
    {
      "cell_type": "markdown",
      "source": [
        "**Ejercicio**:\n",
        "\n",
        "Crea un programa que represente un diccionario de frutas y permita al usuario consultar la cantidad de cada tipo de fruta en el diccionario.\n",
        "\n",
        "El programa debe hacer lo siguiente:\n",
        "\n",
        "Inicializar un diccionario con al menos tres tipos de frutas y sus respectivas cantidades.\n",
        "\n",
        "Pedir al usuario que ingrese el nombre de una fruta.\n",
        "\n",
        "Mostrar la cantidad de esa fruta en el diccionario."
      ],
      "metadata": {
        "id": "zRoADJNwzied"
      }
    },
    {
      "cell_type": "code",
      "source": [
        "# Escribe aquí tu código\n",
        "\n",
        "myDict = {}\n",
        "\n",
        "def counting():\n",
        "  myKey = input('Introduce la fruta: ').lower()\n",
        "\n",
        "  while myKey != 'exit':\n",
        "    myValue = int(input('Introduce la cantidad: '))\n",
        "    myDict[myKey] = myValue\n",
        "\n",
        "    myKey = input('Introduce la fruta: ')\n",
        "\n",
        "  return myDict\n",
        "\n",
        "def asking(myDict):\n",
        "  print('Estas son las frutas: ', list(myDict.keys()))\n",
        "  print(' ')\n",
        "  myKey = input('Dime la fruta y te digo la cantidad ').lower()\n",
        "\n",
        "  return myDict[myKey]\n",
        "\n",
        "\n",
        "myDict = counting()\n",
        "print(' ')\n",
        "asking(myDict)\n"
      ],
      "metadata": {
        "id": "m4s3IuqfCPGF",
        "colab": {
          "base_uri": "https://localhost:8080/"
        },
        "outputId": "26f04adc-0b61-4fcd-e69a-9a10d69df84b"
      },
      "execution_count": null,
      "outputs": [
        {
          "name": "stdout",
          "output_type": "stream",
          "text": [
            "Introduce la fruta: kiwi\n",
            "Introduce la cantidad: 4\n",
            "Introduce la fruta: pera\n",
            "Introduce la cantidad: 10\n",
            "Introduce la fruta: exit\n",
            " \n",
            "Estas son las frutas:  ['kiwi', 'pera']\n",
            " \n",
            "Dime la fruta y te digo la cantidad pera\n"
          ]
        },
        {
          "output_type": "execute_result",
          "data": {
            "text/plain": [
              "10"
            ]
          },
          "metadata": {},
          "execution_count": 23
        }
      ]
    },
    {
      "cell_type": "markdown",
      "source": [
        "# **Día 19. Ejercicio para reforzar todos los conceptos (Nivel 3)**\n",
        "**Ejercicio: Registro de Notas**\n",
        "\n",
        "Crea un programa que permita al usuario registrar las notas de estudiantes en un diccionario. El programa debe hacer lo siguiente:\n",
        "\n",
        "<br>\n",
        "\n",
        "*   Pedir al usuario que ingrese el nombre de un estudiante.\n",
        "\n",
        "*  Almacenar la nota en un diccionario donde la clave sea el nombre del estudiante y el valor sea su nota.\n",
        "\n",
        "*   Repetir los pasos 1-3 para varios estudiantes.\n",
        "*   Mostrar el diccionario de notas completo al final.\n",
        "\n",
        "\n",
        "\n",
        "\n"
      ],
      "metadata": {
        "id": "e19SH9jsSzEl"
      }
    },
    {
      "cell_type": "code",
      "source": [
        "# Escribe aquí tu código\n",
        "\n",
        "myDict = {}\n",
        "name = input('Introduce un nombre: ') #Pedimos el nombre\n",
        "\n",
        "while name != '':\n",
        "  note = int(input('Introduce la nota: ')) #Pedimos la nota\n",
        "  #Creamos el diccionario\n",
        "  myDict[name] = note\n",
        "\n",
        "  name = input('Introduce un nombre: ')\n",
        "\n",
        "#Printamos nuestro diccionario\n",
        "print(myDict)"
      ],
      "metadata": {
        "id": "6HClTN-8DAjV",
        "colab": {
          "base_uri": "https://localhost:8080/"
        },
        "outputId": "5e3104de-9ef4-43dc-f7b6-73f3c8c57b53"
      },
      "execution_count": null,
      "outputs": [
        {
          "output_type": "stream",
          "name": "stdout",
          "text": [
            "Introduce un nombre: Ley\n",
            "Introduce la nota: 10\n",
            "Introduce un nombre: Diana\n",
            "Introduce la nota: 11\n",
            "Introduce un nombre: Qristian\n",
            "Introduce la nota: 4\n",
            "Introduce un nombre: \n",
            "{'Ley': 10, 'Diana': 11, 'Qristian': 4}\n"
          ]
        }
      ]
    },
    {
      "cell_type": "markdown",
      "source": [
        "# **Día 20. Ejercicio extra para aplicar conceptos (Nivel 3)**\n",
        "**Calculadora Simple**\n",
        "\n",
        "Crea una calculadora simple que realice las operaciones de suma, resta, multiplicación y división. El programa debe hacer lo siguiente:\n",
        "\n",
        "\n",
        "*   Definir cuatro funciones, una para cada operación (suma, resta, multiplicación y división).\n",
        "*  Pedir al usuario que ingrese dos números y la operación que desea realizar (+, -, *, /).\n",
        "*   Llamar a la función correspondiente para realizar la operación y mostrar el resultado.\n",
        "\n"
      ],
      "metadata": {
        "id": "Gz0jpizYS9lU"
      }
    },
    {
      "cell_type": "markdown",
      "source": [
        "**Ejercicio:**\n",
        "Ejercicio: Calculadora Simple\n",
        "\n",
        "Crea una calculadora simple que realice las operaciones de suma, resta, multiplicación y división. El programa debe hacer lo siguiente:\n",
        "\n",
        "Definir cuatro funciones, una para cada operación (suma, resta, multiplicación y división).\n",
        "Pedir al usuario que ingrese dos números y la operación que desea realizar (+, -, *, /).\n",
        "Llamar a la función correspondiente para realizar la operación y mostrar el resultado."
      ],
      "metadata": {
        "id": "ENrNtDyhz3WI"
      }
    },
    {
      "cell_type": "code",
      "source": [
        "# Escribe aquí tu código\n",
        "\n",
        "num1 = int(input('Introduce un numero: '))\n",
        "num2 = int(input('Introduce otro numero: '))\n",
        "\n",
        "def Asking(num1, num2):\n",
        "  print(\" \")\n",
        "  print('¿Que operación quieres realizar?')\n",
        "  print('1-Suma')\n",
        "  print('2-Resta')\n",
        "  print('3-Multiplicacion')\n",
        "  print('4-Division')\n",
        "  print('5-Salir')\n",
        "\n",
        "  option = int(input())\n",
        "\n",
        "  if option == 1:\n",
        "    return(f'Resultado: {num1 + num2}')\n",
        "  elif option == 2:\n",
        "    return(f'Resultado: {num1 - num2}')\n",
        "  elif option == 3:\n",
        "    return(f'Resultado: {num1 * num2}')\n",
        "  elif option == 4:\n",
        "    return(f'Resultado: {num1 / num2}')\n",
        "  else:\n",
        "    return 'Fin del programa'\n",
        "\n",
        "Asking(num1, num2)"
      ],
      "metadata": {
        "id": "32Aj4_WOEGaS",
        "colab": {
          "base_uri": "https://localhost:8080/",
          "height": 214
        },
        "outputId": "9a065711-ea8a-4408-9f77-5eac69a85373"
      },
      "execution_count": null,
      "outputs": [
        {
          "name": "stdout",
          "output_type": "stream",
          "text": [
            "Introduce un numero: 6\n",
            "Introduce otro numero: 7\n",
            " \n",
            "¿Que operación quieres realizar?\n",
            "1-Suma\n",
            "2-Resta\n",
            "3-Multiplicacion\n",
            "4-Division\n",
            "5-Salir\n",
            "1\n"
          ]
        },
        {
          "output_type": "execute_result",
          "data": {
            "text/plain": [
              "'Resultado: 13'"
            ],
            "application/vnd.google.colaboratory.intrinsic+json": {
              "type": "string"
            }
          },
          "metadata": {},
          "execution_count": 3
        }
      ]
    },
    {
      "cell_type": "markdown",
      "source": [
        "# **Día 21.Programación Orientada a Objetos (Nivel 4)**\n",
        "\n",
        "En el mundo real, mientras trabajamos en proyectos de la vida real, los problemas que intentamos resolver con la programación son complejos e implican mucha lluvia de ideas incluso antes de escribir una sola línea de código.\n",
        "\n",
        "Los buenos programadores no sólo piensan en cómo resolver el problema con código, sino también en cómo escribir código que sea más fácil de mantener, más fácil de ampliar cuando sea necesario y también más fácil de leer y escribir.\n",
        "\n",
        "Esta forma de **estructurar y organizar el código** se conoce como paradigma de programación.\n",
        "\n",
        "Es como un patrón con una **serie de reglas predefinidas** que los desarrolladores pueden seguir para evitar el caos.\n",
        "\n",
        "Imagina que cada desarrollador intentara ser astuto y escribiera el código a su manera.\n",
        "\n",
        "Sin un patrón definido, ¡el proyecto estaría condenado!\n",
        "\n",
        "Volvamos a Python.\n",
        "\n",
        "**En Python, todo es un objeto.**\n",
        "\n",
        "Los tipos de datos que exploramos son todos **objetos** que tienen sus propios **atributos** asociados y **métodos** para realizar alguna acción.\n",
        "\n",
        "Estos objetos vienen de sus **clases** como una **instancia**.\n",
        "\n",
        "Esto significa que todos los tipos de datos en Python tienen una estructura definida o prototipo donde todos los detalles de sus propiedades y funcionalidades han sido definidos.\n",
        "\n",
        "Al igual que las clases incorporadas, se pueden **crear clases personalizadas para representar cosas del mundo real** como coches, máquinas, seres humanos, animales o cualquier otra cosa.\n",
        "\n",
        "Esta representación de entidades del mundo real y sus propiedades y comportamientos en clases de código se puede considerar como una definición libre del paradigma de **programación orientada a objetos**.\n",
        "\n",
        "Cada clase puede utilizarse para crear instancias de un objeto.\n",
        "\n",
        "Estos objetos pueden combinarse con otros para simular funcionalidades del mundo real.\n",
        "\n",
        "Pero para ver POO en acción en Python habrá que sumergirse a fondo y escribir algo de código.\n",
        "\n",
        "- Link POO: https://nodd3r.com/masters/master-data-science/courses/programacion-python/theory/que-es-la-programacion-orientada-a-objetos\n",
        "\n",
        "- https://nodd3r.com/masters/master-data-science/courses/programacion-python/theory/que-es-la-herencia\n",
        "\n",
        "- https://nodd3r.com/masters/master-data-science/courses/programacion-python/theory/para-que-sirve-la-encapsulacion\n",
        "\n",
        "- https://nodd3r.com/masters/master-data-science/courses/programacion-python/theory/que-es-el-polimorfismo"
      ],
      "metadata": {
        "id": "N3aX1p8C0kCC"
      }
    },
    {
      "cell_type": "code",
      "source": [
        "# se define la clase Avenger con class\n",
        "class Avenger:\n",
        "  # se inicializa la clase con la función __init__\n",
        "  def __init__(self, name):\n",
        "    # self para que name pertenezca a la clase\n",
        "    # self.name es un atributo de Avenger\n",
        "    self.name = name\n",
        "\n",
        "  # la función fight es un método de Avenger\n",
        "  def fight(self):\n",
        "    print('👊')\n",
        "\n",
        "# creamos un nuevo objeto Avenger que se llame Spiderman\n",
        "spiderman = Avenger('Spiderman')\n",
        "\n",
        "# printamos\n",
        "print(type(Avenger)) # <class 'type'>\n",
        "print(type(spiderman)) # <class '__main__.Avenger'>"
      ],
      "metadata": {
        "id": "LXeDEHU03BJ7",
        "colab": {
          "base_uri": "https://localhost:8080/"
        },
        "outputId": "a9253875-9c9d-4668-f022-fc2ab3d5c431"
      },
      "execution_count": null,
      "outputs": [
        {
          "output_type": "stream",
          "name": "stdout",
          "text": [
            "<class 'type'>\n",
            "<class '__main__.Avenger'>\n"
          ]
        }
      ]
    },
    {
      "cell_type": "markdown",
      "source": [
        "El **__ init __** es un método de inicialización (también llamado método constructor).\n",
        "\n",
        "Se utiliza para inicializar las variables de la clase. En la clase anterior, se está inicializando name.\n",
        "\n",
        "**self** es una palabra clave en Python que es una referencia a la instancia de la clase.\n",
        "Se utiliza para acceder a las variables o atributos de la clase.\n",
        "\n",
        "En la clase Avenger, **fight** es un método que es una representación hipotética de lo que hará un Avenger cuando se le pida que luche.\n",
        "Aquí sólo imprime un emoji, pero puede ser cualquier acción.\n",
        "\n",
        "Usando esta clase Avenger como prototipo, he creado un **objeto Spiderman**.\n",
        "\n",
        "Similarmente, esta clase puede ser usada para crear otros Avengers pero parece que todos harían lo mismo al pedirles que peleen lo cual no es cool."
      ],
      "metadata": {
        "id": "eBEUUkYT3lAK"
      }
    },
    {
      "cell_type": "markdown",
      "source": [
        "**Ejercicio**:\n",
        "La tarea consiste en crear una clase SoccerPlayer con atributos de nombre y goles, luego crear 3 objetos jugador y luego usando una función averiguar el máximo de goles e imprimirlo."
      ],
      "metadata": {
        "id": "T8fVtvYS3dRI"
      }
    },
    {
      "cell_type": "code",
      "source": [
        "# Escribe aquí tu código.\n",
        "\n",
        "class SoccerPlayer:\n",
        "  list_goals = []\n",
        "\n",
        "  def __init__(self, name, goals):\n",
        "    self.name = name\n",
        "    self.goals = goals\n",
        "\n",
        "#Buscamos el máximo de goles\n",
        "def max_goals(players):\n",
        "  max_goal = 0\n",
        "  for player in players:\n",
        "    if player.goals > max_goal:\n",
        "      max_goal = player.goals\n",
        "\n",
        "  return max_goal\n",
        "\n",
        "\n",
        "# Creamos jugadores\n",
        "player1 = SoccerPlayer('Leyre', 5)\n",
        "player2 = SoccerPlayer('Diana', 9)\n",
        "player3 = SoccerPlayer('Qristian', 7)\n",
        "\n",
        "#Creo una lista de mis jugadores\n",
        "my_players = [player1, player2, player3]\n",
        "print(f'El máximo de goles es {max_goals(my_players)}')"
      ],
      "metadata": {
        "id": "jaSoxbUb4M4t",
        "colab": {
          "base_uri": "https://localhost:8080/"
        },
        "outputId": "cac45367-c199-43bc-f2c9-c7c8f32a9ea6"
      },
      "execution_count": 1,
      "outputs": [
        {
          "output_type": "stream",
          "name": "stdout",
          "text": [
            "El máximo de goles es 9\n"
          ]
        }
      ]
    }
  ]
}