{
  "cells": [
    {
      "cell_type": "markdown",
      "metadata": {
        "id": "view-in-github",
        "colab_type": "text"
      },
      "source": [
        "<a href=\"https://colab.research.google.com/github/lmillana/MasterProjects/blob/main/MongoDB/Consultas%20BBDD%20NoSQL%20%7C%20Empleados.ipynb\" target=\"_parent\"><img src=\"https://colab.research.google.com/assets/colab-badge.svg\" alt=\"Open In Colab\"/></a>"
      ]
    },
    {
      "cell_type": "code",
      "source": [
        "#@title Crea el archivo empleados_json.json para empezar el proyecto\n",
        "\n",
        "import json\n",
        "a=[\n",
        "    {\n",
        "      \"_id\": \"01\",\n",
        "      \"name\": \"Christina Paul\",\n",
        "      \"salary\": 1.936,\n",
        "      \"age\": 30,\n",
        "      \"gender\": \"female\",\n",
        "      \"department\": 15,\n",
        "      \"email\": \"christinapaul@isosphere.com\",\n",
        "      \"phone\": \"+1 (962) 597-3331\",\n",
        "      \"address\": \"269 Friel Place, Riner, Iowa, 3407\",\n",
        "      \"registered\": \"2019-10-30T05:39:50 -01:00\",\n",
        "      \"tags\": [\n",
        "        \"do\",\n",
        "        \"ullamco\",\n",
        "        \"cupidatat\",\n",
        "        \"Lorem\"\n",
        "      ]\n",
        "    },\n",
        "    {\n",
        "      \"_id\": \"02\",\n",
        "      \"name\": \"Shana Randolph\",\n",
        "      \"salary\": 2.672,\n",
        "      \"age\": 34,\n",
        "      \"gender\": \"female\",\n",
        "      \"department\": 10,\n",
        "      \"email\": \"shanarandolph@isosphere.com\",\n",
        "      \"phone\": \"+1 (809) 533-2291\",\n",
        "      \"address\": \"728 Middleton Street, Calpine, Wisconsin, 5417\",\n",
        "      \"registered\": \"2019-07-16T08:14:36 -02:00\",\n",
        "      \"tags\": [\n",
        "        \"veniam\",\n",
        "        \"id\",\n",
        "        \"id\",\n",
        "        \"aliquip\"\n",
        "      ]\n",
        "    },\n",
        "    {\n",
        "      \"_id\": \"03\",\n",
        "      \"name\": \"Sparks Guy\",\n",
        "      \"salary\": 1.843,\n",
        "      \"age\": 31,\n",
        "      \"gender\": \"male\",\n",
        "      \"department\": 15,\n",
        "      \"email\": \"sparksguy@isosphere.com\",\n",
        "      \"phone\": \"+1 (828) 561-3223\",\n",
        "      \"address\": \"340 Reeve Place, Caroleen, Northern Mariana Islands, 4383\",\n",
        "      \"registered\": \"2020-08-10T10:41:53 -02:00\",\n",
        "      \"tags\": [\n",
        "        \"duis\",\n",
        "        \"do\",\n",
        "        \"dolor\",\n",
        "        \"aliquip\"\n",
        "      ]\n",
        "    },\n",
        "    {\n",
        "      \"_id\": \"04\",\n",
        "      \"name\": \"Barbra Burt\",\n",
        "      \"salary\": 1.815,\n",
        "      \"age\": 22,\n",
        "      \"gender\": \"female\",\n",
        "      \"department\": 10,\n",
        "      \"email\": \"barbraburt@isosphere.com\",\n",
        "      \"phone\": \"+1 (914) 532-3123\",\n",
        "      \"address\": \"807 Lake Place, Dyckesville, Kansas, 9572\",\n",
        "      \"registered\": \"2015-02-07T04:46:50 -01:00\",\n",
        "      \"tags\": [\n",
        "        \"esse\",\n",
        "        \"consectetur\",\n",
        "        \"cupidatat\",\n",
        "        \"voluptate\"\n",
        "      ]\n",
        "    },\n",
        "    {\n",
        "      \"_id\": \"05\",\n",
        "      \"name\": \"Eliza Vinson\",\n",
        "      \"salary\": 3.002,\n",
        "      \"age\": 35,\n",
        "      \"gender\": \"female\",\n",
        "      \"department\": 18,\n",
        "      \"email\": \"elizavinson@isosphere.com\",\n",
        "      \"phone\": \"+1 (861) 463-2310\",\n",
        "      \"address\": \"829 Newkirk Avenue, Elrama, New Hampshire, 3093\",\n",
        "      \"registered\": \"2021-02-13T02:38:18 -01:00\",\n",
        "      \"tags\": [\n",
        "        \"ad\",\n",
        "        \"amet\",\n",
        "        \"fugiat\",\n",
        "        \"labore\"\n",
        "      ]\n",
        "    },\n",
        "    {\n",
        "      \"_id\": \"06\",\n",
        "      \"name\": \"Mayo Herrera\",\n",
        "      \"salary\": 2.083,\n",
        "      \"age\": 39,\n",
        "      \"gender\": \"male\",\n",
        "      \"department\": 12,\n",
        "      \"email\": \"mayoherrera@isosphere.com\",\n",
        "      \"phone\": \"+1 (905) 522-2932\",\n",
        "      \"address\": \"791 Manhattan Court, Katonah, Arizona, 1795\",\n",
        "      \"registered\": \"2018-04-24T05:47:50 -02:00\",\n",
        "      \"tags\": [\n",
        "        \"do\",\n",
        "        \"minim\",\n",
        "        \"excepteur\",\n",
        "        \"esse\"\n",
        "      ]\n",
        "    },\n",
        "    {\n",
        "      \"_id\": \"07\",\n",
        "      \"name\": \"Finch Cherry\",\n",
        "      \"salary\": 1.255,\n",
        "      \"age\": 25,\n",
        "      \"gender\": \"male\",\n",
        "      \"department\": 18,\n",
        "      \"email\": \"finchcherry@isosphere.com\",\n",
        "      \"phone\": \"+1 (932) 505-3259\",\n",
        "      \"address\": \"667 Cleveland Street, Hannasville, Nebraska, 3346\",\n",
        "      \"registered\": \"2016-03-10T09:31:50 -01:00\",\n",
        "      \"tags\": [\n",
        "        \"nulla\",\n",
        "        \"laborum\",\n",
        "        \"officia\",\n",
        "        \"et\"\n",
        "      ]\n",
        "    }\n",
        "  ]\n",
        "# Serializing json\n",
        "json_object = json.dumps(a, indent = 4)\n",
        "f=open('empleados_json.json','w')\n",
        "f.write(json_object)\n",
        "f.close()"
      ],
      "metadata": {
        "cellView": "form",
        "id": "izIM6g0IhO3o"
      },
      "execution_count": null,
      "outputs": []
    },
    {
      "cell_type": "code",
      "execution_count": null,
      "metadata": {
        "id": "cZh3h2ucjLLj",
        "colab": {
          "base_uri": "https://localhost:8080/"
        },
        "outputId": "9e442483-3ef2-4cda-8cda-5d002de1ed1c",
        "cellView": "form"
      },
      "outputs": [
        {
          "output_type": "stream",
          "name": "stdout",
          "text": [
            "\u001b[33m\r0% [Working]\u001b[0m\r            \rGet:1 http://security.ubuntu.com/ubuntu jammy-security InRelease [110 kB]\n",
            "\u001b[33m\r0% [Connecting to archive.ubuntu.com] [1 InRelease 5,482 B/110 kB 5%] [Connected to cloud.r-project.\u001b[0m\r                                                                                                    \rGet:2 https://cloud.r-project.org/bin/linux/ubuntu jammy-cran40/ InRelease [3,626 B]\n",
            "Hit:3 https://developer.download.nvidia.com/compute/cuda/repos/ubuntu2204/x86_64  InRelease\n",
            "Hit:4 http://archive.ubuntu.com/ubuntu jammy InRelease\n",
            "Get:5 http://archive.ubuntu.com/ubuntu jammy-updates InRelease [119 kB]\n",
            "Hit:6 https://ppa.launchpadcontent.net/c2d4u.team/c2d4u4.0+/ubuntu jammy InRelease\n",
            "Hit:7 https://ppa.launchpadcontent.net/deadsnakes/ppa/ubuntu jammy InRelease\n",
            "Hit:8 https://ppa.launchpadcontent.net/graphics-drivers/ppa/ubuntu jammy InRelease\n",
            "Hit:9 http://archive.ubuntu.com/ubuntu jammy-backports InRelease\n",
            "Hit:10 https://ppa.launchpadcontent.net/ubuntugis/ppa/ubuntu jammy InRelease\n",
            "Get:11 http://security.ubuntu.com/ubuntu jammy-security/universe amd64 Packages [1,047 kB]\n",
            "Get:12 http://security.ubuntu.com/ubuntu jammy-security/main amd64 Packages [1,332 kB]\n",
            "Get:13 http://security.ubuntu.com/ubuntu jammy-security/restricted amd64 Packages [1,582 kB]\n",
            "Get:14 http://archive.ubuntu.com/ubuntu jammy-updates/restricted amd64 Packages [1,611 kB]\n",
            "Get:15 http://archive.ubuntu.com/ubuntu jammy-updates/universe amd64 Packages [1,307 kB]\n",
            "Get:16 http://archive.ubuntu.com/ubuntu jammy-updates/main amd64 Packages [1,606 kB]\n",
            "Fetched 8,718 kB in 3s (2,971 kB/s)\n",
            "Reading package lists... Done\n",
            "Building dependency tree... Done\n",
            "Reading state information... Done\n",
            "24 packages can be upgraded. Run 'apt list --upgradable' to see them.\n",
            "Reading package lists... Done\n",
            "Building dependency tree... Done\n",
            "Reading state information... Done\n",
            "lsb-release is already the newest version (11.1.0ubuntu4).\n",
            "lsb-release set to manually installed.\n",
            "wget is already the newest version (1.21.2-2ubuntu1).\n",
            "ca-certificates is already the newest version (20230311ubuntu0.22.04.1).\n",
            "curl is already the newest version (7.81.0-1ubuntu1.15).\n",
            "software-properties-common is already the newest version (0.99.22.9).\n",
            "gnupg2 is already the newest version (2.2.27-3ubuntu2.1).\n",
            "The following NEW packages will be installed:\n",
            "  apt-transport-https\n",
            "0 upgraded, 1 newly installed, 0 to remove and 24 not upgraded.\n",
            "Need to get 1,510 B of archives.\n",
            "After this operation, 170 kB of additional disk space will be used.\n",
            "Get:1 http://archive.ubuntu.com/ubuntu jammy-updates/universe amd64 apt-transport-https all 2.4.11 [1,510 B]\n",
            "Fetched 1,510 B in 0s (7,440 B/s)\n",
            "Selecting previously unselected package apt-transport-https.\n",
            "(Reading database ... 121654 files and directories currently installed.)\n",
            "Preparing to unpack .../apt-transport-https_2.4.11_all.deb ...\n",
            "Unpacking apt-transport-https (2.4.11) ...\n",
            "Setting up apt-transport-https (2.4.11) ...\n",
            "deb [ arch=amd64,arm64 ] https://repo.mongodb.org/apt/ubuntu jammy/mongodb-org/6.0 multiverse\n",
            "Hit:1 https://cloud.r-project.org/bin/linux/ubuntu jammy-cran40/ InRelease\n",
            "Hit:2 http://archive.ubuntu.com/ubuntu jammy InRelease\n",
            "Hit:3 http://security.ubuntu.com/ubuntu jammy-security InRelease\n",
            "Ign:4 https://repo.mongodb.org/apt/ubuntu jammy/mongodb-org/6.0 InRelease\n",
            "Hit:5 https://developer.download.nvidia.com/compute/cuda/repos/ubuntu2204/x86_64  InRelease\n",
            "Get:6 https://repo.mongodb.org/apt/ubuntu jammy/mongodb-org/6.0 Release [3,094 B]\n",
            "Hit:7 http://archive.ubuntu.com/ubuntu jammy-updates InRelease\n",
            "Get:8 https://repo.mongodb.org/apt/ubuntu jammy/mongodb-org/6.0 Release.gpg [866 B]\n",
            "Hit:9 http://archive.ubuntu.com/ubuntu jammy-backports InRelease\n",
            "Hit:10 https://ppa.launchpadcontent.net/c2d4u.team/c2d4u4.0+/ubuntu jammy InRelease\n",
            "Hit:11 https://ppa.launchpadcontent.net/deadsnakes/ppa/ubuntu jammy InRelease\n",
            "Hit:12 https://ppa.launchpadcontent.net/graphics-drivers/ppa/ubuntu jammy InRelease\n",
            "Hit:13 https://ppa.launchpadcontent.net/ubuntugis/ppa/ubuntu jammy InRelease\n",
            "Get:14 https://repo.mongodb.org/apt/ubuntu jammy/mongodb-org/6.0/multiverse arm64 Packages [40.8 kB]\n",
            "Get:15 https://repo.mongodb.org/apt/ubuntu jammy/mongodb-org/6.0/multiverse amd64 Packages [43.8 kB]\n",
            "Fetched 88.6 kB in 2s (53.8 kB/s)\n",
            "Reading package lists... Done\n",
            "Building dependency tree... Done\n",
            "Reading state information... Done\n",
            "24 packages can be upgraded. Run 'apt list --upgradable' to see them.\n",
            "Reading package lists... Done\n",
            "Building dependency tree... Done\n",
            "Reading state information... Done\n",
            "The following additional packages will be installed:\n",
            "  mongodb-database-tools mongodb-mongosh mongodb-org-database mongodb-org-database-tools-extra\n",
            "  mongodb-org-mongos mongodb-org-server mongodb-org-shell mongodb-org-tools\n",
            "The following NEW packages will be installed:\n",
            "  mongodb-database-tools mongodb-mongosh mongodb-org mongodb-org-database\n",
            "  mongodb-org-database-tools-extra mongodb-org-mongos mongodb-org-server mongodb-org-shell\n",
            "  mongodb-org-tools\n",
            "0 upgraded, 9 newly installed, 0 to remove and 24 not upgraded.\n",
            "Need to get 154 MB of archives.\n",
            "After this operation, 464 MB of additional disk space will be used.\n",
            "Get:1 https://repo.mongodb.org/apt/ubuntu jammy/mongodb-org/6.0/multiverse amd64 mongodb-database-tools amd64 100.9.4 [51.9 MB]\n",
            "Get:2 https://repo.mongodb.org/apt/ubuntu jammy/mongodb-org/6.0/multiverse amd64 mongodb-mongosh amd64 2.1.1 [47.9 MB]\n",
            "Get:3 https://repo.mongodb.org/apt/ubuntu jammy/mongodb-org/6.0/multiverse amd64 mongodb-org-shell amd64 6.0.12 [2,982 B]\n",
            "Get:4 https://repo.mongodb.org/apt/ubuntu jammy/mongodb-org/6.0/multiverse amd64 mongodb-org-server amd64 6.0.12 [31.4 MB]\n",
            "Get:5 https://repo.mongodb.org/apt/ubuntu jammy/mongodb-org/6.0/multiverse amd64 mongodb-org-mongos amd64 6.0.12 [22.4 MB]\n",
            "Get:6 https://repo.mongodb.org/apt/ubuntu jammy/mongodb-org/6.0/multiverse amd64 mongodb-org-database-tools-extra amd64 6.0.12 [7,776 B]\n",
            "Get:7 https://repo.mongodb.org/apt/ubuntu jammy/mongodb-org/6.0/multiverse amd64 mongodb-org-database amd64 6.0.12 [3,426 B]\n",
            "Get:8 https://repo.mongodb.org/apt/ubuntu jammy/mongodb-org/6.0/multiverse amd64 mongodb-org-tools amd64 6.0.12 [2,768 B]\n",
            "Get:9 https://repo.mongodb.org/apt/ubuntu jammy/mongodb-org/6.0/multiverse amd64 mongodb-org amd64 6.0.12 [2,804 B]\n",
            "Fetched 154 MB in 3s (57.3 MB/s)\n",
            "Selecting previously unselected package mongodb-database-tools.\n",
            "(Reading database ... 121658 files and directories currently installed.)\n",
            "Preparing to unpack .../0-mongodb-database-tools_100.9.4_amd64.deb ...\n",
            "Unpacking mongodb-database-tools (100.9.4) ...\n",
            "Selecting previously unselected package mongodb-mongosh.\n",
            "Preparing to unpack .../1-mongodb-mongosh_2.1.1_amd64.deb ...\n",
            "Unpacking mongodb-mongosh (2.1.1) ...\n",
            "Selecting previously unselected package mongodb-org-shell.\n",
            "Preparing to unpack .../2-mongodb-org-shell_6.0.12_amd64.deb ...\n",
            "Unpacking mongodb-org-shell (6.0.12) ...\n",
            "Selecting previously unselected package mongodb-org-server.\n",
            "Preparing to unpack .../3-mongodb-org-server_6.0.12_amd64.deb ...\n",
            "Unpacking mongodb-org-server (6.0.12) ...\n",
            "Selecting previously unselected package mongodb-org-mongos.\n",
            "Preparing to unpack .../4-mongodb-org-mongos_6.0.12_amd64.deb ...\n",
            "Unpacking mongodb-org-mongos (6.0.12) ...\n",
            "Selecting previously unselected package mongodb-org-database-tools-extra.\n",
            "Preparing to unpack .../5-mongodb-org-database-tools-extra_6.0.12_amd64.deb ...\n",
            "Unpacking mongodb-org-database-tools-extra (6.0.12) ...\n",
            "Selecting previously unselected package mongodb-org-database.\n",
            "Preparing to unpack .../6-mongodb-org-database_6.0.12_amd64.deb ...\n",
            "Unpacking mongodb-org-database (6.0.12) ...\n",
            "Selecting previously unselected package mongodb-org-tools.\n",
            "Preparing to unpack .../7-mongodb-org-tools_6.0.12_amd64.deb ...\n",
            "Unpacking mongodb-org-tools (6.0.12) ...\n",
            "Selecting previously unselected package mongodb-org.\n",
            "Preparing to unpack .../8-mongodb-org_6.0.12_amd64.deb ...\n",
            "Unpacking mongodb-org (6.0.12) ...\n",
            "Setting up mongodb-mongosh (2.1.1) ...\n",
            "Setting up mongodb-org-server (6.0.12) ...\n",
            "Adding system user `mongodb' (UID 104) ...\n",
            "Adding new user `mongodb' (UID 104) with group `nogroup' ...\n",
            "Not creating home directory `/home/mongodb'.\n",
            "Adding group `mongodb' (GID 107) ...\n",
            "Done.\n",
            "Adding user `mongodb' to group `mongodb' ...\n",
            "Adding user mongodb to group mongodb\n",
            "Done.\n",
            "System has not been booted with systemd as init system (PID 1). Can't operate.\n",
            "Failed to connect to bus: Host is down\n",
            "Setting up mongodb-org-shell (6.0.12) ...\n",
            "Setting up mongodb-database-tools (100.9.4) ...\n",
            "Setting up mongodb-org-mongos (6.0.12) ...\n",
            "Setting up mongodb-org-database-tools-extra (6.0.12) ...\n",
            "Setting up mongodb-org-database (6.0.12) ...\n",
            "Setting up mongodb-org-tools (6.0.12) ...\n",
            "Setting up mongodb-org (6.0.12) ...\n",
            "Processing triggers for man-db (2.10.2-1) ...\n",
            "about to fork child process, waiting until server is ready for connections.\n",
            "forked process: 2256\n",
            "child process started successfully, parent exiting\n",
            "Collecting pymongo\n",
            "  Downloading pymongo-4.6.1-cp310-cp310-manylinux_2_17_x86_64.manylinux2014_x86_64.whl (677 kB)\n",
            "\u001b[2K     \u001b[90m━━━━━━━━━━━━━━━━━━━━━━━━━━━━━━━━━━━━━━━━\u001b[0m \u001b[32m677.1/677.1 kB\u001b[0m \u001b[31m6.0 MB/s\u001b[0m eta \u001b[36m0:00:00\u001b[0m\n",
            "\u001b[?25hCollecting dnspython<3.0.0,>=1.16.0 (from pymongo)\n",
            "  Downloading dnspython-2.4.2-py3-none-any.whl (300 kB)\n",
            "\u001b[2K     \u001b[90m━━━━━━━━━━━━━━━━━━━━━━━━━━━━━━━━━━━━━━━━\u001b[0m \u001b[32m300.4/300.4 kB\u001b[0m \u001b[31m9.1 MB/s\u001b[0m eta \u001b[36m0:00:00\u001b[0m\n",
            "\u001b[?25hInstalling collected packages: dnspython, pymongo\n",
            "Successfully installed dnspython-2.4.2 pymongo-4.6.1\n"
          ]
        }
      ],
      "source": [
        "# @title Ejecuta esta celda para instalar mongodb en Google Colab\n",
        "!apt update\n",
        "!apt install wget curl gnupg2 software-properties-common apt-transport-https ca-certificates lsb-release\n",
        "!curl -fsSL https://www.mongodb.org/static/pgp/server-6.0.asc|sudo gpg --dearmor -o /etc/apt/trusted.gpg.d/mongodb-6.gpg\n",
        "!echo \"deb [ arch=amd64,arm64 ] https://repo.mongodb.org/apt/ubuntu $(lsb_release -cs)/mongodb-org/6.0 multiverse\" | tee /etc/apt/sources.list.d/mongodb-org-6.0.list\n",
        "!apt update\n",
        "!apt install mongodb-org\n",
        "!mkdir /data\n",
        "!mkdir /data/db\n",
        "!mongod --fork --logpath /var/log/mongodb/mongod.log\n",
        "!pip install pymongo\n",
        "import pymongo\n",
        "from pymongo import MongoClient"
      ]
    },
    {
      "cell_type": "code",
      "execution_count": null,
      "metadata": {
        "id": "uH2yRRvtjb23",
        "colab": {
          "base_uri": "https://localhost:8080/"
        },
        "outputId": "5916bde3-b0dd-4771-af81-e5c33e6b335e"
      },
      "outputs": [
        {
          "output_type": "stream",
          "name": "stdout",
          "text": [
            "Collection(Database(MongoClient(host=['localhost:27017'], document_class=dict, tz_aware=False, connect=True), 'proyecto_final'), 'primer_proyecto')\n"
          ]
        },
        {
          "output_type": "execute_result",
          "data": {
            "text/plain": [
              "[{'_id': '01',\n",
              "  'name': 'Christina Paul',\n",
              "  'salary': 1.936,\n",
              "  'age': 30,\n",
              "  'gender': 'female',\n",
              "  'department': 15,\n",
              "  'email': 'christinapaul@isosphere.com',\n",
              "  'phone': '+1 (962) 597-3331',\n",
              "  'address': '269 Friel Place, Riner, Iowa, 3407',\n",
              "  'registered': '2019-10-30T05:39:50 -01:00',\n",
              "  'tags': ['do', 'ullamco', 'cupidatat', 'Lorem']},\n",
              " {'_id': '02',\n",
              "  'name': 'Shana Randolph',\n",
              "  'salary': 2.672,\n",
              "  'age': 34,\n",
              "  'gender': 'female',\n",
              "  'department': 10,\n",
              "  'email': 'shanarandolph@isosphere.com',\n",
              "  'phone': '+1 (809) 533-2291',\n",
              "  'address': '728 Middleton Street, Calpine, Wisconsin, 5417',\n",
              "  'registered': '2019-07-16T08:14:36 -02:00',\n",
              "  'tags': ['veniam', 'id', 'id', 'aliquip']},\n",
              " {'_id': '03',\n",
              "  'name': 'Sparks Guy',\n",
              "  'salary': 1.843,\n",
              "  'age': 31,\n",
              "  'gender': 'male',\n",
              "  'department': 15,\n",
              "  'email': 'sparksguy@isosphere.com',\n",
              "  'phone': '+1 (828) 561-3223',\n",
              "  'address': '340 Reeve Place, Caroleen, Northern Mariana Islands, 4383',\n",
              "  'registered': '2020-08-10T10:41:53 -02:00',\n",
              "  'tags': ['duis', 'do', 'dolor', 'aliquip']},\n",
              " {'_id': '04',\n",
              "  'name': 'Barbra Burt',\n",
              "  'salary': 1.815,\n",
              "  'age': 22,\n",
              "  'gender': 'female',\n",
              "  'department': 10,\n",
              "  'email': 'barbraburt@isosphere.com',\n",
              "  'phone': '+1 (914) 532-3123',\n",
              "  'address': '807 Lake Place, Dyckesville, Kansas, 9572',\n",
              "  'registered': '2015-02-07T04:46:50 -01:00',\n",
              "  'tags': ['esse', 'consectetur', 'cupidatat', 'voluptate']},\n",
              " {'_id': '05',\n",
              "  'name': 'Eliza Vinson',\n",
              "  'salary': 3.002,\n",
              "  'age': 35,\n",
              "  'gender': 'female',\n",
              "  'department': 18,\n",
              "  'email': 'elizavinson@isosphere.com',\n",
              "  'phone': '+1 (861) 463-2310',\n",
              "  'address': '829 Newkirk Avenue, Elrama, New Hampshire, 3093',\n",
              "  'registered': '2021-02-13T02:38:18 -01:00',\n",
              "  'tags': ['ad', 'amet', 'fugiat', 'labore']},\n",
              " {'_id': '06',\n",
              "  'name': 'Mayo Herrera',\n",
              "  'salary': 2.083,\n",
              "  'age': 39,\n",
              "  'gender': 'male',\n",
              "  'department': 12,\n",
              "  'email': 'mayoherrera@isosphere.com',\n",
              "  'phone': '+1 (905) 522-2932',\n",
              "  'address': '791 Manhattan Court, Katonah, Arizona, 1795',\n",
              "  'registered': '2018-04-24T05:47:50 -02:00',\n",
              "  'tags': ['do', 'minim', 'excepteur', 'esse']},\n",
              " {'_id': '07',\n",
              "  'name': 'Finch Cherry',\n",
              "  'salary': 1.255,\n",
              "  'age': 25,\n",
              "  'gender': 'male',\n",
              "  'department': 18,\n",
              "  'email': 'finchcherry@isosphere.com',\n",
              "  'phone': '+1 (932) 505-3259',\n",
              "  'address': '667 Cleveland Street, Hannasville, Nebraska, 3346',\n",
              "  'registered': '2016-03-10T09:31:50 -01:00',\n",
              "  'tags': ['nulla', 'laborum', 'officia', 'et']}]"
            ]
          },
          "metadata": {},
          "execution_count": 4
        }
      ],
      "source": [
        "#@title Creamos la base de datos 'proyecto_final', la colección 'primer_proyecto'\n",
        "try:\n",
        "  db.drop_collection('primer_proyecto') #para evitar fallos borramos la colección\n",
        "except:\n",
        "  pass\n",
        "myclient = pymongo.MongoClient()\n",
        "db = myclient[\"proyecto_final\"]\n",
        "\n",
        "print(db.primer_proyecto)\n",
        "with open('/content/empleados_json.json') as file:\n",
        "    data = json.load(file)\n",
        "\n",
        "db.primer_proyecto.insert_many(data)\n",
        "list(db.primer_proyecto.find()) #mostramos el contenido de la colección"
      ]
    },
    {
      "cell_type": "markdown",
      "metadata": {
        "id": "0PzLfhT1UULc"
      },
      "source": [
        "#**Vamos con los ejercicios**\n",
        "\n",
        "Recuerda que la base de datos se llama 'proyecto_final' y la variable db contiene 'myclient[\"proyecto_final\"]' y la colección se llama 'primer_proyecto'."
      ]
    },
    {
      "cell_type": "markdown",
      "metadata": {
        "id": "lViDvxOYUG0u"
      },
      "source": [
        "#**1**\n",
        "Buscar al empleado 'Christina Paul'\n",
        "\n",
        "\n",
        "\n",
        "Salida esperada:\n",
        "\n",
        "    [{'_id': '01',\n",
        "      'address': '269 Friel Place, Riner, Iowa, 3407',\n",
        "      'age': 30,\n",
        "      'department': 15,\n",
        "      'email': 'christinapaul@isosphere.com',\n",
        "      'gender': 'female',\n",
        "      'name': 'Christina Paul',\n",
        "      'phone': '+1 (962) 597-3331',\n",
        "      'registered': '2019-10-30T05:39:50 -01:00',\n",
        "      'salary': 1.936,\n",
        "      'tags': ['do', 'ullamco', 'cupidatat', 'Lorem']}]"
      ]
    },
    {
      "cell_type": "code",
      "execution_count": null,
      "metadata": {
        "id": "_WPU-iE8Sl8C",
        "colab": {
          "base_uri": "https://localhost:8080/"
        },
        "outputId": "2fa0f1ca-66e7-4b33-9151-c377d226d1b0"
      },
      "outputs": [
        {
          "output_type": "execute_result",
          "data": {
            "text/plain": [
              "[{'_id': '01',\n",
              "  'name': 'Christina Paul',\n",
              "  'salary': 1.936,\n",
              "  'age': 30,\n",
              "  'gender': 'female',\n",
              "  'department': 15,\n",
              "  'email': 'christinapaul@isosphere.com',\n",
              "  'phone': '+1 (962) 597-3331',\n",
              "  'address': '269 Friel Place, Riner, Iowa, 3407',\n",
              "  'registered': '2019-10-30T05:39:50 -01:00',\n",
              "  'tags': ['do', 'ullamco', 'cupidatat', 'Lorem']}]"
            ]
          },
          "metadata": {},
          "execution_count": 5
        }
      ],
      "source": [
        "#Busca un/a empleada de nombre: 'Christina Paul'\n",
        "list(db.primer_proyecto.find({'name':'Christina Paul'}))"
      ]
    },
    {
      "cell_type": "markdown",
      "metadata": {
        "id": "-2p9f67PUYfT"
      },
      "source": [
        "#**2**\n",
        "Vamos a buscar todos los empleados del departamanto 18\n",
        "\n",
        "Salida experada:\n",
        "\n",
        "    [{'_id': '05',\n",
        "      'address': '829 Newkirk Avenue, Elrama, New Hampshire, 3093',\n",
        "      'age': 35,\n",
        "      'department': 18,\n",
        "      'email': 'elizavinson@isosphere.com',\n",
        "      'gender': 'female',\n",
        "      'name': 'Eliza Vinson',\n",
        "      'phone': '+1 (861) 463-2310',\n",
        "      'registered': '2021-02-13T02:38:18 -01:00',\n",
        "      'salary': 3.002,\n",
        "      'tags': ['ad', 'amet', 'fugiat', 'labore']},\n",
        "    {'_id': '07',\n",
        "      'address': '667 Cleveland Street, Hannasville, Nebraska, 3346',\n",
        "      'age': 25,\n",
        "      'department': 18,\n",
        "      'email': 'finchcherry@isosphere.com',\n",
        "      'gender': 'male',\n",
        "      'name': 'Finch Cherry',\n",
        "      'phone': '+1 (932) 505-3259',\n",
        "      'registered': '2016-03-10T09:31:50 -01:00',\n",
        "      'salary': 1.255,\n",
        "      'tags': ['nulla', 'laborum', 'officia', 'et']}]"
      ]
    },
    {
      "cell_type": "code",
      "execution_count": null,
      "metadata": {
        "id": "-5yZ1ghFUYy4",
        "colab": {
          "base_uri": "https://localhost:8080/"
        },
        "outputId": "8bf333ca-0999-49e7-a2b9-1a4da06ebcbd"
      },
      "outputs": [
        {
          "output_type": "execute_result",
          "data": {
            "text/plain": [
              "[{'_id': '05',\n",
              "  'name': 'Eliza Vinson',\n",
              "  'salary': 3.002,\n",
              "  'age': 35,\n",
              "  'gender': 'female',\n",
              "  'department': 18,\n",
              "  'email': 'elizavinson@isosphere.com',\n",
              "  'phone': '+1 (861) 463-2310',\n",
              "  'address': '829 Newkirk Avenue, Elrama, New Hampshire, 3093',\n",
              "  'registered': '2021-02-13T02:38:18 -01:00',\n",
              "  'tags': ['ad', 'amet', 'fugiat', 'labore']},\n",
              " {'_id': '07',\n",
              "  'name': 'Finch Cherry',\n",
              "  'salary': 1.255,\n",
              "  'age': 25,\n",
              "  'gender': 'male',\n",
              "  'department': 18,\n",
              "  'email': 'finchcherry@isosphere.com',\n",
              "  'phone': '+1 (932) 505-3259',\n",
              "  'address': '667 Cleveland Street, Hannasville, Nebraska, 3346',\n",
              "  'registered': '2016-03-10T09:31:50 -01:00',\n",
              "  'tags': ['nulla', 'laborum', 'officia', 'et']}]"
            ]
          },
          "metadata": {},
          "execution_count": 6
        }
      ],
      "source": [
        "#Busca los empleados que pertenecen al departamento 18\n",
        "list(db.primer_proyecto.find({'department': 18}))"
      ]
    },
    {
      "cell_type": "markdown",
      "source": [
        "#**3**\n",
        "Vamos a buscar los empleados con 35 o más años\n",
        "\n",
        "Salida esperada:\n",
        "\n",
        "    [{'_id': '05',\n",
        "      'address': '829 Newkirk Avenue, Elrama, New Hampshire, 3093',\n",
        "      'age': 35,\n",
        "      'department': 18,\n",
        "      'email': 'elizavinson@isosphere.com',\n",
        "      'gender': 'female',\n",
        "      'name': 'Eliza Vinson',\n",
        "      'phone': '+1 (861) 463-2310',\n",
        "      'registered': '2021-02-13T02:38:18 -01:00',\n",
        "      'salary': 3.002,\n",
        "      'tags': ['ad', 'amet', 'fugiat', 'labore']},\n",
        "    {'_id': '06',\n",
        "      'address': '791 Manhattan Court, Katonah, Arizona, 1795',\n",
        "      'age': 39,\n",
        "      'department': 12,\n",
        "      'email': 'mayoherrera@isosphere.com',\n",
        "      'gender': 'male',\n",
        "      'name': 'Mayo Herrera',\n",
        "      'phone': '+1 (905) 522-2932',\n",
        "      'registered': '2018-04-24T05:47:50 -02:00',\n",
        "      'salary': 2.083,\n",
        "      'tags': ['do', 'minim', 'excepteur', 'esse']}]"
      ],
      "metadata": {
        "id": "bAJkW_ynnChA"
      }
    },
    {
      "cell_type": "code",
      "source": [
        "#Busca los empleados de igual o más de 35 años\n",
        "list(db.primer_proyecto.find({'age': {'$gte': 35}}))"
      ],
      "metadata": {
        "id": "7tZylHo8nC-_",
        "colab": {
          "base_uri": "https://localhost:8080/"
        },
        "outputId": "e816586f-fcac-48de-e5db-3d158ef0d53c"
      },
      "execution_count": null,
      "outputs": [
        {
          "output_type": "execute_result",
          "data": {
            "text/plain": [
              "[{'_id': '05',\n",
              "  'name': 'Eliza Vinson',\n",
              "  'salary': 3.002,\n",
              "  'age': 35,\n",
              "  'gender': 'female',\n",
              "  'department': 18,\n",
              "  'email': 'elizavinson@isosphere.com',\n",
              "  'phone': '+1 (861) 463-2310',\n",
              "  'address': '829 Newkirk Avenue, Elrama, New Hampshire, 3093',\n",
              "  'registered': '2021-02-13T02:38:18 -01:00',\n",
              "  'tags': ['ad', 'amet', 'fugiat', 'labore']},\n",
              " {'_id': '06',\n",
              "  'name': 'Mayo Herrera',\n",
              "  'salary': 2.083,\n",
              "  'age': 39,\n",
              "  'gender': 'male',\n",
              "  'department': 12,\n",
              "  'email': 'mayoherrera@isosphere.com',\n",
              "  'phone': '+1 (905) 522-2932',\n",
              "  'address': '791 Manhattan Court, Katonah, Arizona, 1795',\n",
              "  'registered': '2018-04-24T05:47:50 -02:00',\n",
              "  'tags': ['do', 'minim', 'excepteur', 'esse']}]"
            ]
          },
          "metadata": {},
          "execution_count": 7
        }
      ]
    },
    {
      "cell_type": "markdown",
      "source": [
        "#**4**\n",
        "Ha sido el cumpleaños de \"Eliza Vinson\" así que hay que modificar su edad sumándole un año\n",
        "\n",
        "Salida esperada:\n",
        "\n",
        "    [{'_id': '05',\n",
        "      'address': '829 Newkirk Avenue, Elrama, New Hampshire, 3093',\n",
        "      'age': 36,\n",
        "      'department': 18,\n",
        "      'email': 'elizavinson@isosphere.com',\n",
        "      'gender': 'female',\n",
        "      'name': 'Eliza Vinson',\n",
        "      'phone': '+1 (861) 463-2310',\n",
        "      'registered': '2021-02-13T02:38:18 -01:00',\n",
        "      'salary': 3.002,\n",
        "      'tags': ['ad', 'amet', 'fugiat', 'labore']}]\n"
      ],
      "metadata": {
        "id": "QxwDhTLIvb-k"
      }
    },
    {
      "cell_type": "code",
      "source": [
        "#Actualiza la edad de Eliza Vinson que es hoy su cumpleaños\n",
        "db.primer_proyecto.update_many({'name': 'Eliza Vinson'},{'$inc':{'age':1}})\n",
        "list(db.primer_proyecto.find({'name': 'Eliza Vinson'}))"
      ],
      "metadata": {
        "id": "fnRNECX5vcu7",
        "colab": {
          "base_uri": "https://localhost:8080/"
        },
        "outputId": "6a337a46-684f-40a8-de94-b8c96297ddc0"
      },
      "execution_count": null,
      "outputs": [
        {
          "output_type": "execute_result",
          "data": {
            "text/plain": [
              "[{'_id': '05',\n",
              "  'name': 'Eliza Vinson',\n",
              "  'salary': 3.002,\n",
              "  'age': 36,\n",
              "  'gender': 'female',\n",
              "  'department': 18,\n",
              "  'email': 'elizavinson@isosphere.com',\n",
              "  'phone': '+1 (861) 463-2310',\n",
              "  'address': '829 Newkirk Avenue, Elrama, New Hampshire, 3093',\n",
              "  'registered': '2021-02-13T02:38:18 -01:00',\n",
              "  'tags': ['ad', 'amet', 'fugiat', 'labore']}]"
            ]
          },
          "metadata": {},
          "execution_count": 8
        }
      ]
    },
    {
      "cell_type": "markdown",
      "metadata": {
        "id": "ZPQKRJg7U65G"
      },
      "source": [
        "#**5**\n",
        "Vamos a buscar todos los empleados con un salario mayor o igual que 2.000\n",
        "\n",
        "Salida esperada:\n",
        "\n",
        "    [{'_id': '02',\n",
        "      'address': '728 Middleton Street, Calpine, Wisconsin, 5417',\n",
        "      'age': 34,\n",
        "      'department': 10,\n",
        "      'email': 'shanarandolph@isosphere.com',\n",
        "      'gender': 'female',\n",
        "      'name': 'Shana Randolph',\n",
        "      'phone': '+1 (809) 533-2291',\n",
        "      'registered': '2019-07-16T08:14:36 -02:00',\n",
        "      'salary': 2.672,\n",
        "      'tags': ['veniam', 'id', 'id', 'aliquip']},\n",
        "    {'_id': '05',\n",
        "      'address': '829 Newkirk Avenue, Elrama, New Hampshire, 3093',\n",
        "      'age': 36,\n",
        "      'department': 18,\n",
        "      'email': 'elizavinson@isosphere.com',\n",
        "      'gender': 'female',\n",
        "      'name': 'Eliza Vinson',\n",
        "      'phone': '+1 (861) 463-2310',\n",
        "      'registered': '2021-02-13T02:38:18 -01:00',\n",
        "      'salary': 3.002,\n",
        "      'tags': ['ad', 'amet', 'fugiat', 'labore']},\n",
        "    {'_id': '06',\n",
        "      'address': '791 Manhattan Court, Katonah, Arizona, 1795',\n",
        "      'age': 39,\n",
        "      'department': 12,\n",
        "      'email': 'mayoherrera@isosphere.com',\n",
        "      'gender': 'male',\n",
        "      'name': 'Mayo Herrera',\n",
        "      'phone': '+1 (905) 522-2932',\n",
        "      'registered': '2018-04-24T05:47:50 -02:00',\n",
        "      'salary': 2.083,\n",
        "      'tags': ['do', 'minim', 'excepteur', 'esse']}]"
      ]
    },
    {
      "cell_type": "code",
      "execution_count": null,
      "metadata": {
        "id": "9S3p95bEVckc",
        "colab": {
          "base_uri": "https://localhost:8080/"
        },
        "outputId": "a502ab7c-533f-40df-f4e6-e68173f7b8fd"
      },
      "outputs": [
        {
          "output_type": "execute_result",
          "data": {
            "text/plain": [
              "[{'_id': '02',\n",
              "  'name': 'Shana Randolph',\n",
              "  'salary': 2.672,\n",
              "  'age': 34,\n",
              "  'gender': 'female',\n",
              "  'department': 10,\n",
              "  'email': 'shanarandolph@isosphere.com',\n",
              "  'phone': '+1 (809) 533-2291',\n",
              "  'address': '728 Middleton Street, Calpine, Wisconsin, 5417',\n",
              "  'registered': '2019-07-16T08:14:36 -02:00',\n",
              "  'tags': ['veniam', 'id', 'id', 'aliquip']},\n",
              " {'_id': '05',\n",
              "  'name': 'Eliza Vinson',\n",
              "  'salary': 3.002,\n",
              "  'age': 36,\n",
              "  'gender': 'female',\n",
              "  'department': 18,\n",
              "  'email': 'elizavinson@isosphere.com',\n",
              "  'phone': '+1 (861) 463-2310',\n",
              "  'address': '829 Newkirk Avenue, Elrama, New Hampshire, 3093',\n",
              "  'registered': '2021-02-13T02:38:18 -01:00',\n",
              "  'tags': ['ad', 'amet', 'fugiat', 'labore']},\n",
              " {'_id': '06',\n",
              "  'name': 'Mayo Herrera',\n",
              "  'salary': 2.083,\n",
              "  'age': 39,\n",
              "  'gender': 'male',\n",
              "  'department': 12,\n",
              "  'email': 'mayoherrera@isosphere.com',\n",
              "  'phone': '+1 (905) 522-2932',\n",
              "  'address': '791 Manhattan Court, Katonah, Arizona, 1795',\n",
              "  'registered': '2018-04-24T05:47:50 -02:00',\n",
              "  'tags': ['do', 'minim', 'excepteur', 'esse']}]"
            ]
          },
          "metadata": {},
          "execution_count": 9
        }
      ],
      "source": [
        "#Busca los empleados con un sueldo igual o mayor que 2.000\n",
        "list(db.primer_proyecto.find({'salary': {'$gte': 2.000}}))"
      ]
    },
    {
      "cell_type": "markdown",
      "source": [
        "#**6**\n",
        "Aumentar el salario de los empleados del departamento 10 en 0.500\n",
        "\n",
        "    [{'_id': '02',\n",
        "      'address': '728 Middleton Street, Calpine, Wisconsin, 5417',\n",
        "      'age': 34,\n",
        "      'department': 10,\n",
        "      'email': 'shanarandolph@isosphere.com',\n",
        "      'gender': 'female',\n",
        "      'name': 'Shana Randolph',\n",
        "      'phone': '+1 (809) 533-2291',\n",
        "      'registered': '2019-07-16T08:14:36 -02:00',\n",
        "      'salary': 3.172,\n",
        "      'tags': ['veniam', 'id', 'id', 'aliquip']},\n",
        "    {'_id': '04',\n",
        "      'address': '807 Lake Place, Dyckesville, Kansas, 9572',\n",
        "      'age': 22,\n",
        "      'department': 10,\n",
        "      'email': 'barbraburt@isosphere.com',\n",
        "      'gender': 'female',\n",
        "      'name': 'Barbra Burt',\n",
        "      'phone': '+1 (914) 532-3123',\n",
        "      'registered': '2015-02-07T04:46:50 -01:00',\n",
        "      'salary': 2.315,\n",
        "      'tags': ['esse', 'consectetur', 'cupidatat', 'voluptate']}]"
      ],
      "metadata": {
        "id": "yo5xgLx0mIXR"
      }
    },
    {
      "cell_type": "code",
      "execution_count": null,
      "metadata": {
        "id": "aGbMZc8pU7IA",
        "colab": {
          "base_uri": "https://localhost:8080/"
        },
        "outputId": "fb495a25-2a3d-40cc-b276-adf7d981e3e8"
      },
      "outputs": [
        {
          "output_type": "execute_result",
          "data": {
            "text/plain": [
              "[{'_id': '02',\n",
              "  'name': 'Shana Randolph',\n",
              "  'salary': 3.172,\n",
              "  'age': 34,\n",
              "  'gender': 'female',\n",
              "  'department': 10,\n",
              "  'email': 'shanarandolph@isosphere.com',\n",
              "  'phone': '+1 (809) 533-2291',\n",
              "  'address': '728 Middleton Street, Calpine, Wisconsin, 5417',\n",
              "  'registered': '2019-07-16T08:14:36 -02:00',\n",
              "  'tags': ['veniam', 'id', 'id', 'aliquip']},\n",
              " {'_id': '04',\n",
              "  'name': 'Barbra Burt',\n",
              "  'salary': 2.315,\n",
              "  'age': 22,\n",
              "  'gender': 'female',\n",
              "  'department': 10,\n",
              "  'email': 'barbraburt@isosphere.com',\n",
              "  'phone': '+1 (914) 532-3123',\n",
              "  'address': '807 Lake Place, Dyckesville, Kansas, 9572',\n",
              "  'registered': '2015-02-07T04:46:50 -01:00',\n",
              "  'tags': ['esse', 'consectetur', 'cupidatat', 'voluptate']}]"
            ]
          },
          "metadata": {},
          "execution_count": 10
        }
      ],
      "source": [
        "#Aumenta el sueldo de los empleados del departamento 10 en 0.500\n",
        "db.primer_proyecto.update_many({'department': 10},{'$inc':{'salary':0.500}})\n",
        "list(db.primer_proyecto.find({'department': 10}))"
      ]
    },
    {
      "cell_type": "markdown",
      "source": [
        "#**7**\n",
        "\n",
        "Vamos a buscar todos los empleados que su nombre empiece por S.\n",
        "\n",
        "**Recuerda que en RegExp el símbolo ^ significa empieza por**\n",
        "\n",
        "Salida esperada:\n",
        "\n",
        "    [{'_id': '02',\n",
        "      'address': '728 Middleton Street, Calpine, Wisconsin, 5417',\n",
        "      'age': 34,\n",
        "      'department': 10,\n",
        "      'email': 'shanarandolph@isosphere.com',\n",
        "      'gender': 'female',\n",
        "      'name': 'Shana Randolph',\n",
        "      'phone': '+1 (809) 533-2291',\n",
        "      'registered': '2019-07-16T08:14:36 -02:00',\n",
        "      'salary': 502.672,\n",
        "      'tags': ['veniam', 'id', 'id', 'aliquip']},\n",
        "    {'_id': '03',\n",
        "      'address': '340 Reeve Place, Caroleen, Northern Mariana Islands, 4383',\n",
        "      'age': 31,\n",
        "      'department': 15,\n",
        "      'email': 'sparksguy@isosphere.com',\n",
        "      'gender': 'male',\n",
        "      'name': 'Sparks Guy',\n",
        "      'phone': '+1 (828) 561-3223',\n",
        "      'registered': '2020-08-10T10:41:53 -02:00',\n",
        "      'salary': 1.843,\n",
        "      'tags': ['duis', 'do', 'dolor', 'aliquip']}]\n"
      ],
      "metadata": {
        "id": "QONUbQK6oPOp"
      }
    },
    {
      "cell_type": "code",
      "source": [
        "#Busca los empleados cuyo nombre empieze por S\n",
        "list(db.primer_proyecto.find({'name':{'$regex':'^S'}}))"
      ],
      "metadata": {
        "id": "md0OX6aYzU29",
        "colab": {
          "base_uri": "https://localhost:8080/"
        },
        "outputId": "e68b9d5a-3f73-406e-e573-15f1adea6b54"
      },
      "execution_count": null,
      "outputs": [
        {
          "output_type": "execute_result",
          "data": {
            "text/plain": [
              "[{'_id': '02',\n",
              "  'name': 'Shana Randolph',\n",
              "  'salary': 3.172,\n",
              "  'age': 34,\n",
              "  'gender': 'female',\n",
              "  'department': 10,\n",
              "  'email': 'shanarandolph@isosphere.com',\n",
              "  'phone': '+1 (809) 533-2291',\n",
              "  'address': '728 Middleton Street, Calpine, Wisconsin, 5417',\n",
              "  'registered': '2019-07-16T08:14:36 -02:00',\n",
              "  'tags': ['veniam', 'id', 'id', 'aliquip']},\n",
              " {'_id': '03',\n",
              "  'name': 'Sparks Guy',\n",
              "  'salary': 1.843,\n",
              "  'age': 31,\n",
              "  'gender': 'male',\n",
              "  'department': 15,\n",
              "  'email': 'sparksguy@isosphere.com',\n",
              "  'phone': '+1 (828) 561-3223',\n",
              "  'address': '340 Reeve Place, Caroleen, Northern Mariana Islands, 4383',\n",
              "  'registered': '2020-08-10T10:41:53 -02:00',\n",
              "  'tags': ['duis', 'do', 'dolor', 'aliquip']}]"
            ]
          },
          "metadata": {},
          "execution_count": 11
        }
      ]
    },
    {
      "cell_type": "markdown",
      "source": [
        "#**8**\n",
        "\n",
        "vamos a buscar en la lista dentro de la coleccion por ejemplo el tag \"do\"\n",
        "\n",
        "    [{'_id': '01',\n",
        "      'address': '269 Friel Place, Riner, Iowa, 3407',\n",
        "      'age': 30,\n",
        "      'department': 15,\n",
        "      'email': 'christinapaul@isosphere.com',\n",
        "      'gender': 'female',\n",
        "      'name': 'Christina Paul',\n",
        "      'phone': '+1 (962) 597-3331',\n",
        "      'registered': '2019-10-30T05:39:50 -01:00',\n",
        "      'salary': 1.936,\n",
        "      'tags': ['do', 'ullamco', 'cupidatat', 'Lorem']},\n",
        "    {'_id': '03',\n",
        "      'address': '340 Reeve Place, Caroleen, Northern Mariana Islands, 4383',\n",
        "      'age': 31,\n",
        "      'department': 15,\n",
        "      'email': 'sparksguy@isosphere.com',\n",
        "      'gender': 'male',\n",
        "      'name': 'Sparks Guy',\n",
        "      'phone': '+1 (828) 561-3223',\n",
        "      'registered': '2020-08-10T10:41:53 -02:00',\n",
        "      'salary': 1.843,\n",
        "      'tags': ['duis', 'do', 'dolor', 'aliquip']},\n",
        "    {'_id': '06',\n",
        "      'address': '791 Manhattan Court, Katonah, Arizona, 1795',\n",
        "      'age': 39,\n",
        "      'department': 12,\n",
        "      'email': 'mayoherrera@isosphere.com',\n",
        "      'gender': 'male',\n",
        "      'name': 'Mayo Herrera',\n",
        "      'phone': '+1 (905) 522-2932',\n",
        "      'registered': '2018-04-24T05:47:50 -02:00',\n",
        "      'salary': 2.083,\n",
        "      'tags': ['do', 'minim', 'excepteur', 'esse']}]"
      ],
      "metadata": {
        "id": "5hDWNj6YoRGu"
      }
    },
    {
      "cell_type": "code",
      "source": [
        "#Busca los empleados que tenga do dentro de tags.\n",
        "#list(db.primer_proyecto.aggregate([{'$match':{'tags':'$tags.do'}}])) NO FUNCIONA!!\n",
        "list(db.primer_proyecto.find({'tags': 'do'}))"
      ],
      "metadata": {
        "id": "fm1GKlRP0mtq",
        "colab": {
          "base_uri": "https://localhost:8080/"
        },
        "outputId": "40b7e0b7-5acc-4ecc-d7d7-b6f6be832239"
      },
      "execution_count": null,
      "outputs": [
        {
          "output_type": "execute_result",
          "data": {
            "text/plain": [
              "[{'_id': '01',\n",
              "  'name': 'Christina Paul',\n",
              "  'salary': 1.936,\n",
              "  'age': 30,\n",
              "  'gender': 'female',\n",
              "  'department': 15,\n",
              "  'email': 'christinapaul@isosphere.com',\n",
              "  'phone': '+1 (962) 597-3331',\n",
              "  'address': '269 Friel Place, Riner, Iowa, 3407',\n",
              "  'registered': '2019-10-30T05:39:50 -01:00',\n",
              "  'tags': ['do', 'ullamco', 'cupidatat', 'Lorem']},\n",
              " {'_id': '03',\n",
              "  'name': 'Sparks Guy',\n",
              "  'salary': 1.843,\n",
              "  'age': 31,\n",
              "  'gender': 'male',\n",
              "  'department': 15,\n",
              "  'email': 'sparksguy@isosphere.com',\n",
              "  'phone': '+1 (828) 561-3223',\n",
              "  'address': '340 Reeve Place, Caroleen, Northern Mariana Islands, 4383',\n",
              "  'registered': '2020-08-10T10:41:53 -02:00',\n",
              "  'tags': ['duis', 'do', 'dolor', 'aliquip']},\n",
              " {'_id': '06',\n",
              "  'name': 'Mayo Herrera',\n",
              "  'salary': 2.083,\n",
              "  'age': 39,\n",
              "  'gender': 'male',\n",
              "  'department': 12,\n",
              "  'email': 'mayoherrera@isosphere.com',\n",
              "  'phone': '+1 (905) 522-2932',\n",
              "  'address': '791 Manhattan Court, Katonah, Arizona, 1795',\n",
              "  'registered': '2018-04-24T05:47:50 -02:00',\n",
              "  'tags': ['do', 'minim', 'excepteur', 'esse']}]"
            ]
          },
          "metadata": {},
          "execution_count": 50
        }
      ]
    },
    {
      "cell_type": "markdown",
      "source": [
        "#**9**\n",
        "vamos a buscar los empleados del departamantento 18 y 12\n",
        "\n",
        "Salida esperada:\n",
        "\n",
        "    [{'_id': '05',\n",
        "      'address': '829 Newkirk Avenue, Elrama, New Hampshire, 3093',\n",
        "      'age': 36,\n",
        "      'department': 18,\n",
        "      'email': 'elizavinson@isosphere.com',\n",
        "      'gender': 'female',\n",
        "      'name': 'Eliza Vinson',\n",
        "      'phone': '+1 (861) 463-2310',\n",
        "      'registered': '2021-02-13T02:38:18 -01:00',\n",
        "      'salary': 3.002,\n",
        "      'tags': ['ad', 'amet', 'fugiat', 'labore']},\n",
        "    {'_id': '06',\n",
        "      'address': '791 Manhattan Court, Katonah, Arizona, 1795',\n",
        "      'age': 39,\n",
        "      'department': 12,\n",
        "      'email': 'mayoherrera@isosphere.com',\n",
        "      'gender': 'male',\n",
        "      'name': 'Mayo Herrera',\n",
        "      'phone': '+1 (905) 522-2932',\n",
        "      'registered': '2018-04-24T05:47:50 -02:00',\n",
        "      'salary': 2.083,\n",
        "      'tags': ['do', 'minim', 'excepteur', 'esse']},\n",
        "    {'_id': '07',\n",
        "      'address': '667 Cleveland Street, Hannasville, Nebraska, 3346',\n",
        "      'age': 25,\n",
        "      'department': 18,\n",
        "      'email': 'finchcherry@isosphere.com',\n",
        "      'gender': 'male',\n",
        "      'name': 'Finch Cherry',\n",
        "      'phone': '+1 (932) 505-3259',\n",
        "      'registered': '2016-03-10T09:31:50 -01:00',\n",
        "      'salary': 1.255,\n",
        "      'tags': ['nulla', 'laborum', 'officia', 'et']}]"
      ],
      "metadata": {
        "id": "9al1YfXdoTqV"
      }
    },
    {
      "cell_type": "code",
      "source": [
        "#Busca los empleados que sean del departamento 18 o del departamento 12\n",
        "list(db.primer_proyecto.find({'$or': [{'department': 18}, {'department': 12}]}))"
      ],
      "metadata": {
        "id": "WveIw7MT7Ac2",
        "colab": {
          "base_uri": "https://localhost:8080/"
        },
        "outputId": "e5936a29-b549-4558-ef7e-dcc46231856a"
      },
      "execution_count": null,
      "outputs": [
        {
          "output_type": "execute_result",
          "data": {
            "text/plain": [
              "[{'_id': '05',\n",
              "  'name': 'Eliza Vinson',\n",
              "  'salary': 3.002,\n",
              "  'age': 36,\n",
              "  'gender': 'female',\n",
              "  'department': 18,\n",
              "  'email': 'elizavinson@isosphere.com',\n",
              "  'phone': '+1 (861) 463-2310',\n",
              "  'address': '829 Newkirk Avenue, Elrama, New Hampshire, 3093',\n",
              "  'registered': '2021-02-13T02:38:18 -01:00',\n",
              "  'tags': ['ad', 'amet', 'fugiat', 'labore']},\n",
              " {'_id': '06',\n",
              "  'name': 'Mayo Herrera',\n",
              "  'salary': 2.083,\n",
              "  'age': 39,\n",
              "  'gender': 'male',\n",
              "  'department': 12,\n",
              "  'email': 'mayoherrera@isosphere.com',\n",
              "  'phone': '+1 (905) 522-2932',\n",
              "  'address': '791 Manhattan Court, Katonah, Arizona, 1795',\n",
              "  'registered': '2018-04-24T05:47:50 -02:00',\n",
              "  'tags': ['do', 'minim', 'excepteur', 'esse']},\n",
              " {'_id': '07',\n",
              "  'name': 'Finch Cherry',\n",
              "  'salary': 1.255,\n",
              "  'age': 25,\n",
              "  'gender': 'male',\n",
              "  'department': 18,\n",
              "  'email': 'finchcherry@isosphere.com',\n",
              "  'phone': '+1 (932) 505-3259',\n",
              "  'address': '667 Cleveland Street, Hannasville, Nebraska, 3346',\n",
              "  'registered': '2016-03-10T09:31:50 -01:00',\n",
              "  'tags': ['nulla', 'laborum', 'officia', 'et']}]"
            ]
          },
          "metadata": {},
          "execution_count": 21
        }
      ]
    },
    {
      "cell_type": "markdown",
      "source": [
        "#**10**\n",
        "\n",
        "vamos a buscar los salarios mayores a 3.000 y menores de 1900\n",
        "\n",
        "Salida esperada:\n",
        "\n",
        "    [{'_id': '02',\n",
        "      'address': '728 Middleton Street, Calpine, Wisconsin, 5417',\n",
        "      'age': 34,\n",
        "      'department': 10,\n",
        "      'email': 'shanarandolph@isosphere.com',\n",
        "      'gender': 'female',\n",
        "      'name': 'Shana Randolph',\n",
        "      'phone': '+1 (809) 533-2291',\n",
        "      'registered': '2019-07-16T08:14:36 -02:00',\n",
        "      'salary': 502.672,\n",
        "      'tags': ['veniam', 'id', 'id', 'aliquip']},\n",
        "    {'_id': '03',\n",
        "      'address': '340 Reeve Place, Caroleen, Northern Mariana Islands, 4383',\n",
        "      'age': 31,\n",
        "      'department': 15,\n",
        "      'email': 'sparksguy@isosphere.com',\n",
        "      'gender': 'male',\n",
        "      'name': 'Sparks Guy',\n",
        "      'phone': '+1 (828) 561-3223',\n",
        "      'registered': '2020-08-10T10:41:53 -02:00',\n",
        "      'salary': 1.843,\n",
        "      'tags': ['duis', 'do', 'dolor', 'aliquip']},\n",
        "    {'_id': '04',\n",
        "      'address': '807 Lake Place, Dyckesville, Kansas, 9572',\n",
        "      'age': 22,\n",
        "      'department': 10,\n",
        "      'email': 'barbraburt@isosphere.com',\n",
        "      'gender': 'female',\n",
        "      'name': 'Barbra Burt',\n",
        "      'phone': '+1 (914) 532-3123',\n",
        "      'registered': '2015-02-07T04:46:50 -01:00',\n",
        "      'salary': 501.815,\n",
        "      'tags': ['esse', 'consectetur', 'cupidatat', 'voluptate']},\n",
        "    {'_id': '05',\n",
        "      'address': '829 Newkirk Avenue, Elrama, New Hampshire, 3093',\n",
        "      'age': 36,\n",
        "      'department': 18,\n",
        "      'email': 'elizavinson@isosphere.com',\n",
        "      'gender': 'female',\n",
        "      'name': 'Eliza Vinson',\n",
        "      'phone': '+1 (861) 463-2310',\n",
        "      'registered': '2021-02-13T02:38:18 -01:00',\n",
        "      'salary': 3.002,\n",
        "      'tags': ['ad', 'amet', 'fugiat', 'labore']},\n",
        "    {'_id': '07',\n",
        "      'address': '667 Cleveland Street, Hannasville, Nebraska, 3346',\n",
        "      'age': 25,\n",
        "      'department': 18,\n",
        "      'email': 'finchcherry@isosphere.com',\n",
        "      'gender': 'male',\n",
        "      'name': 'Finch Cherry',\n",
        "      'phone': '+1 (932) 505-3259',\n",
        "      'registered': '2016-03-10T09:31:50 -01:00',\n",
        "      'salary': 1.255,\n",
        "      'tags': ['nulla', 'laborum', 'officia', 'et']}]"
      ],
      "metadata": {
        "id": "caC_lsh9oVBO"
      }
    },
    {
      "cell_type": "code",
      "source": [
        "#Busca los empleados con sueldos mayores que 3000 y menores que 1900\n",
        "list(db.primer_proyecto.find({'$or':[{'salary':{'$lt':1.900}},{'salary':{'$gt':3.000}}]}))"
      ],
      "metadata": {
        "id": "aWAUxpnP-QVs",
        "colab": {
          "base_uri": "https://localhost:8080/"
        },
        "outputId": "f39f3979-8b39-4fdd-d9e2-bbe2800f4ee5"
      },
      "execution_count": null,
      "outputs": [
        {
          "output_type": "execute_result",
          "data": {
            "text/plain": [
              "[{'_id': '02',\n",
              "  'name': 'Shana Randolph',\n",
              "  'salary': 3.172,\n",
              "  'age': 34,\n",
              "  'gender': 'female',\n",
              "  'department': 10,\n",
              "  'email': 'shanarandolph@isosphere.com',\n",
              "  'phone': '+1 (809) 533-2291',\n",
              "  'address': '728 Middleton Street, Calpine, Wisconsin, 5417',\n",
              "  'registered': '2019-07-16T08:14:36 -02:00',\n",
              "  'tags': ['veniam', 'id', 'id', 'aliquip']},\n",
              " {'_id': '03',\n",
              "  'name': 'Sparks Guy',\n",
              "  'salary': 1.843,\n",
              "  'age': 31,\n",
              "  'gender': 'male',\n",
              "  'department': 15,\n",
              "  'email': 'sparksguy@isosphere.com',\n",
              "  'phone': '+1 (828) 561-3223',\n",
              "  'address': '340 Reeve Place, Caroleen, Northern Mariana Islands, 4383',\n",
              "  'registered': '2020-08-10T10:41:53 -02:00',\n",
              "  'tags': ['duis', 'do', 'dolor', 'aliquip']},\n",
              " {'_id': '05',\n",
              "  'name': 'Eliza Vinson',\n",
              "  'salary': 3.002,\n",
              "  'age': 36,\n",
              "  'gender': 'female',\n",
              "  'department': 18,\n",
              "  'email': 'elizavinson@isosphere.com',\n",
              "  'phone': '+1 (861) 463-2310',\n",
              "  'address': '829 Newkirk Avenue, Elrama, New Hampshire, 3093',\n",
              "  'registered': '2021-02-13T02:38:18 -01:00',\n",
              "  'tags': ['ad', 'amet', 'fugiat', 'labore']},\n",
              " {'_id': '07',\n",
              "  'name': 'Finch Cherry',\n",
              "  'salary': 1.255,\n",
              "  'age': 25,\n",
              "  'gender': 'male',\n",
              "  'department': 18,\n",
              "  'email': 'finchcherry@isosphere.com',\n",
              "  'phone': '+1 (932) 505-3259',\n",
              "  'address': '667 Cleveland Street, Hannasville, Nebraska, 3346',\n",
              "  'registered': '2016-03-10T09:31:50 -01:00',\n",
              "  'tags': ['nulla', 'laborum', 'officia', 'et']}]"
            ]
          },
          "metadata": {},
          "execution_count": 35
        }
      ]
    },
    {
      "cell_type": "markdown",
      "source": [
        "#**11**\n",
        "\n",
        "vamos a devolver todos los empleados ordenados por el salario\n",
        "\n",
        "Salida esperada:\n",
        "\n",
        "    [{'_id': '07',\n",
        "      'address': '667 Cleveland Street, Hannasville, Nebraska, 3346',\n",
        "      'age': 25,\n",
        "      'department': 18,\n",
        "      'email': 'finchcherry@isosphere.com',\n",
        "      'gender': 'male',\n",
        "      'name': 'Finch Cherry',\n",
        "      'phone': '+1 (932) 505-3259',\n",
        "      'registered': '2016-03-10T09:31:50 -01:00',\n",
        "      'salary': 1.255,\n",
        "      'tags': ['nulla', 'laborum', 'officia', 'et']},\n",
        "    {'_id': '03',\n",
        "      'address': '340 Reeve Place, Caroleen, Northern Mariana Islands, 4383',\n",
        "      'age': 31,\n",
        "      'department': 15,\n",
        "      'email': 'sparksguy@isosphere.com',\n",
        "      'gender': 'male',\n",
        "      'name': 'Sparks Guy',\n",
        "      'phone': '+1 (828) 561-3223',\n",
        "      'registered': '2020-08-10T10:41:53 -02:00',\n",
        "      'salary': 1.843,\n",
        "      'tags': ['duis', 'do', 'dolor', 'aliquip']},\n",
        "    {'_id': '01',\n",
        "      'address': '269 Friel Place, Riner, Iowa, 3407',\n",
        "      'age': 30,\n",
        "      'department': 15,\n",
        "      'email': 'christinapaul@isosphere.com',\n",
        "      'gender': 'female',\n",
        "      'name': 'Christina Paul',\n",
        "      'phone': '+1 (962) 597-3331',\n",
        "      'registered': '2019-10-30T05:39:50 -01:00',\n",
        "      'salary': 1.936,\n",
        "      'tags': ['do', 'ullamco', 'cupidatat', 'Lorem']},\n",
        "    {'_id': '06',\n",
        "      'address': '791 Manhattan Court, Katonah, Arizona, 1795',\n",
        "      'age': 39,\n",
        "      'department': 12,\n",
        "      'email': 'mayoherrera@isosphere.com',\n",
        "      'gender': 'male',\n",
        "      'name': 'Mayo Herrera',\n",
        "      'phone': '+1 (905) 522-2932',\n",
        "      'registered': '2018-04-24T05:47:50 -02:00',\n",
        "      'salary': 2.083,\n",
        "      'tags': ['do', 'minim', 'excepteur', 'esse']},\n",
        "    {'_id': '05',\n",
        "      'address': '829 Newkirk Avenue, Elrama, New Hampshire, 3093',\n",
        "      'age': 36,\n",
        "      'department': 18,\n",
        "      'email': 'elizavinson@isosphere.com',\n",
        "      'gender': 'female',\n",
        "      'name': 'Eliza Vinson',\n",
        "      'phone': '+1 (861) 463-2310',\n",
        "      'registered': '2021-02-13T02:38:18 -01:00',\n",
        "      'salary': 3.002,\n",
        "      'tags': ['ad', 'amet', 'fugiat', 'labore']},\n",
        "    {'_id': '04',\n",
        "      'address': '807 Lake Place, Dyckesville, Kansas, 9572',\n",
        "      'age': 22,\n",
        "      'department': 10,\n",
        "      'email': 'barbraburt@isosphere.com',\n",
        "      'gender': 'female',\n",
        "      'name': 'Barbra Burt',\n",
        "      'phone': '+1 (914) 532-3123',\n",
        "      'registered': '2015-02-07T04:46:50 -01:00',\n",
        "      'salary': 501.815,\n",
        "      'tags': ['esse', 'consectetur', 'cupidatat', 'voluptate']},\n",
        "    {'_id': '02',\n",
        "      'address': '728 Middleton Street, Calpine, Wisconsin, 5417',\n",
        "      'age': 34,\n",
        "      'department': 10,\n",
        "      'email': 'shanarandolph@isosphere.com',\n",
        "      'gender': 'female',\n",
        "      'name': 'Shana Randolph',\n",
        "      'phone': '+1 (809) 533-2291',\n",
        "      'registered': '2019-07-16T08:14:36 -02:00',\n",
        "      'salary': 502.672,\n",
        "      'tags': ['veniam', 'id', 'id', 'aliquip']}]\n"
      ],
      "metadata": {
        "id": "YoLUNyFFoWPl"
      }
    },
    {
      "cell_type": "code",
      "source": [
        "#Ordena los empleados por salarios de menor a mayor\n",
        "list(db.primer_proyecto.aggregate([\n",
        "  {'$sort':{'salary':1}},\n",
        "  ]))"
      ],
      "metadata": {
        "id": "TlHG9yfBDnNg",
        "colab": {
          "base_uri": "https://localhost:8080/"
        },
        "outputId": "e09eb646-2821-48c6-9b68-5aca55fd5b44"
      },
      "execution_count": null,
      "outputs": [
        {
          "output_type": "execute_result",
          "data": {
            "text/plain": [
              "[{'_id': '07',\n",
              "  'name': 'Finch Cherry',\n",
              "  'salary': 1.255,\n",
              "  'age': 25,\n",
              "  'gender': 'male',\n",
              "  'department': 18,\n",
              "  'email': 'finchcherry@isosphere.com',\n",
              "  'phone': '+1 (932) 505-3259',\n",
              "  'address': '667 Cleveland Street, Hannasville, Nebraska, 3346',\n",
              "  'registered': '2016-03-10T09:31:50 -01:00',\n",
              "  'tags': ['nulla', 'laborum', 'officia', 'et']},\n",
              " {'_id': '03',\n",
              "  'name': 'Sparks Guy',\n",
              "  'salary': 1.843,\n",
              "  'age': 31,\n",
              "  'gender': 'male',\n",
              "  'department': 15,\n",
              "  'email': 'sparksguy@isosphere.com',\n",
              "  'phone': '+1 (828) 561-3223',\n",
              "  'address': '340 Reeve Place, Caroleen, Northern Mariana Islands, 4383',\n",
              "  'registered': '2020-08-10T10:41:53 -02:00',\n",
              "  'tags': ['duis', 'do', 'dolor', 'aliquip']},\n",
              " {'_id': '01',\n",
              "  'name': 'Christina Paul',\n",
              "  'salary': 1.936,\n",
              "  'age': 30,\n",
              "  'gender': 'female',\n",
              "  'department': 15,\n",
              "  'email': 'christinapaul@isosphere.com',\n",
              "  'phone': '+1 (962) 597-3331',\n",
              "  'address': '269 Friel Place, Riner, Iowa, 3407',\n",
              "  'registered': '2019-10-30T05:39:50 -01:00',\n",
              "  'tags': ['do', 'ullamco', 'cupidatat', 'Lorem']},\n",
              " {'_id': '06',\n",
              "  'name': 'Mayo Herrera',\n",
              "  'salary': 2.083,\n",
              "  'age': 39,\n",
              "  'gender': 'male',\n",
              "  'department': 12,\n",
              "  'email': 'mayoherrera@isosphere.com',\n",
              "  'phone': '+1 (905) 522-2932',\n",
              "  'address': '791 Manhattan Court, Katonah, Arizona, 1795',\n",
              "  'registered': '2018-04-24T05:47:50 -02:00',\n",
              "  'tags': ['do', 'minim', 'excepteur', 'esse']},\n",
              " {'_id': '04',\n",
              "  'name': 'Barbra Burt',\n",
              "  'salary': 2.315,\n",
              "  'age': 22,\n",
              "  'gender': 'female',\n",
              "  'department': 10,\n",
              "  'email': 'barbraburt@isosphere.com',\n",
              "  'phone': '+1 (914) 532-3123',\n",
              "  'address': '807 Lake Place, Dyckesville, Kansas, 9572',\n",
              "  'registered': '2015-02-07T04:46:50 -01:00',\n",
              "  'tags': ['esse', 'consectetur', 'cupidatat', 'voluptate']},\n",
              " {'_id': '05',\n",
              "  'name': 'Eliza Vinson',\n",
              "  'salary': 3.002,\n",
              "  'age': 36,\n",
              "  'gender': 'female',\n",
              "  'department': 18,\n",
              "  'email': 'elizavinson@isosphere.com',\n",
              "  'phone': '+1 (861) 463-2310',\n",
              "  'address': '829 Newkirk Avenue, Elrama, New Hampshire, 3093',\n",
              "  'registered': '2021-02-13T02:38:18 -01:00',\n",
              "  'tags': ['ad', 'amet', 'fugiat', 'labore']},\n",
              " {'_id': '02',\n",
              "  'name': 'Shana Randolph',\n",
              "  'salary': 3.172,\n",
              "  'age': 34,\n",
              "  'gender': 'female',\n",
              "  'department': 10,\n",
              "  'email': 'shanarandolph@isosphere.com',\n",
              "  'phone': '+1 (809) 533-2291',\n",
              "  'address': '728 Middleton Street, Calpine, Wisconsin, 5417',\n",
              "  'registered': '2019-07-16T08:14:36 -02:00',\n",
              "  'tags': ['veniam', 'id', 'id', 'aliquip']}]"
            ]
          },
          "metadata": {},
          "execution_count": 38
        }
      ]
    },
    {
      "cell_type": "markdown",
      "source": [
        "#**12**\n",
        "vamos a insertar el campo job con valor 'manager' a \"Eliza Vinson\"\n",
        "\n",
        "    [{'_id': '05',\n",
        "      'address': '829 Newkirk Avenue, Elrama, New Hampshire, 3093',\n",
        "      'age': 36,\n",
        "      'department': 18,\n",
        "      'email': 'elizavinson@isosphere.com',\n",
        "      'gender': 'female',\n",
        "      'job': 'manager',\n",
        "      'name': 'Eliza Vinson',\n",
        "      'phone': '+1 (861) 463-2310',\n",
        "      'registered': '2021-02-13T02:38:18 -01:00',\n",
        "      'salary': 3.002,\n",
        "      'tags': ['ad', 'amet', 'fugiat', 'labore']}]"
      ],
      "metadata": {
        "id": "SvKtknfMoXXV"
      }
    },
    {
      "cell_type": "code",
      "source": [
        "#Añade el campo 'job' con valor 'manager' para Elena Vinson\n",
        "list(db.primer_proyecto.aggregate([\n",
        "  {'$match': {'name': 'Eliza Vinson'}},\n",
        "  {'$set': {'job': 'manager'}},\n",
        "  ]))\n"
      ],
      "metadata": {
        "id": "D6J2196qLf9p",
        "colab": {
          "base_uri": "https://localhost:8080/"
        },
        "outputId": "ca29ca25-c57e-40b5-9cb2-dbce150e673a"
      },
      "execution_count": null,
      "outputs": [
        {
          "output_type": "execute_result",
          "data": {
            "text/plain": [
              "[{'_id': '05',\n",
              "  'name': 'Eliza Vinson',\n",
              "  'salary': 3.002,\n",
              "  'age': 36,\n",
              "  'gender': 'female',\n",
              "  'department': 18,\n",
              "  'email': 'elizavinson@isosphere.com',\n",
              "  'phone': '+1 (861) 463-2310',\n",
              "  'address': '829 Newkirk Avenue, Elrama, New Hampshire, 3093',\n",
              "  'registered': '2021-02-13T02:38:18 -01:00',\n",
              "  'tags': ['ad', 'amet', 'fugiat', 'labore'],\n",
              "  'job': 'manager'}]"
            ]
          },
          "metadata": {},
          "execution_count": 39
        }
      ]
    },
    {
      "cell_type": "markdown",
      "source": [
        "#**13**\n",
        "\n",
        "Vamos a eliminar el campo \"tags\" del empleado  \"Finch Cherry\"\n",
        "\n",
        "Salida esperada:\n",
        "\n",
        "    [{'_id': '07',\n",
        "      'address': '667 Cleveland Street, Hannasville, Nebraska, 3346',\n",
        "      'age': 25,\n",
        "      'department': 18,\n",
        "      'email': 'finchcherry@isosphere.com',\n",
        "      'gender': 'male',\n",
        "      'name': 'Finch Cherry',\n",
        "      'phone': '+1 (932) 505-3259',\n",
        "      'registered': '2016-03-10T09:31:50 -01:00',\n",
        "      'salary': 1.255}]"
      ],
      "metadata": {
        "id": "kxXrxhiMNJaS"
      }
    },
    {
      "cell_type": "code",
      "source": [
        "#Elimina el campo tags de 'Finch Cherry'\n",
        "db.primer_proyecto.update_many({'name': 'Finch Cherry'}, {'$unset': {'tags': ''}})\n",
        "list(db.primer_proyecto.find({'name': 'Finch Cherry'}))"
      ],
      "metadata": {
        "id": "q2hurvvPNJ9j",
        "colab": {
          "base_uri": "https://localhost:8080/"
        },
        "outputId": "107d346d-9127-44a0-a823-9f3067dc983b"
      },
      "execution_count": null,
      "outputs": [
        {
          "output_type": "execute_result",
          "data": {
            "text/plain": [
              "[{'_id': '07',\n",
              "  'name': 'Finch Cherry',\n",
              "  'salary': 1.255,\n",
              "  'age': 25,\n",
              "  'gender': 'male',\n",
              "  'department': 18,\n",
              "  'email': 'finchcherry@isosphere.com',\n",
              "  'phone': '+1 (932) 505-3259',\n",
              "  'address': '667 Cleveland Street, Hannasville, Nebraska, 3346',\n",
              "  'registered': '2016-03-10T09:31:50 -01:00'}]"
            ]
          },
          "metadata": {},
          "execution_count": 41
        }
      ]
    },
    {
      "cell_type": "markdown",
      "source": [
        "#**14**\n",
        "\n",
        "Vamos a usar el operador $exists para buscar los que no contengan \"tags\"\n",
        "\n",
        "Salida esperada:\n",
        "\n",
        "    [{'_id': '07',\n",
        "      'address': '667 Cleveland Street, Hannasville, Nebraska, 3346',\n",
        "      'age': 25,\n",
        "      'department': 18,\n",
        "      'email': 'finchcherry@isosphere.com',\n",
        "      'gender': 'male',\n",
        "      'name': 'Finch Cherry',\n",
        "      'phone': '+1 (932) 505-3259',\n",
        "      'registered': '2016-03-10T09:31:50 -01:00',\n",
        "      'salary': 1.255}]"
      ],
      "metadata": {
        "id": "fEOrsf1ZOTfS"
      }
    },
    {
      "cell_type": "code",
      "source": [
        "#Busca los usuarios que no tengan el campo tags\n",
        "list(db.primer_proyecto.find({'tags': {'$exists': False}}))"
      ],
      "metadata": {
        "id": "IjvAh0yyOTvJ",
        "colab": {
          "base_uri": "https://localhost:8080/"
        },
        "outputId": "5224a363-20ff-4a69-fa53-f917dc2e2afd"
      },
      "execution_count": null,
      "outputs": [
        {
          "output_type": "execute_result",
          "data": {
            "text/plain": [
              "[{'_id': '07',\n",
              "  'name': 'Finch Cherry',\n",
              "  'salary': 1.255,\n",
              "  'age': 25,\n",
              "  'gender': 'male',\n",
              "  'department': 18,\n",
              "  'email': 'finchcherry@isosphere.com',\n",
              "  'phone': '+1 (932) 505-3259',\n",
              "  'address': '667 Cleveland Street, Hannasville, Nebraska, 3346',\n",
              "  'registered': '2016-03-10T09:31:50 -01:00'}]"
            ]
          },
          "metadata": {},
          "execution_count": 43
        }
      ]
    },
    {
      "cell_type": "code",
      "source": [
        "#@title Consigue el token para introducirlo en Nodd3r\n",
        "import hashlib\n",
        "\n",
        "correct = str(list(db.primer_proyecto.find()))\n",
        "pwd = hashlib.sha256(str(correct).encode())\n",
        "print(pwd.hexdigest())"
      ],
      "metadata": {
        "id": "JeWwx578ug0a",
        "colab": {
          "base_uri": "https://localhost:8080/"
        },
        "outputId": "5a51e4b0-286a-4f3f-ffa1-d979c81740e7"
      },
      "execution_count": null,
      "outputs": [
        {
          "output_type": "stream",
          "name": "stdout",
          "text": [
            "5d6005c6450021f8c7a138e5d238615df70ab7978cc3e5287e539ae355605f4a\n"
          ]
        }
      ]
    },
    {
      "cell_type": "code",
      "source": [
        "db.primer_proyecto.drop()\n"
      ],
      "metadata": {
        "id": "axAxV2x9v6Q_"
      },
      "execution_count": null,
      "outputs": []
    }
  ],
  "metadata": {
    "colab": {
      "provenance": [],
      "include_colab_link": true
    },
    "kernelspec": {
      "display_name": "Python 3",
      "name": "python3"
    },
    "language_info": {
      "name": "python"
    }
  },
  "nbformat": 4,
  "nbformat_minor": 0
}