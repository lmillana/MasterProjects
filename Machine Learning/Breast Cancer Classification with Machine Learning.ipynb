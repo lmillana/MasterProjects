{
  "nbformat": 4,
  "nbformat_minor": 0,
  "metadata": {
    "colab": {
      "provenance": [],
      "include_colab_link": true
    },
    "kernelspec": {
      "name": "python3",
      "display_name": "Python 3"
    },
    "language_info": {
      "name": "python"
    }
  },
  "cells": [
    {
      "cell_type": "markdown",
      "metadata": {
        "id": "view-in-github",
        "colab_type": "text"
      },
      "source": [
        "<a href=\"https://colab.research.google.com/github/lmillana/MasterProjects/blob/main/Machine%20Learning/Breast%20Cancer%20Classification%20with%20Machine%20Learning.ipynb\" target=\"_parent\"><img src=\"https://colab.research.google.com/assets/colab-badge.svg\" alt=\"Open In Colab\"/></a>"
      ]
    },
    {
      "cell_type": "markdown",
      "source": [
        "**Contexto**\n",
        "\n",
        "En 2020, en todo el mundo se diagnosticó cáncer de mama a 2,3 millones de mujeres, y 685 000 fallecieron por esa enfermedad. A fines del mismo año, 7,8 millones de mujeres a las que en los anteriores cinco años se les había diagnosticado cáncer de mama seguían con vida, lo que hace que este cáncer sea el de mayor prevalencia en el mundo.\n",
        "\n",
        "Se estima que, a nivel mundial, los años de vida perdidos ajustados en función de la discapacidad (AVAD) en mujeres con cáncer de mama superan a los debidos a cualquier otro tipo de cáncer.\n",
        "\n",
        "El cáncer de mama afecta a las mujeres de cualquier edad después de la pubertad en todos los países del mundo, pero las tasas aumentan en su vida adulta.\n",
        "\n",
        "Entre las décadas de 1930  y 1970, la mortalidad por cáncer de mama mostró pocos cambios. Las mejoras en la supervivencia empezaron en los años 1980 en países que contaban con programas de detección precoz combinados con diferentes tipos de terapias para contener la enfermedad invasiva.\n",
        "\n",
        "**Descripción**\n",
        "\n",
        "El cáncer de mama se origina en las células del revestimiento (epitelio) de los conductos (85%) o lóbulos (15%) del tejido glandular de los senos. Al comienzo, el tumor canceroso está confinado en el conducto o lóbulo (in situ), donde generalmente no causa síntomas y tiene un mínimo potencial de diseminación (metástasis).\n",
        "\n",
        "Con el paso del tiempo, este cáncer in situ (estadio 0) puede progresar e invadir el tejido mamario circundante (cáncer de mama invasivo), y a continuación propagarse a los ganglios linfáticos cercanos (metástasis regional) u a otros órganos del organismo (metástasis distante). Cuando una mujer muere de cáncer de mama, es como consecuencia de la metástasis generalizada.  \n",
        "\n",
        "El tratamiento del cáncer de mama puede ser muy eficaz, en particular cuando la enfermedad se detecta temprano. A menudo el tratamiento consiste en una combinación de extirpación quirúrgica, radioterapia y medicación (terapia hormonal, quimioterapia y/o terapia biológica dirigida) para tratar el cáncer microscópico que se ha propagado del tumor mamario a través de la sangre. Por consiguiente, ese tratamiento, que puede impedir la progresión y diseminación del cáncer, salva vidas.\n",
        "\n",
        "**Estado del arte**\n",
        "\n",
        "El cáncer de mama es el tipo de cáncer más común, con más de 2,2 millones de casos en 2020.\n",
        "\n",
        "Cerca de una de cada 12 mujeres enfermarán de cáncer de mama a lo largo de su vida. El cáncer de mama es la principal causa de mortalidad en las mujeres. En 2020, alrededor de 685 000 mujeres fallecieron como consecuencia de esa enfermedad.\n",
        "\n",
        "La mayoría de los casos de cáncer de mama y de las muertes por esa enfermedad se registran en países de ingresos bajos y medianos.\n",
        "\n",
        "Las disparidades del cáncer de mama entre los países de ingresos elevados y los de ingresos bajos y medianos son considerables. La supervivencia al cáncer de mama a cinco años excede del 90% en los primeros países, mientras que en la India y Sudáfrica es del 66% y el 40%, respectivamente.\n",
        "\n",
        "El mayor porcentaje normalizado por edades[1] de defunciones por cáncer de mama corresponde a África y Polinesia. En el África subsahariana, la mitad de las muertes por cáncer de mama se produce en mujeres menores de 50 años de edad.\n",
        "\n",
        "Desde 1980 se han realizado importantes avances en el tratamiento del cáncer de mama; entre el decenio de 1980 y 2020, en los países de ingresos elevados la mortalidad por cáncer de mama normalizada por edades se redujo en un 40%. En los países de ingresos bajos y medianos esas mejoras todavía no se han logrado.\n",
        "\n",
        "La mejora de los resultados es fruto de la combinación de la detección precoz y las terapias eficaces, basadas en cirugía, radioterapia y farmacoterapia.     \n"
      ],
      "metadata": {
        "id": "xyCprU98kLS3"
      }
    },
    {
      "cell_type": "markdown",
      "source": [
        "**Problema a solucionar**\n",
        "\n",
        "Se definió anteriormente el contexto. Cómo podemos ayudar mediante los datos.\n",
        "\n",
        "Aplica los distintos algoritmos vistos en la teoría de este módulo hasta obtener un clasificador con score, accuracy, precision, recall y f1-score igual o superior a 0.95 .\n",
        "\n",
        "No olvides probar a optimizar los diferentes hiperparámetros de cada algoritmo.\n",
        "\n"
      ],
      "metadata": {
        "id": "p4zfzUb8lEKW"
      }
    },
    {
      "cell_type": "markdown",
      "source": [
        "**Obtención de datos**\n",
        "\n",
        "Todo problema de data science y machine learning no es nada sin sus datos. El primer problema es cómo obtenerlos.\n",
        "\n",
        "Por suerte, en esta ocasión, ya se han recopilado por varios médicos para que podamos trabajar en ello.\n",
        "\n",
        "\n",
        "[Enlace a carpeta github con dataset y nombres de las columnas](https://github.com/nodd3r/recursos/tree/main/datasets/cancer)\n",
        "\n"
      ],
      "metadata": {
        "id": "GQWtrAdxkzxs"
      }
    },
    {
      "cell_type": "code",
      "source": [
        "#Crea el DataFrame correspondiente en la variable datos (no olvides comprobar el encabezado y añadir el nombre correspondiente a cada columna)\n",
        "import pandas as pd\n",
        "\n",
        "datos = pd.read_csv('breast-cancer-wisconsin.data.txt', delimiter=',')\n",
        "datos.head(10)\n"
      ],
      "metadata": {
        "id": "AWdOUbLFlgiO",
        "colab": {
          "base_uri": "https://localhost:8080/",
          "height": 380
        },
        "outputId": "33f6d202-075f-456a-bd78-2dd261fbb311"
      },
      "execution_count": null,
      "outputs": [
        {
          "output_type": "execute_result",
          "data": {
            "text/plain": [
              "        ID  Clump Thickness  Uniformity of Cell Size  \\\n",
              "0  1000025                5                        1   \n",
              "1  1002945                5                        4   \n",
              "2  1015425                3                        1   \n",
              "3  1016277                6                        8   \n",
              "4  1017023                4                        1   \n",
              "5  1017122                8                       10   \n",
              "6  1018099                1                        1   \n",
              "7  1018561                2                        1   \n",
              "8  1033078                2                        1   \n",
              "9  1033078                4                        2   \n",
              "\n",
              "   Uniformity of Cell Shape  Marginal Adhesion  Single Epithelial Cell Size  \\\n",
              "0                         1                  1                            2   \n",
              "1                         4                  5                            7   \n",
              "2                         1                  1                            2   \n",
              "3                         8                  1                            3   \n",
              "4                         1                  3                            2   \n",
              "5                        10                  8                            7   \n",
              "6                         1                  1                            2   \n",
              "7                         2                  1                            2   \n",
              "8                         1                  1                            2   \n",
              "9                         1                  1                            2   \n",
              "\n",
              "  Bare Nuclei  Bland Chromatin  Normal Nucleoli  Mitoses  Class  \n",
              "0           1                3                1        1      2  \n",
              "1          10                3                2        1      2  \n",
              "2           2                3                1        1      2  \n",
              "3           4                3                7        1      2  \n",
              "4           1                3                1        1      2  \n",
              "5          10                9                7        1      4  \n",
              "6          10                3                1        1      2  \n",
              "7           1                3                1        1      2  \n",
              "8           1                1                1        5      2  \n",
              "9           1                2                1        1      2  "
            ],
            "text/html": [
              "\n",
              "  <div id=\"df-a27f1cb0-9440-4d0c-ae48-bb9c645ea60f\" class=\"colab-df-container\">\n",
              "    <div>\n",
              "<style scoped>\n",
              "    .dataframe tbody tr th:only-of-type {\n",
              "        vertical-align: middle;\n",
              "    }\n",
              "\n",
              "    .dataframe tbody tr th {\n",
              "        vertical-align: top;\n",
              "    }\n",
              "\n",
              "    .dataframe thead th {\n",
              "        text-align: right;\n",
              "    }\n",
              "</style>\n",
              "<table border=\"1\" class=\"dataframe\">\n",
              "  <thead>\n",
              "    <tr style=\"text-align: right;\">\n",
              "      <th></th>\n",
              "      <th>ID</th>\n",
              "      <th>Clump Thickness</th>\n",
              "      <th>Uniformity of Cell Size</th>\n",
              "      <th>Uniformity of Cell Shape</th>\n",
              "      <th>Marginal Adhesion</th>\n",
              "      <th>Single Epithelial Cell Size</th>\n",
              "      <th>Bare Nuclei</th>\n",
              "      <th>Bland Chromatin</th>\n",
              "      <th>Normal Nucleoli</th>\n",
              "      <th>Mitoses</th>\n",
              "      <th>Class</th>\n",
              "    </tr>\n",
              "  </thead>\n",
              "  <tbody>\n",
              "    <tr>\n",
              "      <th>0</th>\n",
              "      <td>1000025</td>\n",
              "      <td>5</td>\n",
              "      <td>1</td>\n",
              "      <td>1</td>\n",
              "      <td>1</td>\n",
              "      <td>2</td>\n",
              "      <td>1</td>\n",
              "      <td>3</td>\n",
              "      <td>1</td>\n",
              "      <td>1</td>\n",
              "      <td>2</td>\n",
              "    </tr>\n",
              "    <tr>\n",
              "      <th>1</th>\n",
              "      <td>1002945</td>\n",
              "      <td>5</td>\n",
              "      <td>4</td>\n",
              "      <td>4</td>\n",
              "      <td>5</td>\n",
              "      <td>7</td>\n",
              "      <td>10</td>\n",
              "      <td>3</td>\n",
              "      <td>2</td>\n",
              "      <td>1</td>\n",
              "      <td>2</td>\n",
              "    </tr>\n",
              "    <tr>\n",
              "      <th>2</th>\n",
              "      <td>1015425</td>\n",
              "      <td>3</td>\n",
              "      <td>1</td>\n",
              "      <td>1</td>\n",
              "      <td>1</td>\n",
              "      <td>2</td>\n",
              "      <td>2</td>\n",
              "      <td>3</td>\n",
              "      <td>1</td>\n",
              "      <td>1</td>\n",
              "      <td>2</td>\n",
              "    </tr>\n",
              "    <tr>\n",
              "      <th>3</th>\n",
              "      <td>1016277</td>\n",
              "      <td>6</td>\n",
              "      <td>8</td>\n",
              "      <td>8</td>\n",
              "      <td>1</td>\n",
              "      <td>3</td>\n",
              "      <td>4</td>\n",
              "      <td>3</td>\n",
              "      <td>7</td>\n",
              "      <td>1</td>\n",
              "      <td>2</td>\n",
              "    </tr>\n",
              "    <tr>\n",
              "      <th>4</th>\n",
              "      <td>1017023</td>\n",
              "      <td>4</td>\n",
              "      <td>1</td>\n",
              "      <td>1</td>\n",
              "      <td>3</td>\n",
              "      <td>2</td>\n",
              "      <td>1</td>\n",
              "      <td>3</td>\n",
              "      <td>1</td>\n",
              "      <td>1</td>\n",
              "      <td>2</td>\n",
              "    </tr>\n",
              "    <tr>\n",
              "      <th>5</th>\n",
              "      <td>1017122</td>\n",
              "      <td>8</td>\n",
              "      <td>10</td>\n",
              "      <td>10</td>\n",
              "      <td>8</td>\n",
              "      <td>7</td>\n",
              "      <td>10</td>\n",
              "      <td>9</td>\n",
              "      <td>7</td>\n",
              "      <td>1</td>\n",
              "      <td>4</td>\n",
              "    </tr>\n",
              "    <tr>\n",
              "      <th>6</th>\n",
              "      <td>1018099</td>\n",
              "      <td>1</td>\n",
              "      <td>1</td>\n",
              "      <td>1</td>\n",
              "      <td>1</td>\n",
              "      <td>2</td>\n",
              "      <td>10</td>\n",
              "      <td>3</td>\n",
              "      <td>1</td>\n",
              "      <td>1</td>\n",
              "      <td>2</td>\n",
              "    </tr>\n",
              "    <tr>\n",
              "      <th>7</th>\n",
              "      <td>1018561</td>\n",
              "      <td>2</td>\n",
              "      <td>1</td>\n",
              "      <td>2</td>\n",
              "      <td>1</td>\n",
              "      <td>2</td>\n",
              "      <td>1</td>\n",
              "      <td>3</td>\n",
              "      <td>1</td>\n",
              "      <td>1</td>\n",
              "      <td>2</td>\n",
              "    </tr>\n",
              "    <tr>\n",
              "      <th>8</th>\n",
              "      <td>1033078</td>\n",
              "      <td>2</td>\n",
              "      <td>1</td>\n",
              "      <td>1</td>\n",
              "      <td>1</td>\n",
              "      <td>2</td>\n",
              "      <td>1</td>\n",
              "      <td>1</td>\n",
              "      <td>1</td>\n",
              "      <td>5</td>\n",
              "      <td>2</td>\n",
              "    </tr>\n",
              "    <tr>\n",
              "      <th>9</th>\n",
              "      <td>1033078</td>\n",
              "      <td>4</td>\n",
              "      <td>2</td>\n",
              "      <td>1</td>\n",
              "      <td>1</td>\n",
              "      <td>2</td>\n",
              "      <td>1</td>\n",
              "      <td>2</td>\n",
              "      <td>1</td>\n",
              "      <td>1</td>\n",
              "      <td>2</td>\n",
              "    </tr>\n",
              "  </tbody>\n",
              "</table>\n",
              "</div>\n",
              "    <div class=\"colab-df-buttons\">\n",
              "\n",
              "  <div class=\"colab-df-container\">\n",
              "    <button class=\"colab-df-convert\" onclick=\"convertToInteractive('df-a27f1cb0-9440-4d0c-ae48-bb9c645ea60f')\"\n",
              "            title=\"Convert this dataframe to an interactive table.\"\n",
              "            style=\"display:none;\">\n",
              "\n",
              "  <svg xmlns=\"http://www.w3.org/2000/svg\" height=\"24px\" viewBox=\"0 -960 960 960\">\n",
              "    <path d=\"M120-120v-720h720v720H120Zm60-500h600v-160H180v160Zm220 220h160v-160H400v160Zm0 220h160v-160H400v160ZM180-400h160v-160H180v160Zm440 0h160v-160H620v160ZM180-180h160v-160H180v160Zm440 0h160v-160H620v160Z\"/>\n",
              "  </svg>\n",
              "    </button>\n",
              "\n",
              "  <style>\n",
              "    .colab-df-container {\n",
              "      display:flex;\n",
              "      gap: 12px;\n",
              "    }\n",
              "\n",
              "    .colab-df-convert {\n",
              "      background-color: #E8F0FE;\n",
              "      border: none;\n",
              "      border-radius: 50%;\n",
              "      cursor: pointer;\n",
              "      display: none;\n",
              "      fill: #1967D2;\n",
              "      height: 32px;\n",
              "      padding: 0 0 0 0;\n",
              "      width: 32px;\n",
              "    }\n",
              "\n",
              "    .colab-df-convert:hover {\n",
              "      background-color: #E2EBFA;\n",
              "      box-shadow: 0px 1px 2px rgba(60, 64, 67, 0.3), 0px 1px 3px 1px rgba(60, 64, 67, 0.15);\n",
              "      fill: #174EA6;\n",
              "    }\n",
              "\n",
              "    .colab-df-buttons div {\n",
              "      margin-bottom: 4px;\n",
              "    }\n",
              "\n",
              "    [theme=dark] .colab-df-convert {\n",
              "      background-color: #3B4455;\n",
              "      fill: #D2E3FC;\n",
              "    }\n",
              "\n",
              "    [theme=dark] .colab-df-convert:hover {\n",
              "      background-color: #434B5C;\n",
              "      box-shadow: 0px 1px 3px 1px rgba(0, 0, 0, 0.15);\n",
              "      filter: drop-shadow(0px 1px 2px rgba(0, 0, 0, 0.3));\n",
              "      fill: #FFFFFF;\n",
              "    }\n",
              "  </style>\n",
              "\n",
              "    <script>\n",
              "      const buttonEl =\n",
              "        document.querySelector('#df-a27f1cb0-9440-4d0c-ae48-bb9c645ea60f button.colab-df-convert');\n",
              "      buttonEl.style.display =\n",
              "        google.colab.kernel.accessAllowed ? 'block' : 'none';\n",
              "\n",
              "      async function convertToInteractive(key) {\n",
              "        const element = document.querySelector('#df-a27f1cb0-9440-4d0c-ae48-bb9c645ea60f');\n",
              "        const dataTable =\n",
              "          await google.colab.kernel.invokeFunction('convertToInteractive',\n",
              "                                                    [key], {});\n",
              "        if (!dataTable) return;\n",
              "\n",
              "        const docLinkHtml = 'Like what you see? Visit the ' +\n",
              "          '<a target=\"_blank\" href=https://colab.research.google.com/notebooks/data_table.ipynb>data table notebook</a>'\n",
              "          + ' to learn more about interactive tables.';\n",
              "        element.innerHTML = '';\n",
              "        dataTable['output_type'] = 'display_data';\n",
              "        await google.colab.output.renderOutput(dataTable, element);\n",
              "        const docLink = document.createElement('div');\n",
              "        docLink.innerHTML = docLinkHtml;\n",
              "        element.appendChild(docLink);\n",
              "      }\n",
              "    </script>\n",
              "  </div>\n",
              "\n",
              "\n",
              "<div id=\"df-053e8dfd-64f9-445a-a344-06ba09d2fa31\">\n",
              "  <button class=\"colab-df-quickchart\" onclick=\"quickchart('df-053e8dfd-64f9-445a-a344-06ba09d2fa31')\"\n",
              "            title=\"Suggest charts\"\n",
              "            style=\"display:none;\">\n",
              "\n",
              "<svg xmlns=\"http://www.w3.org/2000/svg\" height=\"24px\"viewBox=\"0 0 24 24\"\n",
              "     width=\"24px\">\n",
              "    <g>\n",
              "        <path d=\"M19 3H5c-1.1 0-2 .9-2 2v14c0 1.1.9 2 2 2h14c1.1 0 2-.9 2-2V5c0-1.1-.9-2-2-2zM9 17H7v-7h2v7zm4 0h-2V7h2v10zm4 0h-2v-4h2v4z\"/>\n",
              "    </g>\n",
              "</svg>\n",
              "  </button>\n",
              "\n",
              "<style>\n",
              "  .colab-df-quickchart {\n",
              "      --bg-color: #E8F0FE;\n",
              "      --fill-color: #1967D2;\n",
              "      --hover-bg-color: #E2EBFA;\n",
              "      --hover-fill-color: #174EA6;\n",
              "      --disabled-fill-color: #AAA;\n",
              "      --disabled-bg-color: #DDD;\n",
              "  }\n",
              "\n",
              "  [theme=dark] .colab-df-quickchart {\n",
              "      --bg-color: #3B4455;\n",
              "      --fill-color: #D2E3FC;\n",
              "      --hover-bg-color: #434B5C;\n",
              "      --hover-fill-color: #FFFFFF;\n",
              "      --disabled-bg-color: #3B4455;\n",
              "      --disabled-fill-color: #666;\n",
              "  }\n",
              "\n",
              "  .colab-df-quickchart {\n",
              "    background-color: var(--bg-color);\n",
              "    border: none;\n",
              "    border-radius: 50%;\n",
              "    cursor: pointer;\n",
              "    display: none;\n",
              "    fill: var(--fill-color);\n",
              "    height: 32px;\n",
              "    padding: 0;\n",
              "    width: 32px;\n",
              "  }\n",
              "\n",
              "  .colab-df-quickchart:hover {\n",
              "    background-color: var(--hover-bg-color);\n",
              "    box-shadow: 0 1px 2px rgba(60, 64, 67, 0.3), 0 1px 3px 1px rgba(60, 64, 67, 0.15);\n",
              "    fill: var(--button-hover-fill-color);\n",
              "  }\n",
              "\n",
              "  .colab-df-quickchart-complete:disabled,\n",
              "  .colab-df-quickchart-complete:disabled:hover {\n",
              "    background-color: var(--disabled-bg-color);\n",
              "    fill: var(--disabled-fill-color);\n",
              "    box-shadow: none;\n",
              "  }\n",
              "\n",
              "  .colab-df-spinner {\n",
              "    border: 2px solid var(--fill-color);\n",
              "    border-color: transparent;\n",
              "    border-bottom-color: var(--fill-color);\n",
              "    animation:\n",
              "      spin 1s steps(1) infinite;\n",
              "  }\n",
              "\n",
              "  @keyframes spin {\n",
              "    0% {\n",
              "      border-color: transparent;\n",
              "      border-bottom-color: var(--fill-color);\n",
              "      border-left-color: var(--fill-color);\n",
              "    }\n",
              "    20% {\n",
              "      border-color: transparent;\n",
              "      border-left-color: var(--fill-color);\n",
              "      border-top-color: var(--fill-color);\n",
              "    }\n",
              "    30% {\n",
              "      border-color: transparent;\n",
              "      border-left-color: var(--fill-color);\n",
              "      border-top-color: var(--fill-color);\n",
              "      border-right-color: var(--fill-color);\n",
              "    }\n",
              "    40% {\n",
              "      border-color: transparent;\n",
              "      border-right-color: var(--fill-color);\n",
              "      border-top-color: var(--fill-color);\n",
              "    }\n",
              "    60% {\n",
              "      border-color: transparent;\n",
              "      border-right-color: var(--fill-color);\n",
              "    }\n",
              "    80% {\n",
              "      border-color: transparent;\n",
              "      border-right-color: var(--fill-color);\n",
              "      border-bottom-color: var(--fill-color);\n",
              "    }\n",
              "    90% {\n",
              "      border-color: transparent;\n",
              "      border-bottom-color: var(--fill-color);\n",
              "    }\n",
              "  }\n",
              "</style>\n",
              "\n",
              "  <script>\n",
              "    async function quickchart(key) {\n",
              "      const quickchartButtonEl =\n",
              "        document.querySelector('#' + key + ' button');\n",
              "      quickchartButtonEl.disabled = true;  // To prevent multiple clicks.\n",
              "      quickchartButtonEl.classList.add('colab-df-spinner');\n",
              "      try {\n",
              "        const charts = await google.colab.kernel.invokeFunction(\n",
              "            'suggestCharts', [key], {});\n",
              "      } catch (error) {\n",
              "        console.error('Error during call to suggestCharts:', error);\n",
              "      }\n",
              "      quickchartButtonEl.classList.remove('colab-df-spinner');\n",
              "      quickchartButtonEl.classList.add('colab-df-quickchart-complete');\n",
              "    }\n",
              "    (() => {\n",
              "      let quickchartButtonEl =\n",
              "        document.querySelector('#df-053e8dfd-64f9-445a-a344-06ba09d2fa31 button');\n",
              "      quickchartButtonEl.style.display =\n",
              "        google.colab.kernel.accessAllowed ? 'block' : 'none';\n",
              "    })();\n",
              "  </script>\n",
              "</div>\n",
              "    </div>\n",
              "  </div>\n"
            ],
            "application/vnd.google.colaboratory.intrinsic+json": {
              "type": "dataframe",
              "variable_name": "datos",
              "summary": "{\n  \"name\": \"datos\",\n  \"rows\": 596,\n  \"fields\": [\n    {\n      \"column\": \"ID\",\n      \"properties\": {\n        \"dtype\": \"number\",\n        \"std\": 657639,\n        \"min\": 61634,\n        \"max\": 13454352,\n        \"num_unique_values\": 557,\n        \"samples\": [\n          1212232,\n          1333104,\n          1116192\n        ],\n        \"semantic_type\": \"\",\n        \"description\": \"\"\n      }\n    },\n    {\n      \"column\": \"Clump Thickness\",\n      \"properties\": {\n        \"dtype\": \"number\",\n        \"std\": 2,\n        \"min\": 1,\n        \"max\": 10,\n        \"num_unique_values\": 10,\n        \"samples\": [\n          10,\n          3,\n          1\n        ],\n        \"semantic_type\": \"\",\n        \"description\": \"\"\n      }\n    },\n    {\n      \"column\": \"Uniformity of Cell Size\",\n      \"properties\": {\n        \"dtype\": \"number\",\n        \"std\": 3,\n        \"min\": 1,\n        \"max\": 10,\n        \"num_unique_values\": 10,\n        \"samples\": [\n          6,\n          4,\n          3\n        ],\n        \"semantic_type\": \"\",\n        \"description\": \"\"\n      }\n    },\n    {\n      \"column\": \"Uniformity of Cell Shape\",\n      \"properties\": {\n        \"dtype\": \"number\",\n        \"std\": 2,\n        \"min\": 1,\n        \"max\": 10,\n        \"num_unique_values\": 10,\n        \"samples\": [\n          7,\n          4,\n          3\n        ],\n        \"semantic_type\": \"\",\n        \"description\": \"\"\n      }\n    },\n    {\n      \"column\": \"Marginal Adhesion\",\n      \"properties\": {\n        \"dtype\": \"number\",\n        \"std\": 2,\n        \"min\": 1,\n        \"max\": 10,\n        \"num_unique_values\": 10,\n        \"samples\": [\n          9,\n          5,\n          4\n        ],\n        \"semantic_type\": \"\",\n        \"description\": \"\"\n      }\n    },\n    {\n      \"column\": \"Single Epithelial Cell Size\",\n      \"properties\": {\n        \"dtype\": \"number\",\n        \"std\": 2,\n        \"min\": 1,\n        \"max\": 10,\n        \"num_unique_values\": 10,\n        \"samples\": [\n          10,\n          7,\n          4\n        ],\n        \"semantic_type\": \"\",\n        \"description\": \"\"\n      }\n    },\n    {\n      \"column\": \"Bare Nuclei\",\n      \"properties\": {\n        \"dtype\": \"category\",\n        \"num_unique_values\": 11,\n        \"samples\": [\n          \"9\",\n          \"1\",\n          \"8\"\n        ],\n        \"semantic_type\": \"\",\n        \"description\": \"\"\n      }\n    },\n    {\n      \"column\": \"Bland Chromatin\",\n      \"properties\": {\n        \"dtype\": \"number\",\n        \"std\": 2,\n        \"min\": 1,\n        \"max\": 10,\n        \"num_unique_values\": 10,\n        \"samples\": [\n          6,\n          9,\n          5\n        ],\n        \"semantic_type\": \"\",\n        \"description\": \"\"\n      }\n    },\n    {\n      \"column\": \"Normal Nucleoli\",\n      \"properties\": {\n        \"dtype\": \"number\",\n        \"std\": 3,\n        \"min\": 1,\n        \"max\": 10,\n        \"num_unique_values\": 10,\n        \"samples\": [\n          6,\n          2,\n          3\n        ],\n        \"semantic_type\": \"\",\n        \"description\": \"\"\n      }\n    },\n    {\n      \"column\": \"Mitoses\",\n      \"properties\": {\n        \"dtype\": \"number\",\n        \"std\": 1,\n        \"min\": 1,\n        \"max\": 10,\n        \"num_unique_values\": 9,\n        \"samples\": [\n          8,\n          5,\n          7\n        ],\n        \"semantic_type\": \"\",\n        \"description\": \"\"\n      }\n    },\n    {\n      \"column\": \"Class\",\n      \"properties\": {\n        \"dtype\": \"number\",\n        \"std\": 0,\n        \"min\": 2,\n        \"max\": 4,\n        \"num_unique_values\": 2,\n        \"samples\": [\n          4,\n          2\n        ],\n        \"semantic_type\": \"\",\n        \"description\": \"\"\n      }\n    }\n  ]\n}"
            }
          },
          "metadata": {},
          "execution_count": 1
        }
      ]
    },
    {
      "cell_type": "code",
      "source": [
        "#@title Comprueba que la creacción del DataFrame sea correcta\n",
        "def check():\n",
        "  if list(datos.columns.values)==['ID','Clump Thickness','Uniformity of Cell Size','Uniformity of Cell Shape','Marginal Adhesion','Single Epithelial Cell Size','Bare Nuclei','Bland Chromatin','Normal Nucleoli','Mitoses','Class']:\n",
        "    return 'Correcto'\n",
        "  else:\n",
        "    return 'Incorrecto. Comprueba la creacción del Dataframe'\n",
        "\n",
        "check()"
      ],
      "metadata": {
        "id": "hfWwSUhc-CEg",
        "colab": {
          "base_uri": "https://localhost:8080/",
          "height": 35
        },
        "cellView": "form",
        "outputId": "1f59b213-4388-4d76-e52f-420aff18eee2"
      },
      "execution_count": null,
      "outputs": [
        {
          "output_type": "execute_result",
          "data": {
            "text/plain": [
              "'Correcto'"
            ],
            "application/vnd.google.colaboratory.intrinsic+json": {
              "type": "string"
            }
          },
          "metadata": {},
          "execution_count": 4
        }
      ]
    },
    {
      "cell_type": "markdown",
      "source": [
        "**Entiende los datos**"
      ],
      "metadata": {
        "id": "I3o_3EVWlAkJ"
      }
    },
    {
      "cell_type": "markdown",
      "source": [
        "Una vez creado el DataFrame debes realizar, como siempre, un análisis exploratorio de los datos para ver:\n",
        "* Tipos de datos\n",
        "* columnas\n",
        "* qué significa\n",
        "* qué valores pueden tener\n",
        "* si existen valores nulos\n",
        "* la distribuccion que siguen los datos de cada columna\n",
        "* etc.\n",
        "\n",
        "Ayudate de gráficos para un entendimiento más visual."
      ],
      "metadata": {
        "id": "TtAKVaB3lGww"
      }
    },
    {
      "cell_type": "code",
      "execution_count": null,
      "metadata": {
        "id": "tPFuEuZJkIaP",
        "colab": {
          "base_uri": "https://localhost:8080/"
        },
        "outputId": "33b73cec-e3d2-4f4c-d8d8-79f07fe60cd6"
      },
      "outputs": [
        {
          "output_type": "execute_result",
          "data": {
            "text/plain": [
              "Index(['ID', 'Clump Thickness', 'Uniformity of Cell Size',\n",
              "       'Uniformity of Cell Shape', 'Marginal Adhesion',\n",
              "       'Single Epithelial Cell Size', 'Bare Nuclei', 'Bland Chromatin',\n",
              "       'Normal Nucleoli', 'Mitoses', 'Class'],\n",
              "      dtype='object')"
            ]
          },
          "metadata": {},
          "execution_count": 6
        }
      ],
      "source": [
        "#Realiza el EDA que creas conveniente\n",
        "datos.columns"
      ]
    },
    {
      "cell_type": "code",
      "source": [
        "datos.shape #(596,11)"
      ],
      "metadata": {
        "id": "MGdfgethH4Mp",
        "colab": {
          "base_uri": "https://localhost:8080/"
        },
        "outputId": "0b1e137b-aa5d-4c82-834d-f1fd3f88fedc"
      },
      "execution_count": null,
      "outputs": [
        {
          "output_type": "execute_result",
          "data": {
            "text/plain": [
              "(596, 11)"
            ]
          },
          "metadata": {},
          "execution_count": 7
        }
      ]
    },
    {
      "cell_type": "code",
      "source": [
        "datos.describe()"
      ],
      "metadata": {
        "colab": {
          "base_uri": "https://localhost:8080/",
          "height": 354
        },
        "id": "pd2sgihgeEgI",
        "outputId": "dd333111-e451-4350-fc03-89a1115498df"
      },
      "execution_count": null,
      "outputs": [
        {
          "output_type": "execute_result",
          "data": {
            "text/plain": [
              "                 ID  Clump Thickness  Uniformity of Cell Size  \\\n",
              "count  5.960000e+02       596.000000               596.000000   \n",
              "mean   1.073579e+06         4.377517                 3.135906   \n",
              "std    6.576392e+05         2.834380                 3.039790   \n",
              "min    6.163400e+04         1.000000                 1.000000   \n",
              "25%    8.645812e+05         2.000000                 1.000000   \n",
              "50%    1.171262e+06         4.000000                 1.000000   \n",
              "75%    1.238242e+06         6.000000                 4.000000   \n",
              "max    1.345435e+07        10.000000                10.000000   \n",
              "\n",
              "       Uniformity of Cell Shape  Marginal Adhesion  \\\n",
              "count                596.000000         596.000000   \n",
              "mean                   3.206376           2.842282   \n",
              "std                    2.970334           2.902093   \n",
              "min                    1.000000           1.000000   \n",
              "25%                    1.000000           1.000000   \n",
              "50%                    1.000000           1.000000   \n",
              "75%                    5.000000           4.000000   \n",
              "max                   10.000000          10.000000   \n",
              "\n",
              "       Single Epithelial Cell Size  Bland Chromatin  Normal Nucleoli  \\\n",
              "count                   596.000000       596.000000       596.000000   \n",
              "mean                      3.192953         3.426174         2.855705   \n",
              "std                       2.209533         2.418330         3.052369   \n",
              "min                       1.000000         1.000000         1.000000   \n",
              "25%                       2.000000         2.000000         1.000000   \n",
              "50%                       2.000000         3.000000         1.000000   \n",
              "75%                       4.000000         4.250000         3.250000   \n",
              "max                      10.000000        10.000000        10.000000   \n",
              "\n",
              "          Mitoses       Class  \n",
              "count  596.000000  596.000000  \n",
              "mean     1.573826    2.687919  \n",
              "std      1.689190    0.950854  \n",
              "min      1.000000    2.000000  \n",
              "25%      1.000000    2.000000  \n",
              "50%      1.000000    2.000000  \n",
              "75%      1.000000    4.000000  \n",
              "max     10.000000    4.000000  "
            ],
            "text/html": [
              "\n",
              "  <div id=\"df-813fed1a-1c43-45ed-870f-6e73007fed44\" class=\"colab-df-container\">\n",
              "    <div>\n",
              "<style scoped>\n",
              "    .dataframe tbody tr th:only-of-type {\n",
              "        vertical-align: middle;\n",
              "    }\n",
              "\n",
              "    .dataframe tbody tr th {\n",
              "        vertical-align: top;\n",
              "    }\n",
              "\n",
              "    .dataframe thead th {\n",
              "        text-align: right;\n",
              "    }\n",
              "</style>\n",
              "<table border=\"1\" class=\"dataframe\">\n",
              "  <thead>\n",
              "    <tr style=\"text-align: right;\">\n",
              "      <th></th>\n",
              "      <th>ID</th>\n",
              "      <th>Clump Thickness</th>\n",
              "      <th>Uniformity of Cell Size</th>\n",
              "      <th>Uniformity of Cell Shape</th>\n",
              "      <th>Marginal Adhesion</th>\n",
              "      <th>Single Epithelial Cell Size</th>\n",
              "      <th>Bland Chromatin</th>\n",
              "      <th>Normal Nucleoli</th>\n",
              "      <th>Mitoses</th>\n",
              "      <th>Class</th>\n",
              "    </tr>\n",
              "  </thead>\n",
              "  <tbody>\n",
              "    <tr>\n",
              "      <th>count</th>\n",
              "      <td>5.960000e+02</td>\n",
              "      <td>596.000000</td>\n",
              "      <td>596.000000</td>\n",
              "      <td>596.000000</td>\n",
              "      <td>596.000000</td>\n",
              "      <td>596.000000</td>\n",
              "      <td>596.000000</td>\n",
              "      <td>596.000000</td>\n",
              "      <td>596.000000</td>\n",
              "      <td>596.000000</td>\n",
              "    </tr>\n",
              "    <tr>\n",
              "      <th>mean</th>\n",
              "      <td>1.073579e+06</td>\n",
              "      <td>4.377517</td>\n",
              "      <td>3.135906</td>\n",
              "      <td>3.206376</td>\n",
              "      <td>2.842282</td>\n",
              "      <td>3.192953</td>\n",
              "      <td>3.426174</td>\n",
              "      <td>2.855705</td>\n",
              "      <td>1.573826</td>\n",
              "      <td>2.687919</td>\n",
              "    </tr>\n",
              "    <tr>\n",
              "      <th>std</th>\n",
              "      <td>6.576392e+05</td>\n",
              "      <td>2.834380</td>\n",
              "      <td>3.039790</td>\n",
              "      <td>2.970334</td>\n",
              "      <td>2.902093</td>\n",
              "      <td>2.209533</td>\n",
              "      <td>2.418330</td>\n",
              "      <td>3.052369</td>\n",
              "      <td>1.689190</td>\n",
              "      <td>0.950854</td>\n",
              "    </tr>\n",
              "    <tr>\n",
              "      <th>min</th>\n",
              "      <td>6.163400e+04</td>\n",
              "      <td>1.000000</td>\n",
              "      <td>1.000000</td>\n",
              "      <td>1.000000</td>\n",
              "      <td>1.000000</td>\n",
              "      <td>1.000000</td>\n",
              "      <td>1.000000</td>\n",
              "      <td>1.000000</td>\n",
              "      <td>1.000000</td>\n",
              "      <td>2.000000</td>\n",
              "    </tr>\n",
              "    <tr>\n",
              "      <th>25%</th>\n",
              "      <td>8.645812e+05</td>\n",
              "      <td>2.000000</td>\n",
              "      <td>1.000000</td>\n",
              "      <td>1.000000</td>\n",
              "      <td>1.000000</td>\n",
              "      <td>2.000000</td>\n",
              "      <td>2.000000</td>\n",
              "      <td>1.000000</td>\n",
              "      <td>1.000000</td>\n",
              "      <td>2.000000</td>\n",
              "    </tr>\n",
              "    <tr>\n",
              "      <th>50%</th>\n",
              "      <td>1.171262e+06</td>\n",
              "      <td>4.000000</td>\n",
              "      <td>1.000000</td>\n",
              "      <td>1.000000</td>\n",
              "      <td>1.000000</td>\n",
              "      <td>2.000000</td>\n",
              "      <td>3.000000</td>\n",
              "      <td>1.000000</td>\n",
              "      <td>1.000000</td>\n",
              "      <td>2.000000</td>\n",
              "    </tr>\n",
              "    <tr>\n",
              "      <th>75%</th>\n",
              "      <td>1.238242e+06</td>\n",
              "      <td>6.000000</td>\n",
              "      <td>4.000000</td>\n",
              "      <td>5.000000</td>\n",
              "      <td>4.000000</td>\n",
              "      <td>4.000000</td>\n",
              "      <td>4.250000</td>\n",
              "      <td>3.250000</td>\n",
              "      <td>1.000000</td>\n",
              "      <td>4.000000</td>\n",
              "    </tr>\n",
              "    <tr>\n",
              "      <th>max</th>\n",
              "      <td>1.345435e+07</td>\n",
              "      <td>10.000000</td>\n",
              "      <td>10.000000</td>\n",
              "      <td>10.000000</td>\n",
              "      <td>10.000000</td>\n",
              "      <td>10.000000</td>\n",
              "      <td>10.000000</td>\n",
              "      <td>10.000000</td>\n",
              "      <td>10.000000</td>\n",
              "      <td>4.000000</td>\n",
              "    </tr>\n",
              "  </tbody>\n",
              "</table>\n",
              "</div>\n",
              "    <div class=\"colab-df-buttons\">\n",
              "\n",
              "  <div class=\"colab-df-container\">\n",
              "    <button class=\"colab-df-convert\" onclick=\"convertToInteractive('df-813fed1a-1c43-45ed-870f-6e73007fed44')\"\n",
              "            title=\"Convert this dataframe to an interactive table.\"\n",
              "            style=\"display:none;\">\n",
              "\n",
              "  <svg xmlns=\"http://www.w3.org/2000/svg\" height=\"24px\" viewBox=\"0 -960 960 960\">\n",
              "    <path d=\"M120-120v-720h720v720H120Zm60-500h600v-160H180v160Zm220 220h160v-160H400v160Zm0 220h160v-160H400v160ZM180-400h160v-160H180v160Zm440 0h160v-160H620v160ZM180-180h160v-160H180v160Zm440 0h160v-160H620v160Z\"/>\n",
              "  </svg>\n",
              "    </button>\n",
              "\n",
              "  <style>\n",
              "    .colab-df-container {\n",
              "      display:flex;\n",
              "      gap: 12px;\n",
              "    }\n",
              "\n",
              "    .colab-df-convert {\n",
              "      background-color: #E8F0FE;\n",
              "      border: none;\n",
              "      border-radius: 50%;\n",
              "      cursor: pointer;\n",
              "      display: none;\n",
              "      fill: #1967D2;\n",
              "      height: 32px;\n",
              "      padding: 0 0 0 0;\n",
              "      width: 32px;\n",
              "    }\n",
              "\n",
              "    .colab-df-convert:hover {\n",
              "      background-color: #E2EBFA;\n",
              "      box-shadow: 0px 1px 2px rgba(60, 64, 67, 0.3), 0px 1px 3px 1px rgba(60, 64, 67, 0.15);\n",
              "      fill: #174EA6;\n",
              "    }\n",
              "\n",
              "    .colab-df-buttons div {\n",
              "      margin-bottom: 4px;\n",
              "    }\n",
              "\n",
              "    [theme=dark] .colab-df-convert {\n",
              "      background-color: #3B4455;\n",
              "      fill: #D2E3FC;\n",
              "    }\n",
              "\n",
              "    [theme=dark] .colab-df-convert:hover {\n",
              "      background-color: #434B5C;\n",
              "      box-shadow: 0px 1px 3px 1px rgba(0, 0, 0, 0.15);\n",
              "      filter: drop-shadow(0px 1px 2px rgba(0, 0, 0, 0.3));\n",
              "      fill: #FFFFFF;\n",
              "    }\n",
              "  </style>\n",
              "\n",
              "    <script>\n",
              "      const buttonEl =\n",
              "        document.querySelector('#df-813fed1a-1c43-45ed-870f-6e73007fed44 button.colab-df-convert');\n",
              "      buttonEl.style.display =\n",
              "        google.colab.kernel.accessAllowed ? 'block' : 'none';\n",
              "\n",
              "      async function convertToInteractive(key) {\n",
              "        const element = document.querySelector('#df-813fed1a-1c43-45ed-870f-6e73007fed44');\n",
              "        const dataTable =\n",
              "          await google.colab.kernel.invokeFunction('convertToInteractive',\n",
              "                                                    [key], {});\n",
              "        if (!dataTable) return;\n",
              "\n",
              "        const docLinkHtml = 'Like what you see? Visit the ' +\n",
              "          '<a target=\"_blank\" href=https://colab.research.google.com/notebooks/data_table.ipynb>data table notebook</a>'\n",
              "          + ' to learn more about interactive tables.';\n",
              "        element.innerHTML = '';\n",
              "        dataTable['output_type'] = 'display_data';\n",
              "        await google.colab.output.renderOutput(dataTable, element);\n",
              "        const docLink = document.createElement('div');\n",
              "        docLink.innerHTML = docLinkHtml;\n",
              "        element.appendChild(docLink);\n",
              "      }\n",
              "    </script>\n",
              "  </div>\n",
              "\n",
              "\n",
              "<div id=\"df-81fa4fb9-3a1b-4817-9edf-6219cdc5c195\">\n",
              "  <button class=\"colab-df-quickchart\" onclick=\"quickchart('df-81fa4fb9-3a1b-4817-9edf-6219cdc5c195')\"\n",
              "            title=\"Suggest charts\"\n",
              "            style=\"display:none;\">\n",
              "\n",
              "<svg xmlns=\"http://www.w3.org/2000/svg\" height=\"24px\"viewBox=\"0 0 24 24\"\n",
              "     width=\"24px\">\n",
              "    <g>\n",
              "        <path d=\"M19 3H5c-1.1 0-2 .9-2 2v14c0 1.1.9 2 2 2h14c1.1 0 2-.9 2-2V5c0-1.1-.9-2-2-2zM9 17H7v-7h2v7zm4 0h-2V7h2v10zm4 0h-2v-4h2v4z\"/>\n",
              "    </g>\n",
              "</svg>\n",
              "  </button>\n",
              "\n",
              "<style>\n",
              "  .colab-df-quickchart {\n",
              "      --bg-color: #E8F0FE;\n",
              "      --fill-color: #1967D2;\n",
              "      --hover-bg-color: #E2EBFA;\n",
              "      --hover-fill-color: #174EA6;\n",
              "      --disabled-fill-color: #AAA;\n",
              "      --disabled-bg-color: #DDD;\n",
              "  }\n",
              "\n",
              "  [theme=dark] .colab-df-quickchart {\n",
              "      --bg-color: #3B4455;\n",
              "      --fill-color: #D2E3FC;\n",
              "      --hover-bg-color: #434B5C;\n",
              "      --hover-fill-color: #FFFFFF;\n",
              "      --disabled-bg-color: #3B4455;\n",
              "      --disabled-fill-color: #666;\n",
              "  }\n",
              "\n",
              "  .colab-df-quickchart {\n",
              "    background-color: var(--bg-color);\n",
              "    border: none;\n",
              "    border-radius: 50%;\n",
              "    cursor: pointer;\n",
              "    display: none;\n",
              "    fill: var(--fill-color);\n",
              "    height: 32px;\n",
              "    padding: 0;\n",
              "    width: 32px;\n",
              "  }\n",
              "\n",
              "  .colab-df-quickchart:hover {\n",
              "    background-color: var(--hover-bg-color);\n",
              "    box-shadow: 0 1px 2px rgba(60, 64, 67, 0.3), 0 1px 3px 1px rgba(60, 64, 67, 0.15);\n",
              "    fill: var(--button-hover-fill-color);\n",
              "  }\n",
              "\n",
              "  .colab-df-quickchart-complete:disabled,\n",
              "  .colab-df-quickchart-complete:disabled:hover {\n",
              "    background-color: var(--disabled-bg-color);\n",
              "    fill: var(--disabled-fill-color);\n",
              "    box-shadow: none;\n",
              "  }\n",
              "\n",
              "  .colab-df-spinner {\n",
              "    border: 2px solid var(--fill-color);\n",
              "    border-color: transparent;\n",
              "    border-bottom-color: var(--fill-color);\n",
              "    animation:\n",
              "      spin 1s steps(1) infinite;\n",
              "  }\n",
              "\n",
              "  @keyframes spin {\n",
              "    0% {\n",
              "      border-color: transparent;\n",
              "      border-bottom-color: var(--fill-color);\n",
              "      border-left-color: var(--fill-color);\n",
              "    }\n",
              "    20% {\n",
              "      border-color: transparent;\n",
              "      border-left-color: var(--fill-color);\n",
              "      border-top-color: var(--fill-color);\n",
              "    }\n",
              "    30% {\n",
              "      border-color: transparent;\n",
              "      border-left-color: var(--fill-color);\n",
              "      border-top-color: var(--fill-color);\n",
              "      border-right-color: var(--fill-color);\n",
              "    }\n",
              "    40% {\n",
              "      border-color: transparent;\n",
              "      border-right-color: var(--fill-color);\n",
              "      border-top-color: var(--fill-color);\n",
              "    }\n",
              "    60% {\n",
              "      border-color: transparent;\n",
              "      border-right-color: var(--fill-color);\n",
              "    }\n",
              "    80% {\n",
              "      border-color: transparent;\n",
              "      border-right-color: var(--fill-color);\n",
              "      border-bottom-color: var(--fill-color);\n",
              "    }\n",
              "    90% {\n",
              "      border-color: transparent;\n",
              "      border-bottom-color: var(--fill-color);\n",
              "    }\n",
              "  }\n",
              "</style>\n",
              "\n",
              "  <script>\n",
              "    async function quickchart(key) {\n",
              "      const quickchartButtonEl =\n",
              "        document.querySelector('#' + key + ' button');\n",
              "      quickchartButtonEl.disabled = true;  // To prevent multiple clicks.\n",
              "      quickchartButtonEl.classList.add('colab-df-spinner');\n",
              "      try {\n",
              "        const charts = await google.colab.kernel.invokeFunction(\n",
              "            'suggestCharts', [key], {});\n",
              "      } catch (error) {\n",
              "        console.error('Error during call to suggestCharts:', error);\n",
              "      }\n",
              "      quickchartButtonEl.classList.remove('colab-df-spinner');\n",
              "      quickchartButtonEl.classList.add('colab-df-quickchart-complete');\n",
              "    }\n",
              "    (() => {\n",
              "      let quickchartButtonEl =\n",
              "        document.querySelector('#df-81fa4fb9-3a1b-4817-9edf-6219cdc5c195 button');\n",
              "      quickchartButtonEl.style.display =\n",
              "        google.colab.kernel.accessAllowed ? 'block' : 'none';\n",
              "    })();\n",
              "  </script>\n",
              "</div>\n",
              "    </div>\n",
              "  </div>\n"
            ],
            "application/vnd.google.colaboratory.intrinsic+json": {
              "type": "dataframe",
              "summary": "{\n  \"name\": \"datos\",\n  \"rows\": 8,\n  \"fields\": [\n    {\n      \"column\": \"ID\",\n      \"properties\": {\n        \"dtype\": \"number\",\n        \"std\": 4525775.66085587,\n        \"min\": 596.0,\n        \"max\": 13454352.0,\n        \"num_unique_values\": 8,\n        \"samples\": [\n          1073579.226510067,\n          1171261.5,\n          596.0\n        ],\n        \"semantic_type\": \"\",\n        \"description\": \"\"\n      }\n    },\n    {\n      \"column\": \"Clump Thickness\",\n      \"properties\": {\n        \"dtype\": \"number\",\n        \"std\": 209.2102595296749,\n        \"min\": 1.0,\n        \"max\": 596.0,\n        \"num_unique_values\": 8,\n        \"samples\": [\n          4.37751677852349,\n          4.0,\n          596.0\n        ],\n        \"semantic_type\": \"\",\n        \"description\": \"\"\n      }\n    },\n    {\n      \"column\": \"Uniformity of Cell Size\",\n      \"properties\": {\n        \"dtype\": \"number\",\n        \"std\": 209.5681806677205,\n        \"min\": 1.0,\n        \"max\": 596.0,\n        \"num_unique_values\": 6,\n        \"samples\": [\n          596.0,\n          3.1359060402684564,\n          10.0\n        ],\n        \"semantic_type\": \"\",\n        \"description\": \"\"\n      }\n    },\n    {\n      \"column\": \"Uniformity of Cell Shape\",\n      \"properties\": {\n        \"dtype\": \"number\",\n        \"std\": 209.5183966734665,\n        \"min\": 1.0,\n        \"max\": 596.0,\n        \"num_unique_values\": 6,\n        \"samples\": [\n          596.0,\n          3.2063758389261743,\n          10.0\n        ],\n        \"semantic_type\": \"\",\n        \"description\": \"\"\n      }\n    },\n    {\n      \"column\": \"Marginal Adhesion\",\n      \"properties\": {\n        \"dtype\": \"number\",\n        \"std\": 209.59005073676204,\n        \"min\": 1.0,\n        \"max\": 596.0,\n        \"num_unique_values\": 6,\n        \"samples\": [\n          596.0,\n          2.8422818791946307,\n          10.0\n        ],\n        \"semantic_type\": \"\",\n        \"description\": \"\"\n      }\n    },\n    {\n      \"column\": \"Single Epithelial Cell Size\",\n      \"properties\": {\n        \"dtype\": \"number\",\n        \"std\": 209.50406455775308,\n        \"min\": 1.0,\n        \"max\": 596.0,\n        \"num_unique_values\": 7,\n        \"samples\": [\n          596.0,\n          3.192953020134228,\n          4.0\n        ],\n        \"semantic_type\": \"\",\n        \"description\": \"\"\n      }\n    },\n    {\n      \"column\": \"Bland Chromatin\",\n      \"properties\": {\n        \"dtype\": \"number\",\n        \"std\": 209.4177141022897,\n        \"min\": 1.0,\n        \"max\": 596.0,\n        \"num_unique_values\": 8,\n        \"samples\": [\n          3.4261744966442955,\n          3.0,\n          596.0\n        ],\n        \"semantic_type\": \"\",\n        \"description\": \"\"\n      }\n    },\n    {\n      \"column\": \"Normal Nucleoli\",\n      \"properties\": {\n        \"dtype\": \"number\",\n        \"std\": 209.619420084397,\n        \"min\": 1.0,\n        \"max\": 596.0,\n        \"num_unique_values\": 6,\n        \"samples\": [\n          596.0,\n          2.8557046979865772,\n          10.0\n        ],\n        \"semantic_type\": \"\",\n        \"description\": \"\"\n      }\n    },\n    {\n      \"column\": \"Mitoses\",\n      \"properties\": {\n        \"dtype\": \"number\",\n        \"std\": 209.86862879241883,\n        \"min\": 1.0,\n        \"max\": 596.0,\n        \"num_unique_values\": 5,\n        \"samples\": [\n          1.5738255033557047,\n          10.0,\n          1.6891903872736576\n        ],\n        \"semantic_type\": \"\",\n        \"description\": \"\"\n      }\n    },\n    {\n      \"column\": \"Class\",\n      \"properties\": {\n        \"dtype\": \"number\",\n        \"std\": 209.82954342088544,\n        \"min\": 0.9508536811280005,\n        \"max\": 596.0,\n        \"num_unique_values\": 5,\n        \"samples\": [\n          2.6879194630872485,\n          4.0,\n          0.9508536811280005\n        ],\n        \"semantic_type\": \"\",\n        \"description\": \"\"\n      }\n    }\n  ]\n}"
            }
          },
          "metadata": {},
          "execution_count": 21
        }
      ]
    },
    {
      "cell_type": "code",
      "source": [
        "datos.info()"
      ],
      "metadata": {
        "id": "ccHto-y0epJC",
        "colab": {
          "base_uri": "https://localhost:8080/"
        },
        "outputId": "71763126-e14f-4368-8f5c-0af1127f98d3"
      },
      "execution_count": null,
      "outputs": [
        {
          "output_type": "stream",
          "name": "stdout",
          "text": [
            "<class 'pandas.core.frame.DataFrame'>\n",
            "RangeIndex: 596 entries, 0 to 595\n",
            "Data columns (total 11 columns):\n",
            " #   Column                       Non-Null Count  Dtype \n",
            "---  ------                       --------------  ----- \n",
            " 0   ID                           596 non-null    int64 \n",
            " 1   Clump Thickness              596 non-null    int64 \n",
            " 2   Uniformity of Cell Size      596 non-null    int64 \n",
            " 3   Uniformity of Cell Shape     596 non-null    int64 \n",
            " 4   Marginal Adhesion            596 non-null    int64 \n",
            " 5   Single Epithelial Cell Size  596 non-null    int64 \n",
            " 6   Bare Nuclei                  596 non-null    object\n",
            " 7   Bland Chromatin              596 non-null    int64 \n",
            " 8   Normal Nucleoli              596 non-null    int64 \n",
            " 9   Mitoses                      596 non-null    int64 \n",
            " 10  Class                        596 non-null    int64 \n",
            "dtypes: int64(10), object(1)\n",
            "memory usage: 51.3+ KB\n"
          ]
        }
      ]
    },
    {
      "cell_type": "code",
      "source": [
        "datos['Bare Nuclei'].value_counts()"
      ],
      "metadata": {
        "colab": {
          "base_uri": "https://localhost:8080/"
        },
        "id": "kgAFEsI0iP6y",
        "outputId": "368209de-f922-482c-9e14-9e346e914304"
      },
      "execution_count": null,
      "outputs": [
        {
          "output_type": "execute_result",
          "data": {
            "text/plain": [
              "Bare Nuclei\n",
              "1     341\n",
              "10    115\n",
              "5      28\n",
              "3      25\n",
              "2      24\n",
              "8      17\n",
              "?      16\n",
              "4      14\n",
              "9       9\n",
              "7       5\n",
              "6       2\n",
              "Name: count, dtype: int64"
            ]
          },
          "metadata": {},
          "execution_count": 35
        }
      ]
    },
    {
      "cell_type": "code",
      "source": [
        "## Borramos observaciones (16) que tengan ? en esta columna\n",
        "datos.drop(datos[datos['Bare Nuclei'] == '?'].index, inplace=True)\n",
        "\n",
        "datos['Bare Nuclei'].value_counts()"
      ],
      "metadata": {
        "colab": {
          "base_uri": "https://localhost:8080/"
        },
        "id": "9Uk_hynwi0U8",
        "outputId": "a6592fbb-9cfc-4d25-fd68-30e615623e4f"
      },
      "execution_count": null,
      "outputs": [
        {
          "output_type": "execute_result",
          "data": {
            "text/plain": [
              "Bare Nuclei\n",
              "1     341\n",
              "10    115\n",
              "5      28\n",
              "3      25\n",
              "2      24\n",
              "8      17\n",
              "4      14\n",
              "9       9\n",
              "7       5\n",
              "6       2\n",
              "Name: count, dtype: int64"
            ]
          },
          "metadata": {},
          "execution_count": 2
        }
      ]
    },
    {
      "cell_type": "markdown",
      "source": [
        "#Entrena diferentes modelos variando el algoritmo y los hiperparámetros de los mismos.\n",
        "\n",
        "Recuerda que debes obtener un clasificador que iguale o supere un score, precision, recall y f1-score de 0.95.\n",
        "\n",
        "Al realizar la separaccion en subconjuntos de entrenamiento y comprobación es recomendable mantener el % de muestras de cada clase (mediante el parámetro stratify=y de la función train_test_split).\n",
        "\n",
        "Aunque no es necesario para superar el ejercicio, una forma de mejorar los resultados es balancear los datos ([Documentación Resample](https://pandas.pydata.org/docs/reference/api/pandas.DataFrame.resample.html)), este paso debe realizarse antes de entrenar al algoritmo.\n",
        "\n",
        "Una vez hayas conseguido un modelo que iguale o supere la puntuación requerida almacénalo en la variable modelo_definitivo.\n",
        "\n",
        "ej:\n",
        "\n",
        "    clf=GaussianNB()\n",
        "\n",
        "    clf.fit(X,Y)\n",
        "\n",
        "    clf.slcore(X_test,Y_test)\n",
        "\n",
        "    clf2=LogisticRegresion(solver='saga')\n",
        "\n",
        "    clf2.fit(X,Y)\n",
        "\n",
        "    clf2.score(X_test,Y_test)\n",
        "\n",
        "Una vez que algúno, supongamos en este caso que es el Naive-Bayes,tengan un score y el resto de métricas igual o por encima de 95%\n",
        "\n",
        "    modelo_definitivo= clf"
      ],
      "metadata": {
        "id": "2f4cqLgLPcWo"
      }
    },
    {
      "cell_type": "code",
      "source": [
        "## CLASES BALANCEADAS\n",
        "import matplotlib as plt\n",
        "\n",
        "#(2 for benign, 4 for malignant) -- Utilizamos esta serie como clasificador\n",
        "print(datos[\"Class\"].value_counts())\n",
        "\n",
        "datos.groupby('Class').size().plot(kind='pie',\n",
        "                                       y = \"Class\",\n",
        "                                       label = \"Type\",\n",
        "                                       autopct='%1.1f%%')"
      ],
      "metadata": {
        "colab": {
          "base_uri": "https://localhost:8080/",
          "height": 493
        },
        "id": "i35_qJUBcxNn",
        "outputId": "327771de-5f3c-4528-fd6e-f211c8489ebc"
      },
      "execution_count": null,
      "outputs": [
        {
          "output_type": "stream",
          "name": "stdout",
          "text": [
            "Class\n",
            "2    377\n",
            "4    203\n",
            "Name: count, dtype: int64\n"
          ]
        },
        {
          "output_type": "execute_result",
          "data": {
            "text/plain": [
              "<Axes: ylabel='Type'>"
            ]
          },
          "metadata": {},
          "execution_count": 3
        },
        {
          "output_type": "display_data",
          "data": {
            "text/plain": [
              "<Figure size 640x480 with 1 Axes>"
            ],
            "image/png": "[encoded data removed]"
          },
          "metadata": {}
        }
      ]
    },
    {
      "cell_type": "code",
      "source": [
        "## DOWNSAMPLING\n",
        "\n",
        "class1 = datos[datos[\"Class\"] == 2] #377 -- Aplicamos sobre la mayoritaria\n",
        "class2 = datos[datos[\"Class\"] == 4] #203\n",
        "\n",
        "# RESAMPLE:\n",
        "from sklearn.utils import resample\n",
        "\n",
        "class1_downsample = resample(class1, #Datos a resamplear\n",
        "             replace=True,\n",
        "             n_samples=len(class2), #Cantidad de datos que queremos tener\n",
        "             random_state=42) #Semilla aleatoria\n",
        "\n",
        "print(class1_downsample.shape)"
      ],
      "metadata": {
        "id": "2T41-06iuC7L",
        "colab": {
          "base_uri": "https://localhost:8080/"
        },
        "outputId": "4e787739-e34c-470c-861a-8e1d49d27bb0"
      },
      "execution_count": null,
      "outputs": [
        {
          "output_type": "stream",
          "name": "stdout",
          "text": [
            "(203, 11)\n"
          ]
        }
      ]
    },
    {
      "cell_type": "code",
      "source": [
        "## CONCATENAMOS CON DATOS RESAMPLEADOS:\n",
        "data_resampled = pd.concat([class1_downsample, class2])\n",
        "\n",
        "# Valores de la columna Class:\n",
        "print(data_resampled['Class'].value_counts())\n",
        "\n",
        "data_resampled.groupby('Class').size().plot(kind='pie',\n",
        "                                       y = \"Class\",\n",
        "                                       label = \"Type\",\n",
        "                                       autopct='%1.1f%%')"
      ],
      "metadata": {
        "id": "4fiUBJaQJbBd",
        "colab": {
          "base_uri": "https://localhost:8080/",
          "height": 493
        },
        "outputId": "495e42ad-5d61-465c-c68d-d8b4454b3398"
      },
      "execution_count": null,
      "outputs": [
        {
          "output_type": "stream",
          "name": "stdout",
          "text": [
            "Class\n",
            "2    203\n",
            "4    203\n",
            "Name: count, dtype: int64\n"
          ]
        },
        {
          "output_type": "execute_result",
          "data": {
            "text/plain": [
              "<Axes: ylabel='Type'>"
            ]
          },
          "metadata": {},
          "execution_count": 10
        },
        {
          "output_type": "display_data",
          "data": {
            "text/plain": [
              "<Figure size 640x480 with 1 Axes>"
            ],
            "image/png": "[encoded data removed]"
          },
          "metadata": {}
        }
      ]
    },
    {
      "cell_type": "code",
      "source": [
        "## VARIABLES DUPLICADAS:\n",
        "\n",
        "data_resampled.duplicated().sum() #50\n",
        "data_resampled.drop_duplicates(inplace=True) #Eliminamos"
      ],
      "metadata": {
        "id": "4S1zZVFpJazh"
      },
      "execution_count": null,
      "outputs": []
    },
    {
      "cell_type": "code",
      "source": [
        "#Vemos que el balanceo ya no es 50-50 tras eliminar los valores duplicados\n",
        "#pero aún así es muy similar:\n",
        "data_resampled.groupby('Class').size().plot(kind='pie',\n",
        "                                       y = \"Class\",\n",
        "                                       label = \"Type\",\n",
        "                                       autopct='%1.1f%%')"
      ],
      "metadata": {
        "colab": {
          "base_uri": "https://localhost:8080/",
          "height": 423
        },
        "id": "iUz6J-fNGagL",
        "outputId": "67fd059c-991a-4218-c332-f6a501540bee"
      },
      "execution_count": null,
      "outputs": [
        {
          "output_type": "execute_result",
          "data": {
            "text/plain": [
              "<Axes: ylabel='Type'>"
            ]
          },
          "metadata": {},
          "execution_count": 13
        },
        {
          "output_type": "display_data",
          "data": {
            "text/plain": [
              "<Figure size 640x480 with 1 Axes>"
            ],
            "image/png": "[encoded data removed]"
          },
          "metadata": {}
        }
      ]
    },
    {
      "cell_type": "code",
      "source": [
        "## CORRELACION ENTRE VARIABLES\n",
        "\n",
        "correlation = data_resampled.corr()\n",
        "print(correlation['Class'].sort_values(ascending=False))\n"
      ],
      "metadata": {
        "colab": {
          "base_uri": "https://localhost:8080/"
        },
        "id": "-RvzITTohq5X",
        "outputId": "a7d927d7-cfbe-4d78-e2bd-f5ed864e2eb1"
      },
      "execution_count": null,
      "outputs": [
        {
          "output_type": "stream",
          "name": "stdout",
          "text": [
            "Class                          1.000000\n",
            "Uniformity of Cell Shape       0.776706\n",
            "Bare Nuclei                    0.770946\n",
            "Uniformity of Cell Size        0.768906\n",
            "Bland Chromatin                0.723476\n",
            "Clump Thickness                0.690779\n",
            "Normal Nucleoli                0.674870\n",
            "Marginal Adhesion              0.657256\n",
            "Single Epithelial Cell Size    0.632085\n",
            "Mitoses                        0.365998\n",
            "ID                            -0.114507\n",
            "Name: Class, dtype: float64\n"
          ]
        }
      ]
    },
    {
      "cell_type": "code",
      "source": [
        "## ELIMINAMOS COLUMNAS QUE NO APORTEN: ['ID']\n",
        "## & SEPARAMOS ENTRE DATOS DE ENTRADA y SALIDA\n",
        "\n",
        "X = data_resampled.drop(columns=['ID', 'Class']) #Entrada\n",
        "y = data_resampled['Class'] # Salida\n",
        "\n",
        "#Comprobamos dimensiones\n",
        "print('X: ', X.shape, 'y: ', y.shape)"
      ],
      "metadata": {
        "colab": {
          "base_uri": "https://localhost:8080/"
        },
        "id": "pCaM3cA5kZ1a",
        "outputId": "7e0aafa8-b99a-4bc6-eb7d-fb6ff2b8eb4a"
      },
      "execution_count": null,
      "outputs": [
        {
          "output_type": "stream",
          "name": "stdout",
          "text": [
            "X:  (356, 9) y:  (356,)\n"
          ]
        }
      ]
    },
    {
      "cell_type": "code",
      "source": [
        "## DIVIMOS ENTRE TRAIN & TEST:\n",
        "from sklearn.model_selection import train_test_split\n",
        "\n",
        "# 80% train y 20% tes\n",
        "X_train, X_test, y_train, y_test = train_test_split(X, y, test_size=0.2, random_state=42)"
      ],
      "metadata": {
        "id": "eoMUEiNDk2lp"
      },
      "execution_count": null,
      "outputs": []
    },
    {
      "cell_type": "code",
      "source": [
        "## PRUEBA 1: ARBOL DE DECISION\n",
        "from sklearn.tree import DecisionTreeClassifier\n",
        "from sklearn.metrics import roc_auc_score as ras #métrica ROC-AUC\n",
        "\n",
        "# Definimos el modelo:\n",
        "model1 = DecisionTreeClassifier()\n",
        "# Entrenamos con train:\n",
        "model1.fit(X_train, y_train)\n",
        "\n",
        "# Predecimos y evaluamos en el TRAIN:\n",
        "train_preds_1 = model1.predict_proba(X_train)[:, 1]\n",
        "print('Training Accuracy : ', ras(y_train, train_preds_1))\n",
        "\n",
        "# Predecimos y evaluamos en el TEST:\n",
        "test_preds_1 = model1.predict_proba(X_test)[:, 1]\n",
        "print('Validation Accuracy : ', ras(y_test, test_preds_1))\n",
        "\n",
        "print('Efficiency: ', model1.score(X_test, y_test))"
      ],
      "metadata": {
        "colab": {
          "base_uri": "https://localhost:8080/"
        },
        "id": "Qe6RoI3Rlju5",
        "outputId": "b1c9cd4f-7651-4cce-a2f0-52df8ca948c7"
      },
      "execution_count": null,
      "outputs": [
        {
          "output_type": "stream",
          "name": "stdout",
          "text": [
            "Training Accuracy :  1.0\n",
            "Validation Accuracy :  0.88125\n",
            "Rendimiento:  0.875\n"
          ]
        }
      ]
    },
    {
      "cell_type": "code",
      "source": [
        "## PRUEBA 2: REGRESION LÓGICA\n",
        "from sklearn.linear_model import LogisticRegression\n",
        "from sklearn.metrics import roc_auc_score as ras #métrica ROC-AUC\n",
        "\n",
        "# Definimos el modelo:\n",
        "model2 = LogisticRegression()\n",
        "# Entrenamos con train:\n",
        "model2.fit(X_train, y_train)\n",
        "\n",
        "# Predecimos y evaluamos en el TRAIN:\n",
        "train_preds_2 = model2.predict_proba(X_train)[:, 1]\n",
        "print('Training Accuracy : ', ras(y_train, train_preds_2))\n",
        "\n",
        "# Predecimos y evaluamos en el TEST:\n",
        "test_preds_2 = model2.predict_proba(X_test)[:, 1]\n",
        "print('Validation Accuracy : ', ras(y_test, test_preds_2))\n",
        "\n",
        "print('Efficiency: ', model2.score(X_test, y_test))"
      ],
      "metadata": {
        "colab": {
          "base_uri": "https://localhost:8080/"
        },
        "id": "lf6m-4fpvikU",
        "outputId": "eda0c6be-0db8-42e6-f78c-0509db7534a0"
      },
      "execution_count": null,
      "outputs": [
        {
          "output_type": "stream",
          "name": "stdout",
          "text": [
            "Training Accuracy :  0.9965661768418926\n",
            "Validation Accuracy :  0.9750000000000001\n",
            "Rendimiento:  0.9305555555555556\n"
          ]
        }
      ]
    },
    {
      "cell_type": "code",
      "source": [
        "## PRUEBA 3: SVC\n",
        "from sklearn.svm import SVC\n",
        "from sklearn.metrics import roc_auc_score as ras #métrica ROC-AUC\n",
        "\n",
        "# Definimos el modelo:\n",
        "model3 = SVC(kernel='rbf', probability=True)\n",
        "# Entrenamos con train:\n",
        "model3.fit(X_train, y_train)\n",
        "\n",
        "# Predecimos y evaluamos en el TRAIN:\n",
        "train_preds_3 = model3.predict_proba(X_train)[:, 1]\n",
        "print('Training Accuracy : ', ras(y_train, train_preds_3))\n",
        "\n",
        "# Predecimos y evaluamos en el TEST:\n",
        "test_preds_3 = model3.predict_proba(X_test)[:, 1]\n",
        "print('Validation Accuracy : ', ras(y_test, test_preds_3))\n",
        "\n",
        "print('Efficiency: ', model3.score(X_test, y_test))"
      ],
      "metadata": {
        "colab": {
          "base_uri": "https://localhost:8080/"
        },
        "id": "k_looXA7wBxA",
        "outputId": "e6aa2130-6258-4bae-f0c0-e15ca4444429"
      },
      "execution_count": null,
      "outputs": [
        {
          "output_type": "stream",
          "name": "stdout",
          "text": [
            "Training Accuracy :  0.991869918699187\n",
            "Validation Accuracy :  0.96875\n",
            "Rendimiento:  0.9861111111111112\n"
          ]
        }
      ]
    },
    {
      "cell_type": "code",
      "source": [
        "## PRUEBA 4: Random Forest -- BEST ACCURACY\n",
        "from sklearn.ensemble import RandomForestClassifier\n",
        "from sklearn.metrics import roc_auc_score as ras #métrica ROC-AUC\n",
        "\n",
        "# Definimos el modelo:\n",
        "model4 = RandomForestClassifier(n_estimators=7,\n",
        "\t\t\t\t\t\t\t\tcriterion='entropy',\n",
        "\t\t\t\t\t\t\t\trandom_state=7)\n",
        "# Entrenamos con train:\n",
        "model4.fit(X_train, y_train)\n",
        "\n",
        "# Predecimos y evaluamos en el TRAIN:\n",
        "train_preds_4 = model4.predict_proba(X_train)[:, 1]\n",
        "print('Training Accuracy : ', ras(y_train, train_preds_4))\n",
        "\n",
        "# Predecimos y evaluamos en el TEST:\n",
        "test_preds_4 = model4.predict_proba(X_test)[:, 1]\n",
        "print('Validation Accuracy : ', ras(y_test, test_preds_4))\n",
        "\n",
        "print('Efficiency: ', model4.score(X_test, y_test))"
      ],
      "metadata": {
        "colab": {
          "base_uri": "https://localhost:8080/"
        },
        "id": "KSkg_1OowhEt",
        "outputId": "560ebdd3-b329-49c7-f3d4-06c8ccd10290"
      },
      "execution_count": null,
      "outputs": [
        {
          "output_type": "stream",
          "name": "stdout",
          "text": [
            "Training Accuracy :  1.0\n",
            "Validation Accuracy :  0.98046875\n",
            "Rendimiento:  0.9722222222222222\n"
          ]
        }
      ]
    },
    {
      "cell_type": "code",
      "source": [
        "#Iguala la variable modelo_definitivo al clasificador que cumpla las exigencias de superar el 0.95 en la puntuacion y las metricas.\n",
        "\n",
        "modelo_definitivo= model4"
      ],
      "metadata": {
        "id": "R1LfAWhXDApe"
      },
      "execution_count": null,
      "outputs": []
    },
    {
      "cell_type": "code",
      "source": [
        "#@title Comprueba que tu algoritmo cumpple los requisitos\n",
        "def check_2():\n",
        "\n",
        "  X_token=pd.read_csv('https://raw.githubusercontent.com/nodd3r/recursos/main/datasets/cancer/Token/X_token.csv', header=0)\n",
        "  Y_token=pd.read_csv('https://raw.githubusercontent.com/nodd3r/recursos/main/datasets/cancer/Token/Y_token.csv', header=0)\n",
        "  puntuacion=modelo_definitivo.score(X_token,Y_token)\n",
        "  if puntuacion>=0.95:\n",
        "\n",
        "    Y_token_pred=result_LR[-1].predict(X_token)\n",
        "    from sklearn.metrics import accuracy_score, precision_score, recall_score,f1_score\n",
        "    metrics_label=['accuracy', 'precision','recall','f1-score']\n",
        "    metrics=[accuracy_score(Y_token,Y_token_pred), precision_score(Y_token,Y_token_pred), recall_score(Y_token,Y_token_pred), f1_score(Y_token,Y_token_pred)]\n",
        "    if min(metrics)>=0.95:\n",
        "      return 'Correcto'\n",
        "    else:\n",
        "      return f'La métrica {metrics_label[metrics.argmin()]} tiene un valor de {min(metrics)}, no cumple el objetivo de igualar o superar 0.95'\n",
        "  else:\n",
        "       return f'La puntuacion del algoritmo es: {puntuacion}, no cumple el objetivo de igualar o superar 0.95'\n",
        "\n",
        "check_2()\n"
      ],
      "metadata": {
        "id": "p8_Wtph0-_zo",
        "colab": {
          "base_uri": "https://localhost:8080/",
          "height": 373
        },
        "outputId": "055d4a19-105c-4457-e344-1ce38e4083b5",
        "cellView": "form"
      },
      "execution_count": null,
      "outputs": [
        {
          "output_type": "error",
          "ename": "ValueError",
          "evalue": "The feature names should match those that were passed during fit.\nFeature names unseen at fit time:\n- ID\n",
          "traceback": [
            "\u001b[0;31m---------------------------------------------------------------------------\u001b[0m",
            "\u001b[0;31mValueError\u001b[0m                                Traceback (most recent call last)",
            "\u001b[0;32m<ipython-input-89-c5df8e0082c0>\u001b[0m in \u001b[0;36m<cell line: 20>\u001b[0;34m()\u001b[0m\n\u001b[1;32m     18\u001b[0m        \u001b[0;32mreturn\u001b[0m \u001b[0;34mf'La puntuacion del algoritmo es: {puntuacion}, no cumple el objetivo de igualar o superar 0.95'\u001b[0m\u001b[0;34m\u001b[0m\u001b[0;34m\u001b[0m\u001b[0m\n\u001b[1;32m     19\u001b[0m \u001b[0;34m\u001b[0m\u001b[0m\n\u001b[0;32m---> 20\u001b[0;31m \u001b[0mcheck_2\u001b[0m\u001b[0;34m(\u001b[0m\u001b[0;34m)\u001b[0m\u001b[0;34m\u001b[0m\u001b[0;34m\u001b[0m\u001b[0m\n\u001b[0m",
            "\u001b[0;32m<ipython-input-89-c5df8e0082c0>\u001b[0m in \u001b[0;36mcheck_2\u001b[0;34m()\u001b[0m\n\u001b[1;32m      4\u001b[0m   \u001b[0mX_token\u001b[0m\u001b[0;34m=\u001b[0m\u001b[0mpd\u001b[0m\u001b[0;34m.\u001b[0m\u001b[0mread_csv\u001b[0m\u001b[0;34m(\u001b[0m\u001b[0;34m'https://raw.githubusercontent.com/nodd3r/recursos/main/datasets/cancer/Token/X_token.csv'\u001b[0m\u001b[0;34m,\u001b[0m \u001b[0mheader\u001b[0m\u001b[0;34m=\u001b[0m\u001b[0;36m0\u001b[0m\u001b[0;34m)\u001b[0m\u001b[0;34m\u001b[0m\u001b[0;34m\u001b[0m\u001b[0m\n\u001b[1;32m      5\u001b[0m   \u001b[0mY_token\u001b[0m\u001b[0;34m=\u001b[0m\u001b[0mpd\u001b[0m\u001b[0;34m.\u001b[0m\u001b[0mread_csv\u001b[0m\u001b[0;34m(\u001b[0m\u001b[0;34m'https://raw.githubusercontent.com/nodd3r/recursos/main/datasets/cancer/Token/Y_token.csv'\u001b[0m\u001b[0;34m,\u001b[0m \u001b[0mheader\u001b[0m\u001b[0;34m=\u001b[0m\u001b[0;36m0\u001b[0m\u001b[0;34m)\u001b[0m\u001b[0;34m\u001b[0m\u001b[0;34m\u001b[0m\u001b[0m\n\u001b[0;32m----> 6\u001b[0;31m   \u001b[0mpuntuacion\u001b[0m\u001b[0;34m=\u001b[0m\u001b[0mmodelo_definitivo\u001b[0m\u001b[0;34m.\u001b[0m\u001b[0mscore\u001b[0m\u001b[0;34m(\u001b[0m\u001b[0mX_token\u001b[0m\u001b[0;34m,\u001b[0m\u001b[0mY_token\u001b[0m\u001b[0;34m)\u001b[0m\u001b[0;34m\u001b[0m\u001b[0;34m\u001b[0m\u001b[0m\n\u001b[0m\u001b[1;32m      7\u001b[0m   \u001b[0;32mif\u001b[0m \u001b[0mpuntuacion\u001b[0m\u001b[0;34m>=\u001b[0m\u001b[0;36m0.95\u001b[0m\u001b[0;34m:\u001b[0m\u001b[0;34m\u001b[0m\u001b[0;34m\u001b[0m\u001b[0m\n\u001b[1;32m      8\u001b[0m \u001b[0;34m\u001b[0m\u001b[0m\n",
            "\u001b[0;32m/usr/local/lib/python3.10/dist-packages/sklearn/base.py\u001b[0m in \u001b[0;36mscore\u001b[0;34m(self, X, y, sample_weight)\u001b[0m\n\u001b[1;32m    666\u001b[0m         \u001b[0;32mfrom\u001b[0m \u001b[0;34m.\u001b[0m\u001b[0mmetrics\u001b[0m \u001b[0;32mimport\u001b[0m \u001b[0maccuracy_score\u001b[0m\u001b[0;34m\u001b[0m\u001b[0;34m\u001b[0m\u001b[0m\n\u001b[1;32m    667\u001b[0m \u001b[0;34m\u001b[0m\u001b[0m\n\u001b[0;32m--> 668\u001b[0;31m         \u001b[0;32mreturn\u001b[0m \u001b[0maccuracy_score\u001b[0m\u001b[0;34m(\u001b[0m\u001b[0my\u001b[0m\u001b[0;34m,\u001b[0m \u001b[0mself\u001b[0m\u001b[0;34m.\u001b[0m\u001b[0mpredict\u001b[0m\u001b[0;34m(\u001b[0m\u001b[0mX\u001b[0m\u001b[0;34m)\u001b[0m\u001b[0;34m,\u001b[0m \u001b[0msample_weight\u001b[0m\u001b[0;34m=\u001b[0m\u001b[0msample_weight\u001b[0m\u001b[0;34m)\u001b[0m\u001b[0;34m\u001b[0m\u001b[0;34m\u001b[0m\u001b[0m\n\u001b[0m\u001b[1;32m    669\u001b[0m \u001b[0;34m\u001b[0m\u001b[0m\n\u001b[1;32m    670\u001b[0m     \u001b[0;32mdef\u001b[0m \u001b[0m_more_tags\u001b[0m\u001b[0;34m(\u001b[0m\u001b[0mself\u001b[0m\u001b[0;34m)\u001b[0m\u001b[0;34m:\u001b[0m\u001b[0;34m\u001b[0m\u001b[0;34m\u001b[0m\u001b[0m\n",
            "\u001b[0;32m/usr/local/lib/python3.10/dist-packages/sklearn/ensemble/_forest.py\u001b[0m in \u001b[0;36mpredict\u001b[0;34m(self, X)\u001b[0m\n\u001b[1;32m    818\u001b[0m             \u001b[0mThe\u001b[0m \u001b[0mpredicted\u001b[0m \u001b[0mclasses\u001b[0m\u001b[0;34m.\u001b[0m\u001b[0;34m\u001b[0m\u001b[0;34m\u001b[0m\u001b[0m\n\u001b[1;32m    819\u001b[0m         \"\"\"\n\u001b[0;32m--> 820\u001b[0;31m         \u001b[0mproba\u001b[0m \u001b[0;34m=\u001b[0m \u001b[0mself\u001b[0m\u001b[0;34m.\u001b[0m\u001b[0mpredict_proba\u001b[0m\u001b[0;34m(\u001b[0m\u001b[0mX\u001b[0m\u001b[0;34m)\u001b[0m\u001b[0;34m\u001b[0m\u001b[0;34m\u001b[0m\u001b[0m\n\u001b[0m\u001b[1;32m    821\u001b[0m \u001b[0;34m\u001b[0m\u001b[0m\n\u001b[1;32m    822\u001b[0m         \u001b[0;32mif\u001b[0m \u001b[0mself\u001b[0m\u001b[0;34m.\u001b[0m\u001b[0mn_outputs_\u001b[0m \u001b[0;34m==\u001b[0m \u001b[0;36m1\u001b[0m\u001b[0;34m:\u001b[0m\u001b[0;34m\u001b[0m\u001b[0;34m\u001b[0m\u001b[0m\n",
            "\u001b[0;32m/usr/local/lib/python3.10/dist-packages/sklearn/ensemble/_forest.py\u001b[0m in \u001b[0;36mpredict_proba\u001b[0;34m(self, X)\u001b[0m\n\u001b[1;32m    860\u001b[0m         \u001b[0mcheck_is_fitted\u001b[0m\u001b[0;34m(\u001b[0m\u001b[0mself\u001b[0m\u001b[0;34m)\u001b[0m\u001b[0;34m\u001b[0m\u001b[0;34m\u001b[0m\u001b[0m\n\u001b[1;32m    861\u001b[0m         \u001b[0;31m# Check data\u001b[0m\u001b[0;34m\u001b[0m\u001b[0;34m\u001b[0m\u001b[0m\n\u001b[0;32m--> 862\u001b[0;31m         \u001b[0mX\u001b[0m \u001b[0;34m=\u001b[0m \u001b[0mself\u001b[0m\u001b[0;34m.\u001b[0m\u001b[0m_validate_X_predict\u001b[0m\u001b[0;34m(\u001b[0m\u001b[0mX\u001b[0m\u001b[0;34m)\u001b[0m\u001b[0;34m\u001b[0m\u001b[0;34m\u001b[0m\u001b[0m\n\u001b[0m\u001b[1;32m    863\u001b[0m \u001b[0;34m\u001b[0m\u001b[0m\n\u001b[1;32m    864\u001b[0m         \u001b[0;31m# Assign chunk of trees to jobs\u001b[0m\u001b[0;34m\u001b[0m\u001b[0;34m\u001b[0m\u001b[0m\n",
            "\u001b[0;32m/usr/local/lib/python3.10/dist-packages/sklearn/ensemble/_forest.py\u001b[0m in \u001b[0;36m_validate_X_predict\u001b[0;34m(self, X)\u001b[0m\n\u001b[1;32m    600\u001b[0m         Validate X whenever one tries to predict, apply, predict_proba.\"\"\"\n\u001b[1;32m    601\u001b[0m         \u001b[0mcheck_is_fitted\u001b[0m\u001b[0;34m(\u001b[0m\u001b[0mself\u001b[0m\u001b[0;34m)\u001b[0m\u001b[0;34m\u001b[0m\u001b[0;34m\u001b[0m\u001b[0m\n\u001b[0;32m--> 602\u001b[0;31m         \u001b[0mX\u001b[0m \u001b[0;34m=\u001b[0m \u001b[0mself\u001b[0m\u001b[0;34m.\u001b[0m\u001b[0m_validate_data\u001b[0m\u001b[0;34m(\u001b[0m\u001b[0mX\u001b[0m\u001b[0;34m,\u001b[0m \u001b[0mdtype\u001b[0m\u001b[0;34m=\u001b[0m\u001b[0mDTYPE\u001b[0m\u001b[0;34m,\u001b[0m \u001b[0maccept_sparse\u001b[0m\u001b[0;34m=\u001b[0m\u001b[0;34m\"csr\"\u001b[0m\u001b[0;34m,\u001b[0m \u001b[0mreset\u001b[0m\u001b[0;34m=\u001b[0m\u001b[0;32mFalse\u001b[0m\u001b[0;34m)\u001b[0m\u001b[0;34m\u001b[0m\u001b[0;34m\u001b[0m\u001b[0m\n\u001b[0m\u001b[1;32m    603\u001b[0m         \u001b[0;32mif\u001b[0m \u001b[0missparse\u001b[0m\u001b[0;34m(\u001b[0m\u001b[0mX\u001b[0m\u001b[0;34m)\u001b[0m \u001b[0;32mand\u001b[0m \u001b[0;34m(\u001b[0m\u001b[0mX\u001b[0m\u001b[0;34m.\u001b[0m\u001b[0mindices\u001b[0m\u001b[0;34m.\u001b[0m\u001b[0mdtype\u001b[0m \u001b[0;34m!=\u001b[0m \u001b[0mnp\u001b[0m\u001b[0;34m.\u001b[0m\u001b[0mintc\u001b[0m \u001b[0;32mor\u001b[0m \u001b[0mX\u001b[0m\u001b[0;34m.\u001b[0m\u001b[0mindptr\u001b[0m\u001b[0;34m.\u001b[0m\u001b[0mdtype\u001b[0m \u001b[0;34m!=\u001b[0m \u001b[0mnp\u001b[0m\u001b[0;34m.\u001b[0m\u001b[0mintc\u001b[0m\u001b[0;34m)\u001b[0m\u001b[0;34m:\u001b[0m\u001b[0;34m\u001b[0m\u001b[0;34m\u001b[0m\u001b[0m\n\u001b[1;32m    604\u001b[0m             \u001b[0;32mraise\u001b[0m \u001b[0mValueError\u001b[0m\u001b[0;34m(\u001b[0m\u001b[0;34m\"No support for np.int64 index based sparse matrices\"\u001b[0m\u001b[0;34m)\u001b[0m\u001b[0;34m\u001b[0m\u001b[0;34m\u001b[0m\u001b[0m\n",
            "\u001b[0;32m/usr/local/lib/python3.10/dist-packages/sklearn/base.py\u001b[0m in \u001b[0;36m_validate_data\u001b[0;34m(self, X, y, reset, validate_separately, **check_params)\u001b[0m\n\u001b[1;32m    546\u001b[0m             \u001b[0mvalidated\u001b[0m\u001b[0;34m.\u001b[0m\u001b[0;34m\u001b[0m\u001b[0;34m\u001b[0m\u001b[0m\n\u001b[1;32m    547\u001b[0m         \"\"\"\n\u001b[0;32m--> 548\u001b[0;31m         \u001b[0mself\u001b[0m\u001b[0;34m.\u001b[0m\u001b[0m_check_feature_names\u001b[0m\u001b[0;34m(\u001b[0m\u001b[0mX\u001b[0m\u001b[0;34m,\u001b[0m \u001b[0mreset\u001b[0m\u001b[0;34m=\u001b[0m\u001b[0mreset\u001b[0m\u001b[0;34m)\u001b[0m\u001b[0;34m\u001b[0m\u001b[0;34m\u001b[0m\u001b[0m\n\u001b[0m\u001b[1;32m    549\u001b[0m \u001b[0;34m\u001b[0m\u001b[0m\n\u001b[1;32m    550\u001b[0m         \u001b[0;32mif\u001b[0m \u001b[0my\u001b[0m \u001b[0;32mis\u001b[0m \u001b[0;32mNone\u001b[0m \u001b[0;32mand\u001b[0m \u001b[0mself\u001b[0m\u001b[0;34m.\u001b[0m\u001b[0m_get_tags\u001b[0m\u001b[0;34m(\u001b[0m\u001b[0;34m)\u001b[0m\u001b[0;34m[\u001b[0m\u001b[0;34m\"requires_y\"\u001b[0m\u001b[0;34m]\u001b[0m\u001b[0;34m:\u001b[0m\u001b[0;34m\u001b[0m\u001b[0;34m\u001b[0m\u001b[0m\n",
            "\u001b[0;32m/usr/local/lib/python3.10/dist-packages/sklearn/base.py\u001b[0m in \u001b[0;36m_check_feature_names\u001b[0;34m(self, X, reset)\u001b[0m\n\u001b[1;32m    479\u001b[0m                 )\n\u001b[1;32m    480\u001b[0m \u001b[0;34m\u001b[0m\u001b[0m\n\u001b[0;32m--> 481\u001b[0;31m             \u001b[0;32mraise\u001b[0m \u001b[0mValueError\u001b[0m\u001b[0;34m(\u001b[0m\u001b[0mmessage\u001b[0m\u001b[0;34m)\u001b[0m\u001b[0;34m\u001b[0m\u001b[0;34m\u001b[0m\u001b[0m\n\u001b[0m\u001b[1;32m    482\u001b[0m \u001b[0;34m\u001b[0m\u001b[0m\n\u001b[1;32m    483\u001b[0m     def _validate_data(\n",
            "\u001b[0;31mValueError\u001b[0m: The feature names should match those that were passed during fit.\nFeature names unseen at fit time:\n- ID\n"
          ]
        }
      ]
    },
    {
      "cell_type": "code",
      "source": [
        "#@title Consigue el Token para validar el ejercicio en Nodd3r\n",
        "import hashlib\n",
        "\n",
        "correct = str(check()) + str(check_2())\n",
        "pwd = hashlib.sha256(str(correct).encode())\n",
        "print('El token para corregir en Nodd3r es:\\n',pwd.hexdigest())"
      ],
      "metadata": {
        "id": "3YgxiCEUD-8d",
        "colab": {
          "base_uri": "https://localhost:8080/",
          "height": 422
        },
        "outputId": "00863e5e-5696-4442-b4cc-a987e549f5af",
        "cellView": "form"
      },
      "execution_count": null,
      "outputs": [
        {
          "output_type": "error",
          "ename": "AttributeError",
          "evalue": "'numpy.float64' object has no attribute 'score'",
          "traceback": [
            "\u001b[0;31m---------------------------------------------------------------------------\u001b[0m",
            "\u001b[0;31mAttributeError\u001b[0m                            Traceback (most recent call last)",
            "\u001b[0;32m<ipython-input-69-0baef9df8308>\u001b[0m in \u001b[0;36m<cell line: 4>\u001b[0;34m()\u001b[0m\n\u001b[1;32m      2\u001b[0m \u001b[0;32mimport\u001b[0m \u001b[0mhashlib\u001b[0m\u001b[0;34m\u001b[0m\u001b[0;34m\u001b[0m\u001b[0m\n\u001b[1;32m      3\u001b[0m \u001b[0;34m\u001b[0m\u001b[0m\n\u001b[0;32m----> 4\u001b[0;31m \u001b[0mcorrect\u001b[0m \u001b[0;34m=\u001b[0m \u001b[0mstr\u001b[0m\u001b[0;34m(\u001b[0m\u001b[0mcheck\u001b[0m\u001b[0;34m(\u001b[0m\u001b[0;34m)\u001b[0m\u001b[0;34m)\u001b[0m \u001b[0;34m+\u001b[0m \u001b[0mstr\u001b[0m\u001b[0;34m(\u001b[0m\u001b[0mcheck_2\u001b[0m\u001b[0;34m(\u001b[0m\u001b[0;34m)\u001b[0m\u001b[0;34m)\u001b[0m\u001b[0;34m\u001b[0m\u001b[0;34m\u001b[0m\u001b[0m\n\u001b[0m\u001b[1;32m      5\u001b[0m \u001b[0mpwd\u001b[0m \u001b[0;34m=\u001b[0m \u001b[0mhashlib\u001b[0m\u001b[0;34m.\u001b[0m\u001b[0msha256\u001b[0m\u001b[0;34m(\u001b[0m\u001b[0mstr\u001b[0m\u001b[0;34m(\u001b[0m\u001b[0mcorrect\u001b[0m\u001b[0;34m)\u001b[0m\u001b[0;34m.\u001b[0m\u001b[0mencode\u001b[0m\u001b[0;34m(\u001b[0m\u001b[0;34m)\u001b[0m\u001b[0;34m)\u001b[0m\u001b[0;34m\u001b[0m\u001b[0;34m\u001b[0m\u001b[0m\n\u001b[1;32m      6\u001b[0m \u001b[0mprint\u001b[0m\u001b[0;34m(\u001b[0m\u001b[0;34m'El token para corregir en Nodd3r es:\\n'\u001b[0m\u001b[0;34m,\u001b[0m\u001b[0mpwd\u001b[0m\u001b[0;34m.\u001b[0m\u001b[0mhexdigest\u001b[0m\u001b[0;34m(\u001b[0m\u001b[0;34m)\u001b[0m\u001b[0;34m)\u001b[0m\u001b[0;34m\u001b[0m\u001b[0;34m\u001b[0m\u001b[0m\n",
            "\u001b[0;32m<ipython-input-68-c5df8e0082c0>\u001b[0m in \u001b[0;36mcheck_2\u001b[0;34m()\u001b[0m\n\u001b[1;32m      4\u001b[0m   \u001b[0mX_token\u001b[0m\u001b[0;34m=\u001b[0m\u001b[0mpd\u001b[0m\u001b[0;34m.\u001b[0m\u001b[0mread_csv\u001b[0m\u001b[0;34m(\u001b[0m\u001b[0;34m'https://raw.githubusercontent.com/nodd3r/recursos/main/datasets/cancer/Token/X_token.csv'\u001b[0m\u001b[0;34m,\u001b[0m \u001b[0mheader\u001b[0m\u001b[0;34m=\u001b[0m\u001b[0;36m0\u001b[0m\u001b[0;34m)\u001b[0m\u001b[0;34m\u001b[0m\u001b[0;34m\u001b[0m\u001b[0m\n\u001b[1;32m      5\u001b[0m   \u001b[0mY_token\u001b[0m\u001b[0;34m=\u001b[0m\u001b[0mpd\u001b[0m\u001b[0;34m.\u001b[0m\u001b[0mread_csv\u001b[0m\u001b[0;34m(\u001b[0m\u001b[0;34m'https://raw.githubusercontent.com/nodd3r/recursos/main/datasets/cancer/Token/Y_token.csv'\u001b[0m\u001b[0;34m,\u001b[0m \u001b[0mheader\u001b[0m\u001b[0;34m=\u001b[0m\u001b[0;36m0\u001b[0m\u001b[0;34m)\u001b[0m\u001b[0;34m\u001b[0m\u001b[0;34m\u001b[0m\u001b[0m\n\u001b[0;32m----> 6\u001b[0;31m   \u001b[0mpuntuacion\u001b[0m\u001b[0;34m=\u001b[0m\u001b[0mmodelo_definitivo\u001b[0m\u001b[0;34m.\u001b[0m\u001b[0mscore\u001b[0m\u001b[0;34m(\u001b[0m\u001b[0mX_token\u001b[0m\u001b[0;34m,\u001b[0m\u001b[0mY_token\u001b[0m\u001b[0;34m)\u001b[0m\u001b[0;34m\u001b[0m\u001b[0;34m\u001b[0m\u001b[0m\n\u001b[0m\u001b[1;32m      7\u001b[0m   \u001b[0;32mif\u001b[0m \u001b[0mpuntuacion\u001b[0m\u001b[0;34m>=\u001b[0m\u001b[0;36m0.95\u001b[0m\u001b[0;34m:\u001b[0m\u001b[0;34m\u001b[0m\u001b[0;34m\u001b[0m\u001b[0m\n\u001b[1;32m      8\u001b[0m \u001b[0;34m\u001b[0m\u001b[0m\n",
            "\u001b[0;31mAttributeError\u001b[0m: 'numpy.float64' object has no attribute 'score'"
          ]
        }
      ]
    }
  ]
}